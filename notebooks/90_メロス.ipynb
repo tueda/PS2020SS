{
 "cells": [
  {
   "cell_type": "markdown",
   "metadata": {},
   "source": [
    "# 没ネタ: 走れメロスっぽいなにか"
   ]
  },
  {
   "cell_type": "code",
   "execution_count": null,
   "metadata": {},
   "outputs": [],
   "source": [
    "!pip install markovify mecab-python3"
   ]
  },
  {
   "cell_type": "code",
   "execution_count": null,
   "metadata": {},
   "outputs": [],
   "source": [
    "import functools\n",
    "import io\n",
    "import re\n",
    "import urllib.request\n",
    "import zipfile\n",
    "\n",
    "\n",
    "@functools.lru_cache(maxsize=None)\n",
    "def download_content(url):\n",
    "    \"\"\"Download the content from the given URL.\"\"\"\n",
    "    return urllib.request.urlopen(url).read()\n",
    "\n",
    "\n",
    "def download_text(identifier):\n",
    "    \"\"\"Download a text from the Aozorabunko Github repository.\n",
    "\n",
    "    Example\n",
    "    -------\n",
    "    >>> print(download_text('35/1567'))\n",
    "    \"\"\"\n",
    "\n",
    "    # Check IDs.\n",
    "    m = re.fullmatch(r'(\\d+)/(\\d+)', identifier)\n",
    "    if not m:\n",
    "        raise ValueError(f'unrecognized identifier: {identifier}')\n",
    "    author_id = int(m.group(1))\n",
    "    work_id = int(m.group(2))\n",
    "\n",
    "    # Download the card file.\n",
    "    card = download_content(\n",
    "            'https://raw.githubusercontent.com/aozorabunko/aozorabunko/master/cards/'\n",
    "            f'{author_id:0=6}/card{work_id}.html'\n",
    "        ).decode('utf-8')\n",
    "    \n",
    "    # Find the Zip file name.\n",
    "    m = re.search(r'\\d+_ruby_\\d+\\.zip', card)\n",
    "    if not m:\n",
    "        raise ValueError(f'card not found: {identifier}')\n",
    "    zipname = m.group(0)\n",
    "\n",
    "    # Download the Zip file.\n",
    "    zipdata = zipfile.ZipFile(io.BytesIO(download_content(\n",
    "            'https://raw.githubusercontent.com/aozorabunko/aozorabunko/master/cards/'\n",
    "            f'{author_id:0=6}/files/{zipname}'\n",
    "        )))\n",
    "\n",
    "    # Extract the text from the Zip file.\n",
    "    filename = zipdata.namelist()[0]\n",
    "    text = zipdata.read(filename).decode('shift-jis')\n",
    "\n",
    "    # Remove some anotations.\n",
    "    text = re.split(r'\\-{5,}', text)[2]\n",
    "    text = re.split('底本：', text)[0]\n",
    "    text = re.sub('｜', '', text)\n",
    "    text = re.sub('《.+?》', '', text)\n",
    "    text = re.sub('［＃.+?］', '', text)\n",
    "    text = text.strip()\n",
    "\n",
    "    return text"
   ]
  },
  {
   "cell_type": "code",
   "execution_count": null,
   "metadata": {},
   "outputs": [],
   "source": [
    "text = download_text('35/1567')"
   ]
  },
  {
   "cell_type": "code",
   "execution_count": null,
   "metadata": {},
   "outputs": [],
   "source": [
    "text"
   ]
  },
  {
   "cell_type": "code",
   "execution_count": null,
   "metadata": {},
   "outputs": [],
   "source": [
    "import MeCab\n",
    "\n",
    "parsed_text = MeCab.Tagger('-Owakati').parse(text)"
   ]
  },
  {
   "cell_type": "code",
   "execution_count": null,
   "metadata": {},
   "outputs": [],
   "source": [
    "parsed_text"
   ]
  },
  {
   "cell_type": "code",
   "execution_count": null,
   "metadata": {},
   "outputs": [],
   "source": [
    "import re\n",
    "import markovify\n",
    "\n",
    "normalized_text = parsed_text\n",
    "normalized_text = re.sub('[、「」　]', '', normalized_text)\n",
    "normalized_text = normalized_text.replace('！', '。')\n",
    "\n",
    "model = markovify.Text(normalized_text.split('。'))\n",
    "\n",
    "\n",
    "def make_sentence():\n",
    "    s = model.make_sentence()\n",
    "    if s is not None:\n",
    "        return s.replace(' ', '') + '。'"
   ]
  },
  {
   "cell_type": "code",
   "execution_count": null,
   "metadata": {},
   "outputs": [],
   "source": [
    "for i in range(10):\n",
    "    print(make_sentence())"
   ]
  }
 ],
 "metadata": {
  "kernelspec": {
   "display_name": "Python 3",
   "language": "python",
   "name": "python3"
  },
  "language_info": {
   "codemirror_mode": {
    "name": "ipython",
    "version": 3
   },
   "file_extension": ".py",
   "mimetype": "text/x-python",
   "name": "python",
   "nbconvert_exporter": "python",
   "pygments_lexer": "ipython3",
   "version": "3.7.7"
  }
 },
 "nbformat": 4,
 "nbformat_minor": 4
}
