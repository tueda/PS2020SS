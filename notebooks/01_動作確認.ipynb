{
 "cells": [
  {
   "cell_type": "markdown",
   "metadata": {},
   "source": [
    "次のセルを実行してみよう[<sup id=\"cite_ref-1\">[1]</sup>](#cite_note-1)。また、パラメーター$x_0$を少し変えて実行してみよう。"
   ]
  },
  {
   "cell_type": "code",
   "execution_count": null,
   "metadata": {},
   "outputs": [],
   "source": [
    "# 課題解答1.1  <-- 提出する際に、この行を必ず含めること。\n",
    "%matplotlib inline\n",
    "import matplotlib.pyplot as plt\n",
    "from scipy.integrate import solve_ivp\n",
    "import numpy as np\n",
    "\n",
    "tmax = 10\n",
    "n = 1000\n",
    "\n",
    "s = 10\n",
    "r = 28\n",
    "b = 8 / 3\n",
    "\n",
    "x0 = 0.0001\n",
    "y0 = 1\n",
    "z0 = 20\n",
    "\n",
    "def f(t, a):\n",
    "    x, y, z = a\n",
    "    return [s * (y - x), x * (r - z) - y, x * y - b * z]\n",
    "\n",
    "sol = solve_ivp(f, [0, tmax], [x0, y0, z0], dense_output=True)\n",
    "\n",
    "t = np.linspace(0, tmax, n)\n",
    "a = sol.sol(t)\n",
    "x, y, z = a\n",
    "\n",
    "fig = plt.figure()\n",
    "ax = fig.add_subplot(projection='3d')\n",
    "ax.set_xlabel(\"x\")\n",
    "ax.set_ylabel(\"y\")\n",
    "ax.set_zlabel(\"z\")\n",
    "ax.plot(x, y, z, lw=0.5)\n",
    "plt.tight_layout()\n",
    "plt.show()"
   ]
  },
  {
   "cell_type": "markdown",
   "metadata": {},
   "source": [
    "## 脚注"
   ]
  },
  {
   "cell_type": "markdown",
   "metadata": {},
   "source": [
    "<span id=\"cite_note-1\">1.</span> [^](#cite_ref-1) これはエドワード・ローレンツにより1963年に与えられた、カオス的な振る舞いを示す微分方程式の解の軌道である。半年の講義ではここまでカバーすることはできないが、Pythonをうまく使えばこのような結果がすぐに得られるという例である。"
   ]
  }
 ],
 "metadata": {
  "kernelspec": {
   "display_name": "Python 3",
   "language": "python",
   "name": "python3"
  },
  "language_info": {
   "codemirror_mode": {
    "name": "ipython",
    "version": 3
   },
   "file_extension": ".py",
   "mimetype": "text/x-python",
   "name": "python",
   "nbconvert_exporter": "python",
   "pygments_lexer": "ipython3",
   "version": "3.7.7"
  }
 },
 "nbformat": 4,
 "nbformat_minor": 4
}
