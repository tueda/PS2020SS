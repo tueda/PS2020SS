{
 "cells": [
  {
   "cell_type": "markdown",
   "metadata": {},
   "source": [
    "# 条件判断"
   ]
  },
  {
   "cell_type": "markdown",
   "metadata": {},
   "source": [
    "前回は順次処理、つまり上から下へと順番に何かを行うようなプログラムについて学んだ。今回は「もし～ならば～を行う」のように、ある条件が成り立っているかどうかをプログラムの中で判断して、条件が成り立つ場合のみに何らかの処理を行うことを学ぶ。"
   ]
  },
  {
   "cell_type": "markdown",
   "metadata": {},
   "source": [
    "## if文による条件分岐"
   ]
  },
  {
   "cell_type": "markdown",
   "metadata": {},
   "source": [
    "`if`文を使うと、ある条件が成立している場合のみに何らかの処理を実行することができる。まずは簡単な例を見てみよう。"
   ]
  },
  {
   "cell_type": "code",
   "execution_count": null,
   "metadata": {},
   "outputs": [],
   "source": [
    "n = 10\n",
    "\n",
    "if n > 0:\n",
    "    print('nは正です')"
   ]
  },
  {
   "cell_type": "markdown",
   "metadata": {},
   "source": [
    "ここでのポイントは以下の通りである。\n",
    "- `if`文はキーワード`if`[<sup id=\"cite_ref-1\">[1]</sup>](#cite_note-1)から始まる。\n",
    "- キーワード`if`の後に、条件[<sup id=\"cite_ref-2\">[2]</sup>](#cite_note-2)を与え(上の例では`n > 0`)、その後にコロン(`:`)を書く。\n",
    "- 条件成立の場合に実行する部分(ブロック)は、インデント(右寄せ)のレベルで表す(上の例ではスペース4つ[<sup id=\"cite_ref-3\">[3]</sup>](#cite_note-3))。\n",
    "\n",
    "構文上のブロックがインデントで表される(オフサイドルール; off-side rule)のはPythonの大きな特徴である。"
   ]
  },
  {
   "cell_type": "markdown",
   "metadata": {},
   "source": [
    "`if`文の条件としてよく使われるのは、次のような比較演算であろう。\n",
    "\n",
    "| 演算       | 意味                  | 備考                    |\n",
    "| :--------: | :-------------------- | :---------------------- |\n",
    "|  `x == y`  | `x`と`y`は等しい      | `=`は代入文で使われる。 |\n",
    "|  `x != y`  | `x`と`y`は等しくない  | `=!`ではない。          |\n",
    "|  `x < y`   | `x`は`y`よりも小さい  |                         |\n",
    "|  `x > y`   | `x`は`y`よりも大きい  |                         |\n",
    "|  `x >= y`  | `x`は`y`以上である    | `=>`ではない。          |\n",
    "|  `x <= y`  | `x`は`y`以下である    | `=<`ではない。          |\n",
    "\n",
    "これらの結果は真(`True`)もしくは偽(`False`)となる。`True`と`False`の型は`bool`型である[<sup id=\"cite_ref-4\">[4]</sup>](#cite_note-4)。[<sup id=\"cite_ref-5\">[5]</sup>](#cite_note-5)\n",
    "\n",
    "注意: 浮動小数点数の比較において、等値比較(`x == y`)のように等号を含む比較は「危険」である。浮動小数点数は近似値であり、結果に数値誤差が含まれる可能性を念頭に置かなければならない[<sup id=\"cite_ref-6\">[6]</sup>](#cite_note-6)。"
   ]
  },
  {
   "cell_type": "markdown",
   "metadata": {},
   "source": [
    "## 練習問題"
   ]
  },
  {
   "cell_type": "markdown",
   "metadata": {},
   "source": [
    "次の例では、$n$が正か負かによって、表示する内容を変えている。$n$は整数と仮定する。条件成立時に実行されるブロックに2つ以上の文が入っていることに注意しよう。"
   ]
  },
  {
   "cell_type": "code",
   "execution_count": null,
   "metadata": {},
   "outputs": [],
   "source": [
    "n = 10\n",
    "\n",
    "if n > 0:\n",
    "    print('nは正です')\n",
    "    print('つまりnは0よりも大きいです')\n",
    "    \n",
    "if n < 0:\n",
    "    print('nは負です')\n",
    "    print('つまりnは0よりも小さいです')"
   ]
  },
  {
   "cell_type": "markdown",
   "metadata": {},
   "source": [
    "(1) 実際に$n$を負に設定して、表示される内容が変わることを確かめよう。"
   ]
  },
  {
   "cell_type": "markdown",
   "metadata": {},
   "source": [
    "(2) $n=0$のときに、`nは0です`と表示されるようにしてみよう。"
   ]
  },
  {
   "cell_type": "markdown",
   "metadata": {},
   "source": [
    "## ブール演算"
   ]
  },
  {
   "cell_type": "markdown",
   "metadata": {},
   "source": [
    "比較演算結果のような真偽値をもとに、論理積(`and`)、論理和(`or`)、否定(`not`)を用いて、ブール演算(論理演算とも言う)を行うことができる。[<sup id=\"cite_ref-7\">[7]</sup>](#cite_note-7)\n",
    "\n",
    "| `a`     | `b`     | `a and b` | `a or b` | \n",
    "| :-----: | :-----: | :-------: | :------: |\n",
    "| `True`  | `True`  | `True`    | `True`   |\n",
    "| `True`  | `False` | `False`   | `True`   |\n",
    "| `False` | `True`  | `False`   | `True`   |\n",
    "| `False` | `False` | `False`   | `False`  |\n",
    "\n",
    "| `a`     | `not a`  |\n",
    "| :-----: | :------: |\n",
    "| `True`  | `False`  | \n",
    "| `False` | `True`   |\n",
    "\n",
    "次のセルを実行(評価)して、結果がどうなるか確かめてみよう。"
   ]
  },
  {
   "cell_type": "code",
   "execution_count": null,
   "metadata": {},
   "outputs": [],
   "source": [
    "3 < 5 and 2 < 6"
   ]
  },
  {
   "cell_type": "code",
   "execution_count": null,
   "metadata": {},
   "outputs": [],
   "source": [
    "5 < 3 or 5 < 10"
   ]
  },
  {
   "cell_type": "code",
   "execution_count": null,
   "metadata": {},
   "outputs": [],
   "source": [
    "not 3 < 5"
   ]
  },
  {
   "cell_type": "code",
   "execution_count": null,
   "metadata": {},
   "outputs": [],
   "source": [
    "a = 3 < 5  # 比較演算の結果をaに代入\n",
    "a and 0 < 10"
   ]
  },
  {
   "cell_type": "code",
   "execution_count": null,
   "metadata": {},
   "outputs": [],
   "source": [
    "x = 1\n",
    "y = 2\n",
    "z = 3\n",
    "(x * y) + z > 5 or z % 2 == 1"
   ]
  },
  {
   "cell_type": "markdown",
   "metadata": {},
   "source": [
    "Pythonでは`a < b < c`のような書き方が認められており、これは`a < b and b < c`と同等である。"
   ]
  },
  {
   "cell_type": "code",
   "execution_count": null,
   "metadata": {},
   "outputs": [],
   "source": [
    "x = 1\n",
    "y = 1\n",
    "z = 2\n",
    "w = 2\n",
    "x <= y <= z == w"
   ]
  },
  {
   "cell_type": "markdown",
   "metadata": {},
   "source": [
    "これまでにいくつもの演算子(四則演算子、比較演算子、論理演算子)が出てきたが、これらの間には明確な優先順位があり、Pythonでは[このように](https://docs.python.org/ja/3/reference/expressions.html#operator-precedence)なっている。よくわからないときはカッコを使って明示的に演算順序を指定してもよい。"
   ]
  },
  {
   "cell_type": "code",
   "execution_count": null,
   "metadata": {},
   "outputs": [],
   "source": [
    "x = 1\n",
    "y = 2\n",
    "print(x == 0 and y == 1 or x == 1 and y == 2 or x == 2 and y == 0)\n",
    "print((x == 0 and y == 1) or (x == 1 and y == 2) or (x == 2 and y == 0))  # 上と同じ意味"
   ]
  },
  {
   "cell_type": "markdown",
   "metadata": {},
   "source": [
    "## if...elif...else..."
   ]
  },
  {
   "cell_type": "markdown",
   "metadata": {},
   "source": [
    "「もし～ならば～を行い、さもなければ～を行う」という条件分岐を行いたい場合は、`if`文の中に`else`節を加える。"
   ]
  },
  {
   "cell_type": "code",
   "execution_count": null,
   "metadata": {},
   "outputs": [],
   "source": [
    "n = 10\n",
    "\n",
    "if n % 2 == 0:\n",
    "    print('nは偶数')\n",
    "else:\n",
    "    print('nは奇数')"
   ]
  },
  {
   "cell_type": "markdown",
   "metadata": {},
   "source": [
    "ポイントは、\n",
    "- `else`は対応する`if`と同じインデントのレベルに置く。\n",
    "- `else`の後にコロン(`:`)を書く。\n",
    "- ブロックは(やはり)インデントのレベルで表す。"
   ]
  },
  {
   "cell_type": "markdown",
   "metadata": {},
   "source": [
    "「もし～ならば～を行い、そうでなくてもし～ならば～を行い、…」のような条件分岐を行いたい場合は、`elif`(else if の意味)節を(いくらでも)加えることができる。(最後の`else`節は必要なければなくてもよい。) コロン(`:`)とインデントに注意しよう。"
   ]
  },
  {
   "cell_type": "code",
   "execution_count": null,
   "metadata": {},
   "outputs": [],
   "source": [
    "n = 10\n",
    "\n",
    "if n % 10 == 0:\n",
    "    print('nの1の位は0')\n",
    "elif n % 10 == 1:\n",
    "    print('nの1の位は1')\n",
    "elif n % 10 == 2:\n",
    "    print('nの1の位は2')\n",
    "else:\n",
    "    print('nの1の位は0でも1でも2でもない')"
   ]
  },
  {
   "cell_type": "markdown",
   "metadata": {},
   "source": [
    "注意として、`if...elif...`では、上から順に条件が成立するかどうかをみていき、一番初めに成立した条件に対応したブロック**のみ**が実行される。次の例では、$n=15$は$3$の倍数でも$5$の倍数でもあるが、初めに成立した$3$の倍数という条件に対応したブロックのみが実行される。"
   ]
  },
  {
   "cell_type": "code",
   "execution_count": null,
   "metadata": {},
   "outputs": [],
   "source": [
    "n = 15\n",
    "\n",
    "if n % 3 == 0:\n",
    "    print('nは3の倍数')\n",
    "elif n % 5 == 0:\n",
    "    print('nは5の倍数')\n",
    "else:\n",
    "    print('nは3の倍数でも5の倍数でもない')"
   ]
  },
  {
   "cell_type": "markdown",
   "metadata": {},
   "source": [
    "## 練習問題"
   ]
  },
  {
   "cell_type": "markdown",
   "metadata": {},
   "source": [
    "(3) 上の例において、$n$が$3$の倍数でも$5$の倍数でもあるときは`'nは3の倍数でも5の倍数でもある'`と表示するように書き換えよ。"
   ]
  },
  {
   "cell_type": "markdown",
   "metadata": {},
   "source": [
    "(4) 正の整数$n$に対し、$n$が1桁の数(つまり1以上9以下)なら`'1桁'`、$n$が2桁(10以上99以下)なら`'2桁'`、$n$が3桁なら`'3桁'`、それ以外なら`'4桁以上'`と表示するようなプログラムを書け。"
   ]
  },
  {
   "cell_type": "markdown",
   "metadata": {},
   "source": [
    "## if文のネスト"
   ]
  },
  {
   "cell_type": "markdown",
   "metadata": {},
   "source": [
    "if文は入れ子にできる(ネスト(nesting)と言う)。たとえば、整数$n$が3の倍数かつ5の倍数かつ7の倍数であるかどうか調べるために、"
   ]
  },
  {
   "cell_type": "code",
   "execution_count": null,
   "metadata": {},
   "outputs": [],
   "source": [
    "n = 1785\n",
    "\n",
    "if n % 3 == 0:\n",
    "    if n % 5 == 0:\n",
    "        if n % 7 == 0:\n",
    "            print('nは3の倍数かつ5の倍数かつ7の倍数である')"
   ]
  },
  {
   "cell_type": "markdown",
   "metadata": {},
   "source": [
    "のように書くことができる。ただし、この場合は"
   ]
  },
  {
   "cell_type": "code",
   "execution_count": null,
   "metadata": {},
   "outputs": [],
   "source": [
    "n = 1785\n",
    "\n",
    "if n % 3 == 0 and n % 5 == 0 and n % 7 == 0:\n",
    "    print('nは3の倍数かつ5の倍数かつ7の倍数である')"
   ]
  },
  {
   "cell_type": "markdown",
   "metadata": {},
   "source": [
    "のように書いたり、"
   ]
  },
  {
   "cell_type": "code",
   "execution_count": null,
   "metadata": {},
   "outputs": [],
   "source": [
    "n = 1785\n",
    "\n",
    "if n % (3 * 5 * 7) == 0:\n",
    "    print('nは3の倍数かつ5の倍数かつ7の倍数である')"
   ]
  },
  {
   "cell_type": "markdown",
   "metadata": {},
   "source": [
    "のようにして、ネストなしの等価なプログラムを書くことができる。"
   ]
  },
  {
   "cell_type": "markdown",
   "metadata": {},
   "source": [
    "次の例では、与えられた$(x, y)$の値に応じて、その点がどの象限にあるかを表示する[<sup id=\"cite_ref-8\">[8]</sup>](#cite_note-8)。"
   ]
  },
  {
   "cell_type": "code",
   "execution_count": null,
   "metadata": {},
   "outputs": [],
   "source": [
    "x = 2.0\n",
    "y = 3.0\n",
    "\n",
    "if x >= 0:\n",
    "    if y >= 0:\n",
    "        orthant = 1\n",
    "    else:\n",
    "        orthant = 4\n",
    "else:\n",
    "    if y >= 0:\n",
    "        orthant = 2\n",
    "    else:\n",
    "        orthant = 3\n",
    "    \n",
    "print(f'第{orthant}象限')"
   ]
  },
  {
   "cell_type": "markdown",
   "metadata": {},
   "source": [
    "## モジュールのインポート"
   ]
  },
  {
   "cell_type": "markdown",
   "metadata": {},
   "source": [
    "よく使われるプログラムの機能を再利用可能な形でまとめたものを、プログラミングの用語として一般にモジュール(module)、パッケージ(package)、ライブラリ(library)などと呼ぶ(細かな定義は対象となる分野やプログラミング言語によって異なる)。Pythonでは、再利用可能なプログラムの構成要素の単位としてモジュールがある[<sup id=\"cite_ref-9\">[9]</sup>](#cite_note-9)。Pythonの標準ライブラリ(Pythonをインストールするともれなく付いてくるライブラリ)にはたくさんのモジュールが含まれており、明示的にインポート(取り込み)を行うことによってその機能を使うことができる。"
   ]
  },
  {
   "cell_type": "markdown",
   "metadata": {},
   "source": [
    "次のセルでは[`math`モジュール](https://docs.python.org/ja/3/library/math.html)から`sin`関数をインポートして、それを使用している[<sup id=\"cite_ref-10\">[10]</sup>](#cite_note-10)[<sup id=\"cite_ref-11\">[11]</sup>](#cite_note-11)。"
   ]
  },
  {
   "cell_type": "code",
   "execution_count": null,
   "metadata": {},
   "outputs": [],
   "source": [
    "from math import sin\n",
    "\n",
    "answer = sin(1.0)\n",
    "print(answer)"
   ]
  },
  {
   "cell_type": "markdown",
   "metadata": {},
   "source": [
    "また、次のセルでは[`random`モジュール](https://docs.python.org/ja/3/library/random.html)から`randint`を読み込んで、それを使用している。ここで`randint(a, b)`は整数$a$と$b$に対し$a$以上$b$以下の整数乱数(つまりランダムな整数)を返す。何回も実行して、確かに違う整数が返ってきていることを確かめよ。"
   ]
  },
  {
   "cell_type": "code",
   "execution_count": null,
   "metadata": {},
   "outputs": [],
   "source": [
    "from random import randint\n",
    "\n",
    "r = randint(1, 6)  # サイコロ: 実行するたびに違う1から6の整数\n",
    "print(r)"
   ]
  },
  {
   "cell_type": "markdown",
   "metadata": {},
   "source": [
    "## じゃんけんゲーム"
   ]
  },
  {
   "cell_type": "markdown",
   "metadata": {},
   "source": [
    "もう少し複雑な条件判断の例として、次のようなじゃんけんゲームを考える。\n",
    "- 人間とコンピューターがじゃんけんを1回して勝負する。\n",
    "- 人間はグー、チョキ、パー、のどれかを選ぶ。\n",
    "- コンピューターは、グー、チョキ、パー、のどれかをランダムに選ぶ。\n",
    "- 人間とコンピューターの選んだ手によって、人間の勝ち、コンピューターの勝ち、あいこ、が決まる。\n",
    "\n",
    "これをプログラムによって行いたい。まず、プログラム内でグー、チョキ、パーをどのように表すかを決めなければならない。ここでは、グー、チョキ、パーを次のようにそれぞれ整数$0$、$1$、$2$で表すことにしよう。\n",
    "\n",
    "| グー | チョキ | パー |\n",
    "|:----:|:------:|:----:|\n",
    "| 0    | 1      | 2    |\n",
    "\n",
    "人間の手は`input`関数(と`int`への変換)を用いて入力するとし、コンピューターの手は上で学んだ`randint`を用いて生成することができる。あとは人間の手とコンピューターの手の組み合わせをすべて考え、`if`文を使って結果を判断し、`print`を使って結果を表示すればよい[<sup id=\"cite_ref-12\">[12]</sup>](#cite_note-12)。"
   ]
  },
  {
   "cell_type": "markdown",
   "metadata": {},
   "source": [
    "`if`文の条件として、たとえば人間がグーを出したことを`man == 0`のように書いてもよいが(ここで`man`は人間の手を表した変数とする)、始めにじゃんけんの手を表す「定数」[<sup id=\"cite_ref-13\">[13]</sup>](#cite_note-13)を定義しておき、\n",
    "```python\n",
    "GU = 0\n",
    "CHOKI = 1\n",
    "PA = 2\n",
    "```\n",
    "人間がグーを出したことを`man == GU`と書いた方が、後から読んだとき比較条件が理解しやすいだろう。[<sup id=\"cite_ref-14\">[14]</sup>](#cite_note-14)"
   ]
  },
  {
   "cell_type": "markdown",
   "metadata": {},
   "source": [
    "## 演習課題"
   ]
  },
  {
   "cell_type": "markdown",
   "metadata": {},
   "source": [
    "(1) じゃんけんゲームを完成させよ。提出する前に、何回か実行してうまく動いていることを確認すること。"
   ]
  },
  {
   "cell_type": "code",
   "execution_count": null,
   "metadata": {},
   "outputs": [],
   "source": [
    "# 課題解答3.1  <-- 提出する際に、この行を必ず含めること。\n",
    "\n",
    "from random import randint\n",
    "\n",
    "# じゃんけんの手を表す定数\n",
    "GU = 0\n",
    "CHOKI = 1\n",
    "PA = 2\n",
    "\n",
    "# 人間の手\n",
    "man = int(input('あなたの手を 0 = グー、 1 = チョキ、2 = パー、のどれかから選んでください'))\n",
    "\n",
    "# コンピューターの手\n",
    "com = GU  # ここを書き換えてランダムな手を選ぶようにする。\n",
    "\n",
    "# 結果の判別\n",
    "if man == com:\n",
    "    result = 'あいこ'\n",
    "elif ...:  # ここの条件をうまく書き換える。ヒント: and や or を組み合わせて使ってもよい。\n",
    "    result = 'あなたの勝ち'\n",
    "else:\n",
    "    result = 'コンピューターの勝ち'\n",
    "\n",
    "# 結果を表示\n",
    "print(f'あなた = {man}, コンピューター = {com}: {result}')"
   ]
  },
  {
   "cell_type": "markdown",
   "metadata": {},
   "source": [
    "(2) `randint`を用いて[<sup id=\"cite_ref-15\">[15]</sup>](#cite_note-15)、次のようなおみくじプログラムを作れ。\n",
    "- 乱数を使って、おみくじの内容を決め、その結果を表示する。\n",
    "- おみくじの内容には「大吉」、「吉」、「凶」を含めるものとする。ほかにも「末吉」、「大凶」などを含めてもよいし、「大吉」が出やすいように確率配分に傾斜を入れてもよいが、それぞれの内容が出る確率がすべて10%以上になるようにすること(でないと確認が困難なため)。\n",
    "- なお、内容が表示されない場合があったり、エラーがたまに起こるというのは減点とする(おそらくプログラム作成のミスである)。実行したら必ず何らかのおみくじの内容が表示されるようにすること。"
   ]
  },
  {
   "cell_type": "code",
   "execution_count": null,
   "metadata": {},
   "outputs": [],
   "source": [
    "# 課題解答3.2  <-- 提出する際に、この行を必ず含めること。\n",
    "\n",
    "from random import randint\n",
    "\n",
    "\n",
    "\n"
   ]
  },
  {
   "cell_type": "markdown",
   "metadata": {},
   "source": [
    "## 脚注"
   ]
  },
  {
   "cell_type": "markdown",
   "metadata": {},
   "source": [
    "<span id=\"cite_note-1\">1.</span> [^](#cite_ref-1)\n",
    "`if`は文法的に予約されているキーワード(予約語)なので、`if = 1`のように変数として使おうとすると文法エラーになる。\n",
    "\n",
    "<span id=\"cite_note-2\">2.</span> [^](#cite_ref-2)\n",
    "条件を表す式だから「条件式」と書きたいところだし、現に他のプログラミング言語では「条件式」と説明したりもするのだろうが、Pythonでは[条件式(conditional expression)](https://docs.python.org/ja/3/reference/expressions.html#conditional-expressions)という用語は他のプログラミング言語で言うところの三項演算子(条件演算子)のことを指すようだ。\n",
    "\n",
    "<span id=\"cite_note-3\">3.</span> [^](#cite_ref-3)\n",
    "Jupyterのエディタのデフォルトである。`Tab`キーと`Shift+Tab`キーを使ってインデント、アンインデントすることもできる。\n",
    "\n",
    "<span id=\"cite_note-4\">4.</span> [^](#cite_ref-4)\n",
    "プログラミングで論理型を表すのによく出てくるブール(bool)、ブーリアン(boolean)という名称はジョージ・ブールに因む。\n",
    "\n",
    "<span id=\"cite_note-5\">5.</span> [^](#cite_ref-5)\n",
    "`if`文の条件に`bool`型以外の式を与えた場合、[一定の規則](https://docs.python.org/ja/3/library/stdtypes.html#truth-value-testing)をもとに`bool`型への変換が起こる。例えば、整数の場合、`0`は`False`、それ以外は`True`とみなされる。文字列であれば、空(長さが0)であれば`False`、そうでなければ`True`である。\n",
    "\n",
    "<span id=\"cite_note-6\">6.</span> [^](#cite_ref-6)\n",
    "2つの浮動小数点数が非常に近い値を持つという条件判断を自分で書いたり、もしくはそのために[用意されているライブラリ関数](https://docs.python.org/ja/3/library/math.html#math.isclose)を使うことになる。\n",
    "\n",
    "<span id=\"cite_note-7\">7.</span> [^](#cite_ref-7)\n",
    "(初めは意味が分からなくてよい:)Pythonの`and`と`or`は短絡評価である。つまり左辺の真偽によって結果が決まるなら、右辺は評価されない。また、両辺のどちらかが必ず返され、その結果は`bool`型とは限らない。(例: `'お金' or '愛'`は、左辺の`'お金'`を`bool`に変換すると`True`なので、`'お金'`と評価される。`'love' and 'peace'`は`'peace'`となる。)\n",
    "\n",
    "<span id=\"cite_note-8\">8.</span> [^](#cite_ref-8)\n",
    "ただし$x$軸上の点、$y$軸上の点をどうするのかは、深く考えないこととする。\n",
    "\n",
    "<span id=\"cite_note-9\">9.</span> [^](#cite_ref-9)\n",
    "モジュールの実態はPythonの定義や文が書かれた`.py`ファイルである。\n",
    "\n",
    "<span id=\"cite_note-10\">10.</span> [^](#cite_ref-10)\n",
    "`from math import sin`は`sin`関数を呼び出す前に一度実行すればよいが、何度実行しても別に構わないので、`sin`がインポートされていることを確実にするため、ここでは`sin`を呼び出しているセルの始めに一緒に書いておくことにする。\n",
    "\n",
    "<span id=\"cite_note-11\">11.</span> [^](#cite_ref-11)\n",
    "(初めは意味が分からなくてよい:)`sin`をローカル名前空間に読み込まず、`math`だけをローカル名前空間に読み込むようにしてもよい。つまり、次のように書ける:\n",
    "```python\n",
    "import math\n",
    "answer = math.sin(1.0)\n",
    "print(answer)\n",
    "```\n",
    "\n",
    "<span id=\"cite_note-12\">12.</span> [^](#cite_ref-12)\n",
    "このようにプログラムの手順を考えると同時に、当然ながらプログラム中で何を変数として記憶しておくべきかを考える必要がある。大雑把に言うと[プログラムとはアルゴリズム(計算手順)とそれに伴うデータ構造](https://en.wikipedia.org/wiki/Algorithms_%2B_Data_Structures_%3D_Programs)からできている。\n",
    "\n",
    "<span id=\"cite_note-13\">13.</span> [^](#cite_ref-13)\n",
    "Pythonには、ほかのプログラミング言語にある「定数」のような機能はないのだが、すべて大文字で書かれた変数は「定数」としよう、という「[マナー](https://www.python.org/dev/peps/pep-0008/#constants)」がある。(このマナーを破って「定数」を変更してしまうこともできるが、大いなる混沌を招くであろう。)\n",
    "\n",
    "<span id=\"cite_note-14\">14.</span> [^](#cite_ref-14)\n",
    "ここで説明しているように、人間の手とコンピュータの手の組み合わせをいろいろと考えて条件を考えてみて欲しいが(ブール演算の良い練習となる)、実は`(man - com) % 3`という式を考えると...\n",
    "\n",
    "<span id=\"cite_note-15\">15.</span> [^](#cite_ref-15)\n",
    "`random`モジュールの`choice`を使った方がきれいなプログラムができるとは思うが、ここでは`randint`を使ってください。"
   ]
  }
 ],
 "metadata": {
  "kernelspec": {
   "display_name": "Python 3",
   "language": "python",
   "name": "python3"
  },
  "language_info": {
   "codemirror_mode": {
    "name": "ipython",
    "version": 3
   },
   "file_extension": ".py",
   "mimetype": "text/x-python",
   "name": "python",
   "nbconvert_exporter": "python",
   "pygments_lexer": "ipython3",
   "version": "3.7.7"
  }
 },
 "nbformat": 4,
 "nbformat_minor": 4
}
