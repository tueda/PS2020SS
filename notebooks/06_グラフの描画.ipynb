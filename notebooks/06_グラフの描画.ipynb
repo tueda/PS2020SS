{
 "cells": [
  {
   "cell_type": "markdown",
   "metadata": {},
   "source": [
    "# グラフの描画"
   ]
  },
  {
   "cell_type": "markdown",
   "metadata": {},
   "source": [
    "実験や観測、コンピューターシミュレーションで得られた(一般に複雑な)データに潜む規則性や関係性を、人間が目で見てすぐ分かる形にすること(可視化; visualization)は重要である。今回は[Matplotlib](https://matplotlib.org/)という可視化ライブラリを用いて、Pythonでグラフ等を作成する方法を学ぶ[<sup id=\"cite_ref-1\">[1]</sup>](#cite_note-1)。"
   ]
  },
  {
   "cell_type": "markdown",
   "metadata": {},
   "source": [
    "## おまじない"
   ]
  },
  {
   "cell_type": "markdown",
   "metadata": {},
   "source": [
    "MatplotlibのJupyter上での使い方をインターネットで検索すると、(入門者用に)まず次の「おまじない」を書くように、と記してあることがある。"
   ]
  },
  {
   "cell_type": "code",
   "execution_count": null,
   "metadata": {},
   "outputs": [],
   "source": [
    "%matplotlib inline\n",
    "import matplotlib.pyplot as plt\n",
    "import numpy as np"
   ]
  },
  {
   "cell_type": "markdown",
   "metadata": {},
   "source": [
    "プログラミングに真の意味での「おまじない」[<sup id=\"cite_ref-2\">[2]</sup>](#cite_note-2)など存在しないので、まずはこれらを説明していこう。"
   ]
  },
  {
   "cell_type": "markdown",
   "metadata": {},
   "source": [
    "1行目の`%matplotlib inline`のように、`%`から始まるコマンドはJupyterによって解釈されるマジックコマンド(magic command)と呼ばれるものである[<sup id=\"cite_ref-3\">[3]</sup>](#cite_note-3)。この場合、Matplotlibの出力をインライン画像として表示することを指定している。Jupyter環境ではない素のPythonを使う場合、マジックコマンドを書くと文法エラーとなるので注意が必要である。"
   ]
  },
  {
   "cell_type": "markdown",
   "metadata": {},
   "source": [
    "2行目の`import matplotlib.pyplot as plt`は、Matplotlibのpyplotモジュールをインポートとし、それに`plt`と別名を付けて使えるようにしている。Matplotlibのような大きなライブラリは、いくつもの(サブ)モジュールをまとめたもの(パッケージと呼ぶ)として作られている。この行ではそのうちの`matplotlib.pyplot`をインポートしているのであるが、そのままだとpyplotモジュール内の関数を呼び出すときに`matplotlib.pyplot.show()`のように呼び出す必要がある。これでは少々長いので別名をつけて`plt.show()`として呼び出せるようにしている。"
   ]
  },
  {
   "cell_type": "markdown",
   "metadata": {},
   "source": [
    "3行目の`import numpy as np`は[NumPy](https://numpy.org/)というモジュールをインポートして、それに`np`と別名を付けている[<sup id=\"cite_ref-4\">[4]</sup>](#cite_note-4)。NumPyは数値計算を効率的に行うためのライブラリ[<sup id=\"cite_ref-5\">[5]</sup>](#cite_note-5)であり、Matplotlibをインストールすると、NumPyも自動的にインストールされる[<sup id=\"cite_ref-6\">[6]</sup>](#cite_note-6)。この行は、NumPyの機能を直接使うのでなければ必要ない。"
   ]
  },
  {
   "cell_type": "markdown",
   "metadata": {},
   "source": [
    "上の「おまじない」は1回だけ実行すればよいのだが、セルを一つだけ実行したときにも動くように、以下では(できるだけ)各セル内にも書くこととする。"
   ]
  },
  {
   "cell_type": "markdown",
   "metadata": {},
   "source": [
    "## 基本的なグラフ"
   ]
  },
  {
   "cell_type": "markdown",
   "metadata": {},
   "source": [
    "次の例では、簡単なグラフを表示している。"
   ]
  },
  {
   "cell_type": "code",
   "execution_count": null,
   "metadata": {},
   "outputs": [],
   "source": [
    "# 上で説明した「おまじない」。\n",
    "%matplotlib inline\n",
    "import matplotlib.pyplot as plt\n",
    "\n",
    "# 点の座標を与えるリスト。\n",
    "xpoints = [0, 1, 2, 3, 4]\n",
    "ypoints = [0, 2, 7, 5, 6]\n",
    "\n",
    "# グラフを作成して表示する。\n",
    "fig, ax = plt.subplots()\n",
    "ax.plot(xpoints, ypoints)\n",
    "plt.show()"
   ]
  },
  {
   "cell_type": "markdown",
   "metadata": {},
   "source": [
    "ここでは`plt`モジュール(=`matplotlib.pyplot`モジュール)の[`subplots`関数](https://matplotlib.org/api/_as_gen/matplotlib.pyplot.subplots.html#matplotlib-pyplot-subplots)[<sup id=\"cite_ref-7\">[7]</sup>](#cite_note-7)を呼び出している。返ってくる値は[`Figure`オブジェクト](https://matplotlib.org/api/_as_gen/matplotlib.figure.Figure.html#matplotlib-figure-figure)と[`Axes`オブジェクト](https://matplotlib.org/api/axes_api.html#the-axes-class)であり[<sup id=\"cite_ref-8\">[8]</sup>](#cite_note-8)、それぞれを`fig`と`ax`という変数に代入している。Microsoft Excelで作るグラフや[この図](https://matplotlib.org/tutorials/introductory/usage.html#parts-of-a-figure)を見るとわかるように、図というのは多くの部品からできている。よって、それぞれの部品をオブジェクトと考えて、その組み合わせとして図を作るのは筋のよい考え方であり、Matplotlibもオブジェクト指向プログラミングを基にして利用できるようになっている[<sup id=\"cite_ref-9\">[9]</sup>](#cite_note-9)。`Figure`オブジェクトは一つの図全体を表し、`Axes`オブジェクトは図の中の一つの座標軸を表している。一つの図の中に二つ以上の座標軸を作ることもできるが、ここでは座標軸を一つだけ作っている。"
   ]
  },
  {
   "cell_type": "markdown",
   "metadata": {},
   "source": [
    "次に`ax`の[`plot`メソッド](https://matplotlib.org/api/_as_gen/matplotlib.axes.Axes.plot.html#matplotlib-axes-axes-plot)を呼び出して折れ線グラフを描いている。与えている引数は、グラフの点のx座標とy座標を表す二つのリストである。[`plot`メソッド](https://matplotlib.org/api/_as_gen/matplotlib.axes.Axes.plot.html#matplotlib-axes-axes-plot)は非常にたくさんのオプション引数を受け付ける。例えば`ax.plot(xpoints, ypoints, color='red', marker='o', linestyle='dashed', linewidth=0.5, markersize=15.0)`などとすると、線種やマーカーを変更することができる(それぞれのオプションの意味は明らかであろう)。"
   ]
  },
  {
   "cell_type": "markdown",
   "metadata": {},
   "source": [
    "最後に`plt`モジュールの[`show`関数](https://matplotlib.org/api/_as_gen/matplotlib.pyplot.show.html?highlight=show#matplotlib-pyplot-show)を呼び出して、作成したグラフを表示している[<sup id=\"cite_ref-10\">[10]</sup>](#cite_note-10)。この例では、変数`fig`に格納された[`Figure`オブジェクト](https://matplotlib.org/api/_as_gen/matplotlib.figure.Figure.html#matplotlib-figure-figure)を(直接は)使用していない。"
   ]
  },
  {
   "cell_type": "markdown",
   "metadata": {},
   "source": [
    "[`Axes`オブジェクト](https://matplotlib.org/api/axes_api.html#the-axes-class)の[`plot`メソッド](https://matplotlib.org/api/_as_gen/matplotlib.axes.Axes.plot.html#matplotlib-axes-axes-plot)は、第3引数として線種とマーカーの形式を与えることができる。例えば折れ線を引かずにマーカーのみのグラフを描きたければ、"
   ]
  },
  {
   "cell_type": "code",
   "execution_count": null,
   "metadata": {},
   "outputs": [],
   "source": [
    "%matplotlib inline\n",
    "import matplotlib.pyplot as plt\n",
    "\n",
    "xpoints = [0, 1, 2, 3, 4]\n",
    "ypoints = [0, 2, 7, 5, 6]\n",
    "\n",
    "fig, ax = plt.subplots()\n",
    "ax.plot(xpoints, ypoints, 'o')  # マーカーのみ(o)\n",
    "plt.show()"
   ]
  },
  {
   "cell_type": "markdown",
   "metadata": {},
   "source": [
    "あるいは次の例のように[`Axes`オブジェクト](https://matplotlib.org/api/axes_api.html#the-axes-class)の[`scatter`メソッド](https://matplotlib.org/api/_as_gen/matplotlib.axes.Axes.scatter.html#matplotlib-axes-axes-scatter)を使って散布図として描いてもよい[<sup id=\"cite_ref-11\">[11]</sup>](#cite_note-11)。"
   ]
  },
  {
   "cell_type": "code",
   "execution_count": null,
   "metadata": {},
   "outputs": [],
   "source": [
    "%matplotlib inline\n",
    "import matplotlib.pyplot as plt\n",
    "\n",
    "xpoints = [0, 1, 2, 3, 4]\n",
    "ypoints = [0, 2, 7, 5, 6]\n",
    "\n",
    "fig, ax = plt.subplots()\n",
    "ax.scatter(xpoints, ypoints)  # 散布図\n",
    "plt.show()"
   ]
  },
  {
   "cell_type": "markdown",
   "metadata": {},
   "source": [
    "複数の折れ線グラフを重ねたいときは、[`Axes`オブジェクト](https://matplotlib.org/api/axes_api.html#the-axes-class)の[`plot`メソッド](https://matplotlib.org/api/_as_gen/matplotlib.axes.Axes.plot.html#matplotlib-axes-axes-plot)を必要なだけ呼べばよい。"
   ]
  },
  {
   "cell_type": "code",
   "execution_count": null,
   "metadata": {},
   "outputs": [],
   "source": [
    "%matplotlib inline\n",
    "import matplotlib.pyplot as plt\n",
    "\n",
    "xpoints1 = [1, 2, 3, 5, 8]\n",
    "ypoints1 = [1, 2, 7, 5, 6]\n",
    "\n",
    "xpoints2 = [1, 4, 5, 7, 8]\n",
    "ypoints2 = [1, 3, 6, 4, 6]\n",
    "\n",
    "fig, ax = plt.subplots()\n",
    "ax.plot(xpoints1, ypoints1)  # 複数の折れ線グラフ\n",
    "ax.plot(xpoints2, ypoints2)\n",
    "plt.show()"
   ]
  },
  {
   "cell_type": "markdown",
   "metadata": {},
   "source": [
    "一つのセルの中で、複数の図を作成してもよい。"
   ]
  },
  {
   "cell_type": "code",
   "execution_count": null,
   "metadata": {},
   "outputs": [],
   "source": [
    "%matplotlib inline\n",
    "import matplotlib.pyplot as plt\n",
    "\n",
    "xpoints1 = [1, 2, 3, 5, 8]\n",
    "ypoints1 = [1, 2, 7, 5, 6]\n",
    "\n",
    "xpoints2 = [1, 4, 5, 7, 8]\n",
    "ypoints2 = [1, 3, 6, 4, 6]\n",
    "\n",
    "fig, ax = plt.subplots()     # 一つ目の図\n",
    "ax.plot(xpoints1, ypoints1)\n",
    "plt.show()\n",
    "\n",
    "fig, ax = plt.subplots()     # 二つ目の図\n",
    "ax.plot(xpoints2, ypoints2)\n",
    "plt.show()"
   ]
  },
  {
   "cell_type": "markdown",
   "metadata": {},
   "source": [
    "凡例をつけたいときは、[`Axes`オブジェクト](https://matplotlib.org/api/axes_api.html#the-axes-class)の[`legend`メソッド](https://matplotlib.org/api/_as_gen/matplotlib.axes.Axes.legend.html#matplotlib-axes-axes-legend)を使う。ただし、[`Axes`オブジェクト](https://matplotlib.org/api/axes_api.html#the-axes-class)の[`plot`メソッド](https://matplotlib.org/api/_as_gen/matplotlib.axes.Axes.plot.html#matplotlib-axes-axes-plot)を呼ぶときにオプション引数`label`を指定しておく必要がある。"
   ]
  },
  {
   "cell_type": "code",
   "execution_count": null,
   "metadata": {},
   "outputs": [],
   "source": [
    "%matplotlib inline\n",
    "import matplotlib.pyplot as plt\n",
    "\n",
    "xpoints1 = [1, 2, 3, 5, 8]\n",
    "ypoints1 = [1, 2, 7, 5, 6]\n",
    "\n",
    "xpoints2 = [1, 4, 5, 7, 8]\n",
    "ypoints2 = [1, 3, 6, 4, 6]\n",
    "\n",
    "fig, ax = plt.subplots()\n",
    "ax.plot(xpoints1, ypoints1, label='graph 1')\n",
    "ax.plot(xpoints2, ypoints2, label='graph 2')\n",
    "ax.legend()  # 凡例を表示\n",
    "ax.grid()    # グリッドを表示\n",
    "plt.show()"
   ]
  },
  {
   "cell_type": "markdown",
   "metadata": {},
   "source": [
    "このほかにも、[`Axes`オブジェクト](https://matplotlib.org/api/axes_api.html#the-axes-class)のメソッドを呼ぶことで、グラフの細かな設定をいろいろと変えることができる。"
   ]
  },
  {
   "cell_type": "code",
   "execution_count": null,
   "metadata": {},
   "outputs": [],
   "source": [
    "%matplotlib inline\n",
    "import matplotlib.pyplot as plt\n",
    "\n",
    "xpoints1 = [1, 2, 3, 5, 8]\n",
    "ypoints1 = [1, 2, 7, 5, 6]\n",
    "\n",
    "xpoints2 = [1, 4, 5, 7, 8]\n",
    "ypoints2 = [1, 3, 6, 4, 6]\n",
    "\n",
    "fig, ax = plt.subplots()\n",
    "ax.plot(xpoints1, ypoints1, label='graph 1')\n",
    "ax.plot(xpoints2, ypoints2, label='graph 2')\n",
    "ax.set_title('our example')   # タイトル\n",
    "ax.set_xlabel('x')            # x軸のラベル\n",
    "ax.set_ylabel('y')            # y軸のラベル\n",
    "ax.set_xlim(1, 10)            # x軸の範囲\n",
    "ax.set_ylim(1, 10)            # y軸の範囲\n",
    "ax.set_xscale('log')          # x軸を対数目盛に\n",
    "ax.set_yscale('log')          # y軸を対数目盛に\n",
    "ax.legend(loc='lower right')  # 凡例: 位置(loc)は右下\n",
    "ax.set_aspect('equal')        # アスペクト比を座標軸の長さの比に揃える\n",
    "plt.show()"
   ]
  },
  {
   "cell_type": "markdown",
   "metadata": {},
   "source": [
    "なお、Matplotlibに与えるタイトルやラベルでは、[LaTeX表記による数式](https://matplotlib.org/tutorials/text/mathtext.html#sphx-glr-tutorials-text-mathtext-py)が使用可能である[<sup id=\"cite_ref-12\">[12]</sup>](#cite_note-12)。次のセルではタイトルと軸ラベルに加えて、さらに[`Axes`オブジェクト](https://matplotlib.org/api/axes_api.html#the-axes-class)の[`text`メソッド](https://matplotlib.org/api/_as_gen/matplotlib.axes.Axes.text.html#matplotlib-axes-axes-text)を用いて文字列を描いている。"
   ]
  },
  {
   "cell_type": "code",
   "execution_count": null,
   "metadata": {},
   "outputs": [],
   "source": [
    "%matplotlib inline\n",
    "import matplotlib.pyplot as plt\n",
    "\n",
    "xpoints = [-2, 5]\n",
    "ypoints = [-3, 11]\n",
    "\n",
    "fig, ax = plt.subplots()\n",
    "ax.plot(xpoints, ypoints)\n",
    "ax.set_title(r'$f(x) = \\alpha x + \\beta$')  # LaTeX表記によるタイトル\n",
    "ax.set_xlabel('$x$')\n",
    "ax.set_ylabel('$y = f(x)$')\n",
    "ax.text(-2, 10, r'$\\alpha = 2$')\n",
    "ax.text(-2, 9, r'$\\beta = 1$')\n",
    "plt.show()"
   ]
  },
  {
   "cell_type": "markdown",
   "metadata": {},
   "source": [
    "日本語を含むタイトルやラベル、テキストをMatplotlibで表示しようとすると、文字化けが起こることが多いので注意が必要である[<sup id=\"cite_ref-13\">[13]</sup>](#cite_note-13)。"
   ]
  },
  {
   "cell_type": "markdown",
   "metadata": {},
   "source": [
    "Matplotlibを使えば、折れ線グラフや散布図以外にもいろいろな種類のグラフが描ける。詳しくは[チュートリアル](https://matplotlib.org/tutorials/index.html)や[ギャラリー](https://matplotlib.org/gallery/index.html)を見てほしい。ここでは、もう一つの例としてヒストグラム(度数分布図)の描き方を紹介しよう。使うのは[`Axes`オブジェクト](https://matplotlib.org/api/axes_api.html#the-axes-class)の[`hist`メソッド](https://matplotlib.org/api/_as_gen/matplotlib.axes.Axes.hist.html#matplotlib-axes-axes-hist)である。"
   ]
  },
  {
   "cell_type": "code",
   "execution_count": null,
   "metadata": {},
   "outputs": [],
   "source": [
    "%matplotlib inline\n",
    "import matplotlib.pyplot as plt\n",
    "\n",
    "data = [0.1, 1.2, 1.5, 1.9, 2.1, 2.2, 2.6, 3.3, 3.4, 3.5]\n",
    "\n",
    "fig, ax = plt.subplots()\n",
    "ax.hist(data, bins=4)  # ビンの数は4つ\n",
    "plt.show()"
   ]
  },
  {
   "cell_type": "markdown",
   "metadata": {},
   "source": [
    "## 関数のグラフを描く"
   ]
  },
  {
   "cell_type": "markdown",
   "metadata": {},
   "source": [
    "上で見たように、描く点のx座標とy座標がそれぞれリストとして与えられれば、それをMatplotlibを用いて折れ線グラフや散布図として描画するのは簡単である。ここでは$y=f(x)$の形で与えられる関数のグラフを$x_\\text{min} \\le x \\le x_\\text{max}$の範囲で描くことを考える。そのためには$x$の範囲を$(n-1)$等分して、両端を含めた$n$個の点の座標を計算し、リストに加え、これを使って折れ線グラフを作ればよい。分割数$(n-1)$が十分に大きければ、人間の目には折れ線と曲線の区別はつかない。"
   ]
  },
  {
   "cell_type": "markdown",
   "metadata": {},
   "source": [
    "次の例では、$y=f(x)=x^2$のグラフのための座標のリストを作っている。ここで、"
   ]
  },
  {
   "cell_type": "markdown",
   "metadata": {},
   "source": [
    "$$\n",
    "x_i = x_\\text{min} + (x_\\text{max} - x_\\text{min}) \\times \\frac{i}{n-1},\n",
    "\\quad \\text{for } 0 \\le i \\le n - 1,\n",
    "\\tag{1}\n",
    "$$"
   ]
  },
  {
   "cell_type": "markdown",
   "metadata": {},
   "source": [
    "が$x_\\text{min} \\le x \\le x_\\text{max}$の範囲を$(n-1)$等分した$n$個の点の$x$座標を与えることに注意しよう。出力されたリストの中身を目で確認できるように、$n$の値は小さめに設定してある。"
   ]
  },
  {
   "cell_type": "code",
   "execution_count": null,
   "metadata": {},
   "outputs": [],
   "source": [
    "xmin = -3  # xの下限\n",
    "xmax = 3   # xの上限\n",
    "n = 13     # 点の数\n",
    "\n",
    "def f(x):\n",
    "    return x ** 2\n",
    "\n",
    "xpoints = []\n",
    "ypoints = []\n",
    "\n",
    "for i in range(n):\n",
    "    # i番目の点のx座標、y座標を計算してそれぞれリストに追加する。\n",
    "    x = xmin + (xmax - xmin) * i / (n - 1)\n",
    "    y = f(x)\n",
    "    xpoints.append(x)\n",
    "    ypoints.append(y)\n",
    "\n",
    "print(xpoints)\n",
    "print(ypoints)"
   ]
  },
  {
   "cell_type": "markdown",
   "metadata": {},
   "source": [
    "あるいは、まず$x$座標のリストを作ってから、その中の$x$の値を使って$y$座標のリストを作ってもよいだろう[<sup id=\"cite_ref-14\">[14]</sup>](#cite_note-14)。"
   ]
  },
  {
   "cell_type": "code",
   "execution_count": null,
   "metadata": {},
   "outputs": [],
   "source": [
    "xmin = -3  # xの下限\n",
    "xmax = 3   # xの上限\n",
    "n = 13     # 点の数\n",
    "\n",
    "def f(x):\n",
    "    return x ** 2\n",
    "\n",
    "xpoints = []\n",
    "\n",
    "for i in range(n):\n",
    "    # i番目の点のx座標を計算してリストに追加する。\n",
    "    x = xmin + (xmax - xmin) * i / (n - 1)\n",
    "    xpoints.append(x)\n",
    "\n",
    "ypoints = []\n",
    "\n",
    "for x in xpoints:\n",
    "    # x座標に対応したy座標を計算してリストに追加する。\n",
    "    y = f(x)\n",
    "    ypoints.append(y)\n",
    "\n",
    "print(xpoints)\n",
    "print(ypoints)"
   ]
  },
  {
   "cell_type": "markdown",
   "metadata": {},
   "source": [
    "こうして得られたリストからMatplotlibを用いて折れ線グラフを描くのは容易であろう。"
   ]
  },
  {
   "cell_type": "markdown",
   "metadata": {},
   "source": [
    "上の例のようにリストに自分で点を追加していく方法は応用が利く半面、あらかじめ陽に形が分かっている関数のグラフを描くだけのためには少々長ったらしい。これはNumPyの機能を使うと次のように書ける[<sup id=\"cite_ref-15\">[15]</sup>](#cite_note-15)[<sup id=\"cite_ref-16\">[16]</sup>](#cite_note-16)。"
   ]
  },
  {
   "cell_type": "code",
   "execution_count": null,
   "metadata": {},
   "outputs": [],
   "source": [
    "import numpy as np\n",
    "\n",
    "xmin = -3\n",
    "xmax = 3\n",
    "n = 13\n",
    "\n",
    "@np.vectorize\n",
    "def f(x):\n",
    "    return x ** 2\n",
    "\n",
    "xpoints = np.linspace(xmin, xmax, n)\n",
    "ypoints = f(xpoints)\n",
    "\n",
    "print(xpoints)\n",
    "print(ypoints)"
   ]
  },
  {
   "cell_type": "markdown",
   "metadata": {},
   "source": [
    "まず、`xpoints`が[`np.linespace`という関数](https://numpy.org/doc/stable/reference/generated/numpy.linspace.html)によって生成されている。出力を見て推測できるように、この関数は与えられた範囲を等間隔に分割する数列をリストとして返す。"
   ]
  },
  {
   "cell_type": "markdown",
   "metadata": {},
   "source": [
    "次に、`def f(x)`の直前に`@np.vectorize`という見慣れないものが付いていることに気づくだろう。このような`@`から始まる行は[デコレータ(decorator)](https://docs.python.org/ja/3/glossary.html#term-decorator)構文と呼ばれ、直後に`def`文で定義される関数を「修飾する」ことができる[<sup id=\"cite_ref-17\">[17]</sup>](#cite_note-17)。この場合、関数`f`は[`np.vectorize`](https://numpy.org/doc/stable/reference/generated/numpy.vectorize.html)によって「修飾」されている。その結果、関数`f`はリストを引数に与えるとそれに対応したリストを返すように「ベクトル化」される。"
   ]
  },
  {
   "cell_type": "code",
   "execution_count": null,
   "metadata": {},
   "outputs": [],
   "source": [
    "import numpy as np\n",
    "\n",
    "@np.vectorize\n",
    "def f(x):\n",
    "    return x ** 2\n",
    "\n",
    "print(f(0))             # 普通の呼び出し\n",
    "print(f(1))\n",
    "print(f(2))\n",
    "print(f(3))\n",
    "print(f([0, 1, 2, 3]))  # ベクトル化されているのでリストを与えるとリストを返す"
   ]
  },
  {
   "cell_type": "markdown",
   "metadata": {},
   "source": [
    "よって、`ypoints = f(xpoints)`とするだけで、与えられたx座標のリスト`xpoints`に対応したy座標のリストが得られる。"
   ]
  },
  {
   "cell_type": "markdown",
   "metadata": {},
   "source": [
    "NumPyにはすでにベクトル化された[数学関数](https://numpy.org/doc/stable/reference/routines.math.html)が多数用意されている。例えば[sin関数](https://numpy.org/doc/stable/reference/generated/numpy.sin.html)を、"
   ]
  },
  {
   "cell_type": "code",
   "execution_count": null,
   "metadata": {},
   "outputs": [],
   "source": [
    "print(np.sin([0.0, 0.5, 1.0]))"
   ]
  },
  {
   "cell_type": "markdown",
   "metadata": {},
   "source": [
    "のように使うことができる。"
   ]
  },
  {
   "cell_type": "markdown",
   "metadata": {},
   "source": [
    "以上のことをまとめると、関数$y=x^2$のグラフを描くプログラムは次のように書ける。"
   ]
  },
  {
   "cell_type": "code",
   "execution_count": null,
   "metadata": {},
   "outputs": [],
   "source": [
    "%matplotlib inline\n",
    "import matplotlib.pyplot as plt\n",
    "import numpy as np\n",
    "\n",
    "xmin = -3\n",
    "xmax = 3\n",
    "npoints = 100\n",
    "\n",
    "@np.vectorize\n",
    "def f(x):\n",
    "    return x ** 2\n",
    "\n",
    "xpoints = np.linspace(xmin, xmax, npoints)\n",
    "ypoints = f(xpoints)\n",
    "\n",
    "fig, ax = plt.subplots()\n",
    "ax.plot(xpoints, ypoints)\n",
    "plt.show()"
   ]
  },
  {
   "cell_type": "markdown",
   "metadata": {},
   "source": [
    "## 練習問題"
   ]
  },
  {
   "cell_type": "markdown",
   "metadata": {},
   "source": [
    "(1) 次の関数$f(x)$のグラフを与えられた範囲で描け。ただし、`sin`関数と`cos`関数、`pi`定数は[`math`モジュール](https://docs.python.org/ja/3/library/math.html)および[`numpy`モジュール](https://numpy.org/doc/stable/reference/routines.math.html)の中に定義されている。"
   ]
  },
  {
   "cell_type": "markdown",
   "metadata": {},
   "source": [
    "(a) $f(x) = (x - 1) (x - 3) (x - 9)$, $0 \\le x \\le 10$. "
   ]
  },
  {
   "cell_type": "markdown",
   "metadata": {},
   "source": [
    "(b) $f(x) = \\sin(x + \\delta)$, $0 \\le x \\le 2 \\pi$. (ただし$\\delta$は定数、好きな値に取ってよい。例: $\\delta=0.2$)"
   ]
  },
  {
   "cell_type": "markdown",
   "metadata": {},
   "source": [
    "(c) $f(x) = \\sin\\bigl(x \\cos(x)\\bigr)$, $0 \\le x \\le 2\\pi$."
   ]
  },
  {
   "cell_type": "markdown",
   "metadata": {},
   "source": [
    "## マクローリン展開"
   ]
  },
  {
   "cell_type": "markdown",
   "metadata": {},
   "source": [
    "$\\sin(x)$のマクローリン展開は"
   ]
  },
  {
   "cell_type": "markdown",
   "metadata": {},
   "source": [
    "$$\n",
    "\\sin(x)\n",
    "=\n",
    "x - \\frac{x^3}{3!} + \\frac{x^5}{5!} - \\frac{x^7}{7!} + \\frac{x^9}{9!} - \\cdots\n",
    "=\n",
    "\\sum_{k=1}^\\infty\n",
    "\\frac{(-1)^{k-1}}{(2k-1)!}\n",
    "x^{2k-1}\n",
    ",\n",
    "\\tag{2}\n",
    "$$"
   ]
  },
  {
   "cell_type": "markdown",
   "metadata": {},
   "source": [
    "で与えられる。右辺を有限の項数で打ち切ると$\\sin(x)$の近似式が得られるが、それがどのくらいよい近似になっているのか、グラフを描くことで確かめてみよう。"
   ]
  },
  {
   "cell_type": "code",
   "execution_count": null,
   "metadata": {},
   "outputs": [],
   "source": [
    "%matplotlib inline\n",
    "import matplotlib.pyplot as plt\n",
    "import numpy as np\n",
    "from math import factorial  # 階乗を返す関数\n",
    "\n",
    "# 最大で第5項までの展開を考える。\n",
    "m = 5\n",
    "\n",
    "xpoints = np.linspace(-3, 3, 100)\n",
    "\n",
    "# sin(x)を第n項までのマクローリン展開によって計算する関数。\n",
    "@np.vectorize\n",
    "def sin_approx(x, n):\n",
    "    y = 0\n",
    "    for k in range(1, n + 1):\n",
    "        y += (-1) ** (k - 1) / factorial(2 * k - 1) * x ** (2 * k - 1)\n",
    "    return y\n",
    "\n",
    "fig, ax = plt.subplots()\n",
    "\n",
    "for i in range(m + 1):\n",
    "    # 第i項までの近似を表示する。\n",
    "    ax.plot(xpoints, sin_approx(xpoints, i), label=i)\n",
    "\n",
    "# 比較のための正確な結果も表示する。\n",
    "ax.plot(xpoints, np.sin(xpoints), label='exact')\n",
    "\n",
    "ax.legend()\n",
    "ax.grid()\n",
    "plt.show()"
   ]
  },
  {
   "cell_type": "markdown",
   "metadata": {},
   "source": [
    "展開の項数を増やすにつれて近似がよくなることが確認できただろうか？"
   ]
  },
  {
   "cell_type": "markdown",
   "metadata": {},
   "source": [
    "## 練習問題"
   ]
  },
  {
   "cell_type": "markdown",
   "metadata": {},
   "source": [
    "(2) 同様のグラフを$\\cos(x)$について作成せよ。ただし、$\\cos(x)$のマクローリン展開は"
   ]
  },
  {
   "cell_type": "markdown",
   "metadata": {},
   "source": [
    "$$\n",
    "\\cos(x)\n",
    "=\n",
    "1 - \\frac{x^2}{2!} + \\frac{x^4}{4!} - \\frac{x^6}{6!} + \\frac{x^8}{8!} - \\cdots\n",
    "=\n",
    "\\sum_{k=1}^\\infty\n",
    "\\frac{(-1)^{k-1}}{(2k-2)!}\n",
    "x^{2k-2}\n",
    ",\n",
    "\\tag{3}\n",
    "$$"
   ]
  },
  {
   "cell_type": "markdown",
   "metadata": {},
   "source": [
    "で与えられる。"
   ]
  },
  {
   "cell_type": "markdown",
   "metadata": {},
   "source": [
    "## 媒介変数表示された関数のグラフ"
   ]
  },
  {
   "cell_type": "markdown",
   "metadata": {},
   "source": [
    "上では$y=f(x)$の形をした関数のグラフを$x_\\text{min} \\le x \\le x_\\text{max}$の範囲で描くことを考えたが、同様にして$x = f(t)$, $y = g(t)$のように媒介変数表示された関数のグラフを$t_\\text{min} \\le t \\le t_\\text{max}$の範囲で描くことができる[<sup id=\"cite_ref-18\">[18]</sup>](#cite_note-18)。手順は、\n",
    "1. $t$の範囲を適当に等分してリストにする、\n",
    "1. $t$のリストから$x$座標のリストを作る、\n",
    "1. $t$のリストから$y$座標のリストを作る、\n",
    "1. $x$座標と$y$座標のリストを使って折れ線グラフを描く、\n",
    "\n",
    "となる。"
   ]
  },
  {
   "cell_type": "markdown",
   "metadata": {},
   "source": [
    "## 演習課題"
   ]
  },
  {
   "cell_type": "markdown",
   "metadata": {},
   "source": [
    "(1) 次の媒介変数表示で表されるリサジュー図形のグラフを描くプログラムを作成せよ。"
   ]
  },
  {
   "cell_type": "markdown",
   "metadata": {},
   "source": [
    "$$\n",
    "\\begin{align}\n",
    "x &= \\cos(n_x t) ,\n",
    "\\tag{4} \\\\\n",
    "y &= \\sin(n_y t + \\delta) .\n",
    "\\tag{5}\n",
    "\\end{align}\n",
    "$$"
   ]
  },
  {
   "cell_type": "markdown",
   "metadata": {},
   "source": [
    "すぐわかるように、これらは$t$の周期関数である。周期全体について描けるように適当な$t$の範囲を取り、また十分滑らかになるように分割数を調整せよ。ここで現れるパラメーター$(n_x, n_y, \\delta)$については(いろいろと変えてグラフを眺めていると小一時間楽しめると思うが)、提出する際には$n_x = 6$、$n_y = 5$、$\\delta = 0.1$とせよ[<sup id=\"cite_ref-19\">[19]</sup>](#cite_note-19)。"
   ]
  },
  {
   "cell_type": "code",
   "execution_count": null,
   "metadata": {},
   "outputs": [],
   "source": [
    "# 課題解答6.1  <-- 提出する際に、この行を必ず含めること。\n",
    "\n",
    "%matplotlib inline\n",
    "import matplotlib.pyplot as plt\n",
    "import numpy as np\n",
    "from numpy import sin, cos, pi\n",
    "\n",
    "\n"
   ]
  },
  {
   "cell_type": "markdown",
   "metadata": {},
   "source": [
    "(2) 次式で定義される内トロコイドのグラフを描くプログラムを作成せよ。"
   ]
  },
  {
   "cell_type": "markdown",
   "metadata": {},
   "source": [
    "$$\n",
    "\\begin{align}\n",
    "x &= (a - b) \\cos(t) + c \\cos\\biggl(\\frac{a - b}{b} t\\biggr),\n",
    "\\tag{6} \\\\\n",
    "y &= (a - b) \\sin(t) - c \\sin\\biggl(\\frac{a - b}{b} t\\biggr).\n",
    "\\tag{7}\n",
    "\\end{align}\n",
    "$$"
   ]
  },
  {
   "cell_type": "markdown",
   "metadata": {},
   "source": [
    "提出時には、パラメーター$(a, b, c)$は$a=12$、$b=7$、$c=6$とせよ[<sup id=\"cite_ref-20\">[20]</sup>](#cite_note-20)。周期全体について描けるように適当な$t$の範囲を取り、また十分滑らかになるように分割数を調整せよ。"
   ]
  },
  {
   "cell_type": "code",
   "execution_count": null,
   "metadata": {},
   "outputs": [],
   "source": [
    "# 課題解答6.2  <-- 提出する際に、この行を必ず含めること。\n",
    "\n",
    "%matplotlib inline\n",
    "import matplotlib.pyplot as plt\n",
    "import numpy as np\n",
    "from numpy import sin, cos, pi\n",
    "\n",
    "\n"
   ]
  },
  {
   "cell_type": "markdown",
   "metadata": {},
   "source": [
    "(3) 【復習問題】授業内で出題します。"
   ]
  },
  {
   "cell_type": "code",
   "execution_count": null,
   "metadata": {},
   "outputs": [],
   "source": [
    "# 課題解答6.3  <-- 提出する際に、この行を必ず含めること。\n",
    "\n",
    "\n"
   ]
  },
  {
   "cell_type": "markdown",
   "metadata": {},
   "source": [
    "## 参考: pandasを使う"
   ]
  },
  {
   "cell_type": "markdown",
   "metadata": {},
   "source": [
    "実際の研究では、実験や観測、数値計算などで得られたデータファイルを読み込んで可視化を行うことがあるだろう。その場合、Pythonの標準機能によって[ファイルの読み書き](https://docs.python.org/ja/3/tutorial/inputoutput.html#reading-and-writing-files)を行ったり、データの操作を行ったりするプログラムを自分で書いてもよいが、[pandas](https://pandas.pydata.org/)のようなデータ解析ライブラリを利用するのが簡便である。"
   ]
  },
  {
   "cell_type": "markdown",
   "metadata": {},
   "source": [
    "次の例では、pandasを用いて、インターネット上に公開されているCSVファイルを読み込み、データ処理を行ったうえで、東京都の新型コロナウイルス感染症累計感染者数のグラフを表示している。"
   ]
  },
  {
   "cell_type": "markdown",
   "metadata": {},
   "source": [
    "**注意: このプログラムは[東京都新型コロナウイルス感染症対策サイト\n",
    "](https://stopcovid19.metro.tokyo.lg.jp/)から都内新型コロナウイルス陽性患者の詳細データ(5月15日時点で300KB超)を(Jupyterを実行しているサーバーに)ダウンロードする。過度のネットワーク負荷を避けるため、あまり何度も実行することは推奨しない。**"
   ]
  },
  {
   "cell_type": "code",
   "execution_count": null,
   "metadata": {},
   "outputs": [],
   "source": [
    "%matplotlib inline\n",
    "import pandas as pd\n",
    "\n",
    "df = pd.read_csv('https://stopcovid19.metro.tokyo.lg.jp/data/130001_tokyo_covid19_patients.csv')\n",
    "ax = df['公表_年月日'].value_counts().sort_index(0).cumsum().plot()\n",
    "ax.set_xlabel('date')\n",
    "ax.set_ylabel('total number of people testing positive')\n",
    "ax.grid()"
   ]
  },
  {
   "cell_type": "markdown",
   "metadata": {},
   "source": [
    "## 脚注"
   ]
  },
  {
   "cell_type": "markdown",
   "metadata": {},
   "source": [
    "<span id=\"cite_note-1\">1.</span> [^](#cite_ref-1)\n",
    "MatplitlibはPythonの標準ライブラリには含まれていない。個人でインストールしたPythonの処理系にMatplitlibがインストールされていない場合は、まずMatplitlibをインストールする必要がある。\n",
    "\n",
    "<span id=\"cite_note-2\">2.</span> [^](#cite_ref-2)\n",
    "プログラミング入門によくある「おまじない」はある意味**教える側の逃げ**であると言えなくもない。意味を簡単に教えることができないから「おまじない」と言ってしまうのである。ただし、「おまじない」を詳しく解説されると**教わる側が逃げてしまう**という事情もある。例えば[Hello world](https://ja.wikipedia.org/wiki/Hello_world) (Pythonでいうと`print('Hello world')`とだけ書いたプログラム)のC++版を詳しく解説すると[こうなる](https://qiita.com/kazatsuyu/items/478c55de0f75ea5904bd)そうだ。これを初回の講義でやってしまったら、いったい何人が残るだろうか....。\n",
    "\n",
    "<span id=\"cite_note-3\">3.</span> [^](#cite_ref-3)\n",
    "正確にはIPythonのマジックコマンドである。ほかには`%matplotlib notebook`などが指定できる。初めから組み込まれているマジックコマンドには[このようなもの](https://ipython.readthedocs.io/en/stable/interactive/magics.html)がある。\n",
    "\n",
    "<span id=\"cite_note-4\">4.</span> [^](#cite_ref-4)\n",
    "`numpy`を`np`と略する必要があるか疑問に思うかもしれないが、[NumPyの公式サイトの例](https://numpy.org/doc/stable/user/quickstart.html#an-example)でもやっていることなので、「長い物には巻かれろ」の精神でこれを採用することにする。\n",
    "\n",
    "<span id=\"cite_note-5\">5.</span> [^](#cite_ref-5)\n",
    "Pythonは他のプログラミング言語と比較的して柔軟かつ動的な言語であり、その代償として最適化(自動的な実行速度の高速化)が非常に困難である。よって、CやFortranなどの言語と比べ、一般的に言って実行速度は**非常に遅い**。しかしこれは、Pythonで書かれたプログラムが、実行速度が重視される科学技術計算や機械学習では役に立たない、ということを直接には意味しない。平均的なプログラムでは、実行時間の80%はプログラムコード全体の20%の部分の実行に費やされると言われる(パレートの法則)。この部分をCやFortranで書かれ十分に最適化されたNumPyのようなライブラリによって処理すればよいのである。Pythonで書かれたプログラムの高速化については、例えば[これ](https://qiita.com/ishitoki47259/items/1c2c25bf4bd71e6c105b)や[これ](https://qiita.com/kaityo256/items/3c07252ab63591256835)や[これ](https://qiita.com/yubais/items/5a9d91fe03fe715b21d0)などを参照のこと。\n",
    "\n",
    "<span id=\"cite_note-6\">6.</span> [^](#cite_ref-6)\n",
    "NumPyはMatplotlibが依存するパッケージの一つである。\n",
    "\n",
    "<span id=\"cite_note-7\">7.</span> [^](#cite_ref-7)\n",
    "細かいことなので気にしなくてもよいが、`plt`は`matplotlib.pyplot`モジュールであり、`plt.subplots`は`matplotlib.pyplot`モジュール内の`subplots`という関数である(メソッドではない)。\n",
    "\n",
    "<span id=\"cite_note-8\">8.</span> [^](#cite_ref-8)\n",
    "`plt.subplots`に与える引数によってAxesオブジェクトが何個返ってくるか(つまり図に含まれるサブプロットが何個か)は変化する。\n",
    "\n",
    "<span id=\"cite_note-9\">9.</span> [^](#cite_ref-9)\n",
    "そのほかにMATLABのコマンドのように使える[pyplot API](https://matplotlib.org/api/index.html#the-pyplot-api)も用意されている。オブジェクト指向プログラミングスタイルのAPIと混同すると厄介なのでここでは使わない。\n",
    "\n",
    "<span id=\"cite_note-10\">10.</span> [^](#cite_ref-10)\n",
    "実はJupyter上では`plt.show()`は必要ない。ここでは以下の二つの理由によって`plt.show()`を書くようにしている。\n",
    "- (Jupyterではない)普通のPythonプログラム(non-interactive mode)の場合に必要である。\n",
    "- セルを評価した結果を表示しないための[解決策の一つ](https://stackoverflow.com/a/46311589)である。\n",
    "\n",
    "<span id=\"cite_note-11\">11.</span> [^](#cite_ref-11)\n",
    "`scatter`メソッドが受け付けるオプション引数は`plot`メソッドと異なっており、点ごとに色やサイズを変えるなど、もっと一般的な散布図が描けるようになっている。\n",
    "\n",
    "<span id=\"cite_note-12\">12.</span> [^](#cite_ref-12)\n",
    "(La)TeXではバックスラッシュ(`\\`; 日本語フォントでは「円記号」に見える)を多用するが、Pythonの文字列においてバックスラッシュはエスケープシーケンス(特殊な文字を表すのに使われる文字の並び)に使われるので、`'$\\\\alpha$'`のように2個続けて書くか、もしくは`r'$\\alpha$'`のようにエスケープシーケンスを無効化したraw文字列(文字列の前に`r`を付けて表す)を使う。\n",
    "\n",
    "<span id=\"cite_note-13\">13.</span> [^](#cite_ref-13)\n",
    "フォントの問題である。解決策は、例えば[これ](https://github.com/uehara1414/japanize-matplotlib)。BinderやColabであれば、\n",
    "```python\n",
    "!pip install japanize-matplotlib\n",
    "import japanize_matplotlib\n",
    "```\n",
    "を実行すればよい。\n",
    "\n",
    "<span id=\"cite_note-14\">14.</span> [^](#cite_ref-14)\n",
    "もしくは[リスト内包表記(list comprehension)](https://docs.python.org/ja/3/glossary.html#term-list-comprehension)というPythonの機能を用いて\n",
    "```python\n",
    "xpoints = [xmin + (xmax - xmin) * i / (n - 1) for i in range(n)]\n",
    "ypoints = [f(x) for x in xpoints]\n",
    "```\n",
    "と書いてもよい。\n",
    "\n",
    "<span id=\"cite_note-15\">15.</span> [^](#cite_ref-15)\n",
    "こうして得られた`xpoints`と`ypoints`は、実はリストではなくNumPyの[`ndarray`オブジェクト](https://numpy.org/doc/stable/reference/arrays.ndarray.html)であるが、グラフを描くためにMatplotlibに渡すだけなら何ら問題はない。(リストではないが、ここでは説明の簡潔さのため、リストと言ってしまうことにする。)\n",
    "\n",
    "<span id=\"cite_note-16\">16.</span> [^](#cite_ref-16)\n",
    "この例に関しては`@np.vectorize`がなくても同じ結果が得られる(NumPyの[`ndarray`オブジェクト](https://numpy.org/doc/stable/reference/arrays.ndarray.html)の`**`演算子はベクトル化されて定義されている)。なお、`@np.vectorize`を付けない方が(NumPyのベクトル化の恩恵を受けられるので)速い。\n",
    "\n",
    "<span id=\"cite_note-17\">17.</span> [^](#cite_ref-17)\n",
    "デコレータの本質は、関数を引数にとり関数を返す関数、もしくはそれと同等に振る舞うクラスである。\n",
    "\n",
    "<span id=\"cite_note-18\">18.</span> [^](#cite_ref-18)\n",
    "ここではその形を手で入力できる程度の関数しか扱わないが、頑張れば[こんなこと](https://www.wolframalpha.com/input/?i=pikachu+curve&lang=ja)もできるはず。そのほかの例は[ここ](https://www.wolframalpha.com/examples/mathematics/geometry/curves-and-surfaces/popular-curves/)や[ここ](https://nlab.itmedia.co.jp/nl/articles/1305/02/news063.html)を参照のこと。\n",
    "\n",
    "<span id=\"cite_note-19\">19.</span> [^](#cite_ref-19)\n",
    "このパラメーターに合わせていただくと採点がしやすくなりますので、どうかご協力をよろしくお願いいたします。\n",
    "\n",
    "<span id=\"cite_note-20\">20.</span> [^](#cite_ref-20)\n",
    "このパラメーターを変えるといろいろな図形が楽しめます。(お勧めは$a=5$、$b=3$、$c=5$や$a=7$、$b=10$、$c=10$とか。)"
   ]
  }
 ],
 "metadata": {
  "kernelspec": {
   "display_name": "Python 3",
   "language": "python",
   "name": "python3"
  },
  "language_info": {
   "codemirror_mode": {
    "name": "ipython",
    "version": 3
   },
   "file_extension": ".py",
   "mimetype": "text/x-python",
   "name": "python",
   "nbconvert_exporter": "python",
   "pygments_lexer": "ipython3",
   "version": "3.7.7"
  }
 },
 "nbformat": 4,
 "nbformat_minor": 4
}
