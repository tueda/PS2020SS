{
 "cells": [
  {
   "cell_type": "markdown",
   "metadata": {},
   "source": [
    "# 関数"
   ]
  },
  {
   "cell_type": "markdown",
   "metadata": {},
   "source": [
    "これまでに学んだ「順次実行(上から下に順に実行)」「条件判断(if文)」「反復処理(while文、for文)」を使えば、あとはアルゴリズム(計算手順)の組み合わせによって、いろいろなことをプログラム上で実現することができるはずである。しかし、それだけで非常に大きなプログラムを全く間違いなく書くことは難しい。一般に、大き過ぎる問題(プログラミングの場合、巨大なプログラムを間違いなく書くこと)を解決するコツは、それを手頃な大きさの小さな問題に分割して、それを一つずつ解決していくことである。今回はPythonにおける「関数」を導入して、何度も利用する処理のまとまりを定義したり、プログラムを分かりやすく分割したりする手法を学ぶ[<sup id=\"cite_ref-1\">[1]</sup>](#cite_note-1)。"
   ]
  },
  {
   "cell_type": "markdown",
   "metadata": {},
   "source": [
    "## 簡単な例"
   ]
  },
  {
   "cell_type": "markdown",
   "metadata": {},
   "source": [
    "Pythonでは、処理のまとまりを「関数」として定義し、あとで利用することができる。次のセルでは`'わんわん'`と表示するという処理を行う`inu`関数を定義している[<sup id=\"cite_ref-2\">[2]</sup>](#cite_note-2)。"
   ]
  },
  {
   "cell_type": "code",
   "execution_count": null,
   "metadata": {},
   "outputs": [],
   "source": [
    "def inu():\n",
    "    print('わんわん')"
   ]
  },
  {
   "cell_type": "markdown",
   "metadata": {},
   "source": [
    "ポイントは\n",
    "- 関数の定義は`def`キーワードで始まる。\n",
    "- `def`キーワードの後に関数名(ここでは`inu`)を書く。\n",
    "- その後に引数[<sup id=\"cite_ref-3\">[3]</sup>](#cite_note-3)(parameter)リストを丸括弧で囲んで書く。ただし、この例では引数は空`()`としている。その後にコロン(`:`)を書く。\n",
    "- 関数で行いたい処理は、インデントによって表されたブロックに書く[<sup id=\"cite_ref-4\">[4]</sup>](#cite_note-4)。\n",
    "\n",
    "この時点では、関数`inu`が定義されただけで、その中身の処理が実行されたわけではない。定義された`inu`関数を呼び出してその中身を実行するには次のようにする。(関数名の後の丸括弧`()`を忘れないように。)"
   ]
  },
  {
   "cell_type": "code",
   "execution_count": null,
   "metadata": {},
   "outputs": [],
   "source": [
    "inu()"
   ]
  },
  {
   "cell_type": "markdown",
   "metadata": {},
   "source": [
    "関数は何度でも呼び出すことができる。"
   ]
  },
  {
   "cell_type": "code",
   "execution_count": null,
   "metadata": {},
   "outputs": [],
   "source": [
    "inu()\n",
    "inu()"
   ]
  },
  {
   "cell_type": "code",
   "execution_count": null,
   "metadata": {},
   "outputs": [],
   "source": [
    "for i in range(5):\n",
    "    inu()"
   ]
  },
  {
   "cell_type": "markdown",
   "metadata": {},
   "source": [
    "なお、変数の場合と同じように、関数であっても`def`で定義し直すことで上書きすることができる[<sup id=\"cite_ref-5\">[5]</sup>](#cite_note-5)。"
   ]
  },
  {
   "cell_type": "code",
   "execution_count": null,
   "metadata": {},
   "outputs": [],
   "source": [
    "def inu():\n",
    "    print('わん')\n",
    "    \n",
    "def inu():\n",
    "    print('わんわん')\n",
    "    \n",
    "def inu():\n",
    "    print('わんわんわん')\n",
    "\n",
    "inu()"
   ]
  },
  {
   "cell_type": "markdown",
   "metadata": {},
   "source": [
    "## 引数を使う"
   ]
  },
  {
   "cell_type": "markdown",
   "metadata": {},
   "source": [
    "関数には引数といって、その呼び出し時に外部からデータを与えることができる。次のセルの`inu`関数は、引数[<sup id=\"cite_ref-6\">[6]</sup>](#cite_note-6)`n`をとり、その値によって鳴く回数を変えている。(`文字列 * 整数`は、その文字列を指定された回数だけ繰り返したものを与える。)"
   ]
  },
  {
   "cell_type": "code",
   "execution_count": null,
   "metadata": {},
   "outputs": [],
   "source": [
    "def inu(n):\n",
    "    print('わん' * n)"
   ]
  },
  {
   "cell_type": "markdown",
   "metadata": {},
   "source": [
    "関数の呼び出し側は、次のように丸括弧の中にデータを書くことで、関数に引数[<sup id=\"cite_ref-7\">[7]</sup>](#cite_note-7)を渡す。"
   ]
  },
  {
   "cell_type": "code",
   "execution_count": null,
   "metadata": {},
   "outputs": [],
   "source": [
    "inu(1)\n",
    "inu(2)"
   ]
  },
  {
   "cell_type": "code",
   "execution_count": null,
   "metadata": {},
   "outputs": [],
   "source": [
    "for i in range(5):\n",
    "    inu(i)"
   ]
  },
  {
   "cell_type": "markdown",
   "metadata": {},
   "source": [
    "2個以上の引数を使うこともできる。"
   ]
  },
  {
   "cell_type": "code",
   "execution_count": null,
   "metadata": {},
   "outputs": [],
   "source": [
    "def make_sound(sound, n):\n",
    "    print(sound * n)"
   ]
  },
  {
   "cell_type": "code",
   "execution_count": null,
   "metadata": {},
   "outputs": [],
   "source": [
    "make_sound('わん', 3)\n",
    "make_sound('にゃん', 2)"
   ]
  },
  {
   "cell_type": "markdown",
   "metadata": {},
   "source": [
    "## 関数を終了する"
   ]
  },
  {
   "cell_type": "markdown",
   "metadata": {},
   "source": [
    "関数の中でreturn文を使うと、その関数の実行は終了して、呼び出し側に処理が戻る。次の例を見てみよう。"
   ]
  },
  {
   "cell_type": "code",
   "execution_count": null,
   "metadata": {},
   "outputs": [],
   "source": [
    "def make_sounds():\n",
    "    print('わんわん')\n",
    "    print('にゃんにゃん')\n",
    "    return\n",
    "    print('つくつくほーし')"
   ]
  },
  {
   "cell_type": "code",
   "execution_count": null,
   "metadata": {},
   "outputs": [],
   "source": [
    "make_sounds()"
   ]
  },
  {
   "cell_type": "markdown",
   "metadata": {},
   "source": [
    "3つめの`print`が呼ばれずに関数が終了していることが分かるだろう。通常は、条件判断と組み合わせることで「ある条件が満たされたら関数を終了する」というように使うか、あるいは次で見るように「関数の結果として値を返す」ことに使う。"
   ]
  },
  {
   "cell_type": "markdown",
   "metadata": {},
   "source": [
    "## 値を返す"
   ]
  },
  {
   "cell_type": "markdown",
   "metadata": {},
   "source": [
    "return文で、キーワード`return`の後に式を与えると、その値を関数の結果として返す[<sup id=\"cite_ref-8\">[8]</sup>](#cite_note-8)ことができる。"
   ]
  },
  {
   "cell_type": "code",
   "execution_count": null,
   "metadata": {},
   "outputs": [],
   "source": [
    "def square(x):\n",
    "    return x ** 2"
   ]
  },
  {
   "cell_type": "code",
   "execution_count": null,
   "metadata": {},
   "outputs": [],
   "source": [
    "for i in range(5):\n",
    "    result = square(i)\n",
    "    print(f'{i} ** 2 ==> {result}')"
   ]
  },
  {
   "cell_type": "markdown",
   "metadata": {},
   "source": [
    "引数をとり、値を返すことによって、数学の「関数」っぽいものに見えるようになったことだろう。次の例では質点の周りの重力ポテンシャル"
   ]
  },
  {
   "cell_type": "markdown",
   "metadata": {},
   "source": [
    "$$\n",
    "\\phi(x,y,z) = - \\frac{GM}{\\sqrt{x^2+y^2+z^2}} ,\n",
    "\\tag{1}\n",
    "$$"
   ]
  },
  {
   "cell_type": "markdown",
   "metadata": {},
   "source": [
    "を定義している。ただし簡単のために$GM=1$となる単位系を取った。"
   ]
  },
  {
   "cell_type": "code",
   "execution_count": null,
   "metadata": {},
   "outputs": [],
   "source": [
    "def potential(x, y, z):\n",
    "    return - 1 / (x ** 2 + y ** 2 + z ** 2) ** (1/2)"
   ]
  },
  {
   "cell_type": "code",
   "execution_count": null,
   "metadata": {},
   "outputs": [],
   "source": [
    "potential(3.0, 4.0, 5.0)"
   ]
  },
  {
   "cell_type": "markdown",
   "metadata": {},
   "source": [
    "Pytonの関数が返すものは数である必要はなく、文字列でもリストでもそのほか何でもよい。"
   ]
  },
  {
   "cell_type": "markdown",
   "metadata": {},
   "source": [
    "## 練習問題"
   ]
  },
  {
   "cell_type": "markdown",
   "metadata": {},
   "source": [
    "(1) 次のような関数を定義せよ。"
   ]
  },
  {
   "cell_type": "markdown",
   "metadata": {},
   "source": [
    "$$\n",
    "f(x) = x^3 + 1 .\n",
    "\\tag{2}\n",
    "$$"
   ]
  },
  {
   "cell_type": "markdown",
   "metadata": {},
   "source": [
    "$$\n",
    "g(x) =\n",
    "\\begin{cases}\n",
    "\\phantom{-}x , & \\text{for } x \\ge 0 , \\\\\n",
    "-x , & \\text{for } x < 0 .\n",
    "\\end{cases}\n",
    "\\tag{3}\n",
    "$$"
   ]
  },
  {
   "cell_type": "markdown",
   "metadata": {},
   "source": [
    "## スコープ (変数の有効範囲)"
   ]
  },
  {
   "cell_type": "markdown",
   "metadata": {},
   "source": [
    "Pythonにおいて、関数内で変数への代入を行うと、その変数の有効範囲はその関数内のみとなる。また、引数として渡さる変数の有効範囲もその関数内のみである。関数の外側からは関数内の変数は見えない。また、関数内の変数への代入は関数の外側には影響を与えない[<sup id=\"cite_ref-9\">[9]</sup>](#cite_note-9)。"
   ]
  },
  {
   "cell_type": "code",
   "execution_count": null,
   "metadata": {},
   "outputs": [],
   "source": [
    "x = 2\n",
    "y = 3\n",
    "\n",
    "def foo(x):\n",
    "    x += 1\n",
    "    y = 300\n",
    "    print('関数の中')\n",
    "    print(x)\n",
    "    print(y)\n",
    "\n",
    "foo(199)\n",
    "\n",
    "print('関数の外')\n",
    "print(x)\n",
    "print(y)"
   ]
  },
  {
   "cell_type": "markdown",
   "metadata": {},
   "source": [
    "ただし、関数内で参照された変数が関数内で定義されていない場合、その外側の変数が参照される[<sup id=\"cite_ref-10\">[10]</sup>](#cite_note-10)。"
   ]
  },
  {
   "cell_type": "code",
   "execution_count": null,
   "metadata": {},
   "outputs": [],
   "source": [
    "x = 2\n",
    "y = 3\n",
    "\n",
    "def foo():\n",
    "    print('関数の中')\n",
    "    print(x)\n",
    "    print(y)\n",
    "\n",
    "foo()\n",
    "\n",
    "print('関数の外')\n",
    "print(x)\n",
    "print(y)"
   ]
  },
  {
   "cell_type": "markdown",
   "metadata": {},
   "source": [
    "関数内の変数を、内部から参照できないという意味で、ローカル変数(local variable)と呼ぶ。これに対して、関数の外側の変数は、どこからでも参照できるという意味で、グローバル変数(global variable)と呼ばれる。このような変数の有効範囲のことを、一般にスコープ(scope)と呼ぶ。プログラミング言語によってスコープがどのように決定されるかは違う。Pythonは関数によってスコープが作られる言語であると言える[<sup id=\"cite_ref-11\">[11]</sup>](#cite_note-11)。"
   ]
  },
  {
   "cell_type": "markdown",
   "metadata": {},
   "source": [
    "関数内の変数を外から参照できないというのは不便なことに思えるかも知れない。しかし、このような外部からは内部が参照できない機構(ブラックボックス; black box)を作ることが大きなプログラムを作るときには非常に役に立つのである。大きなプログラムをいくつかの関数に分けて、チームで手分けして書くこととしよう。もし、スコープがない、つまりすべての変数がグローバルならば、「`x`という変数はAさんが使うから、他の人は決して使ってはいけない」などということをすべての変数に対してあらかじめ決めておく必要がある。うっかりBさんが自分が作っている関数の中で`x`を使うだけで、Aさんの担当部分に影響を及ぼして、プログラムが正常に動作しなくなるだろう。(おそらく、うまくいっているときはうまく動くが、よく分からない複雑な条件下でなぜか動かなくなるという、悪夢のような状況に陥るだろう。)"
   ]
  },
  {
   "cell_type": "markdown",
   "metadata": {},
   "source": [
    "## 関数を関数に渡す、関数から関数を返す"
   ]
  },
  {
   "cell_type": "markdown",
   "metadata": {},
   "source": [
    "次の例を考えよう。"
   ]
  },
  {
   "cell_type": "code",
   "execution_count": null,
   "metadata": {},
   "outputs": [],
   "source": [
    "def f(x):\n",
    "    return x ** 2\n",
    "\n",
    "def g(x):\n",
    "    return f(x) + 1\n",
    "\n",
    "f(g(1))"
   ]
  },
  {
   "cell_type": "markdown",
   "metadata": {},
   "source": [
    "上の例では\n",
    "- 関数`g`の中で関数`f`を使っている、\n",
    "- `g(1)`を評価した結果を関数`f`に渡している、\n",
    "\n",
    "ということをしているが、落ち着いて考えればこれまでに学んだことの延長線上にあるものであり、何ら新しいことをしているわけではないことがわかるだろう。"
   ]
  },
  {
   "cell_type": "markdown",
   "metadata": {},
   "source": [
    "これに対し、次の例では、関数`h`を関数`average`に渡し、`average`の内部で`f(x1)`、`f(x2)`のように評価している。"
   ]
  },
  {
   "cell_type": "code",
   "execution_count": null,
   "metadata": {},
   "outputs": [],
   "source": [
    "def h(x):\n",
    "    return x ** 2\n",
    "\n",
    "def average(f, x1, x2):\n",
    "    return (f(x1) + f(x2)) / 2\n",
    "\n",
    "average(h, 1, 2)"
   ]
  },
  {
   "cell_type": "markdown",
   "metadata": {},
   "source": [
    "次の例では、`make_func`はその内部で定義したローカル関数[<sup id=\"cite_ref-12\">[12]</sup>](#cite_note-12)を返し、呼び出し側ではそれを`f(20)`のように評価している。"
   ]
  },
  {
   "cell_type": "code",
   "execution_count": null,
   "metadata": {},
   "outputs": [],
   "source": [
    "def make_func(x):\n",
    "    def add(y):\n",
    "        return x + y\n",
    "    return add\n",
    "    \n",
    "f = make_func(1)\n",
    "f(20)"
   ]
  },
  {
   "cell_type": "markdown",
   "metadata": {},
   "source": [
    "## 再帰呼出し"
   ]
  },
  {
   "cell_type": "markdown",
   "metadata": {},
   "source": [
    "ある関数の中でその関数自身[<sup id=\"cite_ref-13\">[13]</sup>](#cite_note-13)を呼び出すことができる[<sup id=\"cite_ref-14\">[14]</sup>](#cite_note-14)。漸化式で定義された数列の計算など、再帰的な構造を持つアルゴリズムの記述に適している。次の例では正の整数$n$に対し階乗を求める関数`factorial`を再起呼び出しによって定義している。"
   ]
  },
  {
   "cell_type": "code",
   "execution_count": null,
   "metadata": {},
   "outputs": [],
   "source": [
    "def factorial(n):\n",
    "    if n == 1:\n",
    "        return 1\n",
    "    else:\n",
    "        return n * factorial(n - 1)"
   ]
  },
  {
   "cell_type": "code",
   "execution_count": null,
   "metadata": {},
   "outputs": [],
   "source": [
    "factorial(5)"
   ]
  },
  {
   "cell_type": "markdown",
   "metadata": {},
   "source": [
    "ただし、この場合は反復処理を使って同じ関数を次のように定義することもできる。"
   ]
  },
  {
   "cell_type": "code",
   "execution_count": null,
   "metadata": {},
   "outputs": [],
   "source": [
    "def factorial(n):\n",
    "    result = 1\n",
    "    for i in range(1, n + 1):\n",
    "        result *= i\n",
    "    return result"
   ]
  },
  {
   "cell_type": "markdown",
   "metadata": {},
   "source": [
    "次の例は、以下の漸化式"
   ]
  },
  {
   "cell_type": "markdown",
   "metadata": {},
   "source": [
    "$$\n",
    "F_1 = F_2 = 1,\n",
    "\\tag{4}\n",
    "$$"
   ]
  },
  {
   "cell_type": "markdown",
   "metadata": {},
   "source": [
    "$$\n",
    "F_{n} = F_{n-1} + F_{n-2}, \\quad \\text{for } n \\ge 3 ,\n",
    "\\tag{5}\n",
    "$$"
   ]
  },
  {
   "cell_type": "markdown",
   "metadata": {},
   "source": [
    "で定義されるフィボナッチ数列の第$n$項を求める関数`fib`である[<sup id=\"cite_ref-15\">[15]</sup>](#cite_note-15)。"
   ]
  },
  {
   "cell_type": "code",
   "execution_count": null,
   "metadata": {},
   "outputs": [],
   "source": [
    "def fib(n):\n",
    "    if n == 1 or n == 2:\n",
    "        return 1\n",
    "    else:\n",
    "        return fib(n - 1) + fib(n - 2)"
   ]
  },
  {
   "cell_type": "code",
   "execution_count": null,
   "metadata": {},
   "outputs": [],
   "source": [
    "for i in range(1, 11):\n",
    "    print(fib(i))"
   ]
  },
  {
   "cell_type": "markdown",
   "metadata": {},
   "source": [
    "## 練習問題"
   ]
  },
  {
   "cell_type": "markdown",
   "metadata": {},
   "source": [
    "(2) 以下の漸化式で定義されるトリボナッチ数列の第$n$項を求める関数`tri`を書け。"
   ]
  },
  {
   "cell_type": "markdown",
   "metadata": {},
   "source": [
    "$$\n",
    "T_1 = 0, \\quad\n",
    "T_2 = T_3 = 1,\n",
    "\\tag{6}\n",
    "$$"
   ]
  },
  {
   "cell_type": "markdown",
   "metadata": {},
   "source": [
    "$$\n",
    "T_{n} = T_{n-1} + T_{n-2} + T_{n-3} , \\quad \\text{for } n \\ge 4 .\n",
    "\\tag{7}\n",
    "$$"
   ]
  },
  {
   "cell_type": "markdown",
   "metadata": {},
   "source": [
    "## ブラックジャック"
   ]
  },
  {
   "cell_type": "markdown",
   "metadata": {},
   "source": [
    "ブラックジャック(Blackjack)というトランプゲームを知っているだろうか？ここでは次のような簡易版(というより変則版)ブラックジャックを考える。\n",
    "- 人間をプレーヤー、コンピューターを親(ディーラー)とする。\n",
    "- プレーヤーは最大3枚までカードを引けるが、引くか引かないかは選択できる。\n",
    "- 親は必ず2枚だけ引く。\n",
    "- カードの数字の合計を得点として勝敗を競う。ただし、21点を**超えた**とき(バスト)は負けとなる。\n",
    "- カードは1から10までとする。本来は、A(エース)は1と11のどちらか、都合のよい方として数えることができるのだが、プログラムを簡単にするため、それはしないことにする。\n",
    "- カードの「山」は乱数で作る。本来は、特定の数字のカードは(トランプ1組の場合)4枚以内であるべきだが、プログラムを簡単にするため、そのチェックはしないことにする。"
   ]
  },
  {
   "cell_type": "markdown",
   "metadata": {},
   "source": [
    "## 演習課題"
   ]
  },
  {
   "cell_type": "markdown",
   "metadata": {},
   "source": [
    "(1) 上記のルールのブラックジャックを行うプログラムは次のように書ける。"
   ]
  },
  {
   "cell_type": "code",
   "execution_count": null,
   "metadata": {},
   "outputs": [],
   "source": [
    "# 課題解答5.1  <-- 提出する際に、この行を必ず含めること。\n",
    "\n",
    "from random import randint\n",
    "\n",
    "# メッセージとともにユーザーに「y」か「n」を入力させる関数。\n",
    "# 「y」であればTrue、「n」であればFalseを返す。\n",
    "# 「y」と「n」以外の入力は受け付けない(ユーザー入力を繰り返す)。\n",
    "def ask_yesno(message):\n",
    "    answer = input(f'{message} [y/n]')\n",
    "    while True:\n",
    "        if answer == 'y':\n",
    "            return True\n",
    "        elif answer == 'n':\n",
    "            return None\n",
    "        answer = input(f'[y/n]')\n",
    "\n",
    "# 人間の手札(得点の和)を決めて、それを返す関数。\n",
    "def man_hand():\n",
    "    score = 0\n",
    "    for i in range(3):\n",
    "        if not ask_yesno('もう一枚引きますか?'):\n",
    "            break\n",
    "        score += get_card('あなた')\n",
    "    return score\n",
    "\n",
    "# コンピューターの手札(得点の和)を決めて、それを返す関数。\n",
    "def com_hand():\n",
    "    score = 0\n",
    "    for i in range(2):\n",
    "        score += get_card('コンピューター')\n",
    "    return score\n",
    "    \n",
    "# ランダムでカードを引いてその得点を返す関数。\n",
    "# ついでに引いたカードを表示する。\n",
    "def get_card(name):\n",
    "    card = randint(1, 10)\n",
    "    print(f'{name}の引いたカードは{card}です')\n",
    "    return card\n",
    "    \n",
    "# manが人間の手札(得点の和)、comがコンピューターの手札(得点の和)として、\n",
    "# 勝ち負けの判断をして表示する関数。\n",
    "def fight(man, com):        \n",
    "    print(f'あなたは{man}、 コンピューターは{com}')\n",
    "    # 細かいルール:\n",
    "    # プレイヤーとディーラーがともにバストの場合 --> プレイヤーの負け\n",
    "    if man > 21 or (man < com and com <= 21):\n",
    "        print('あなたの負け')\n",
    "    elif man == com:\n",
    "        print('引き分け')\n",
    "    else:\n",
    "        print('あなたの勝ち')\n",
    "\n",
    "# ブラックジャックをする関数。\n",
    "def blackjack():\n",
    "    man = man_hand()\n",
    "    com = com_hand()\n",
    "    fight(man, com)\n",
    "    \n",
    "# 実行する。\n",
    "blackjack()"
   ]
  },
  {
   "cell_type": "markdown",
   "metadata": {},
   "source": [
    "このプログラムの構造を理解した上で、上のプログラムを次のように書き換えよ。\n",
    "- 人間は毎回カードを引くかどうかを選択しているが、よくよく考えると2回までなら絶対に得点の和が20を超えないのでバストしない。よって、人間は2回は(確認をしないで)必ず引いて、**3回目のみカードを引くかどうか選択**するようにする。\n",
    "- コンピューターは2回のみカードを引いている。だがコンピューターにも3枚目のカードを引く権利があってよいはずだ。しかしバストするのも怖いので、コンピューターは2回カードを引いた時点での**得点が17未満なら3枚目のカードを引く**こととする。\n",
    "- カードは1から10までになっているが、トランプには絵札(11、12、13)もある。ブラックジャックではこれらの絵札は10としてカウントする。よって、引ける**カードを1から13までとし、11から13までの絵札の点は10**とする。(例: 12が出たら「～の引いたカードは12です」と表示されるが、得点は10である。)"
   ]
  },
  {
   "cell_type": "markdown",
   "metadata": {},
   "source": [
    "## 発展課題"
   ]
  },
  {
   "cell_type": "markdown",
   "metadata": {},
   "source": [
    "余裕があればやってみてください。"
   ]
  },
  {
   "cell_type": "markdown",
   "metadata": {},
   "source": [
    "(2) 次の漸化式[<sup id=\"cite_ref-16\">[16]</sup>](#cite_note-16)で定義される関数`f`を再帰呼び出しを利用して作り、$f(3, 3)$を評価せよ。ただし$d=4-10^{-10}$とする。"
   ]
  },
  {
   "cell_type": "markdown",
   "metadata": {},
   "source": [
    "$$\n",
    "f(1, 1) = 1 .\n",
    "\\tag{8}\n",
    "$$"
   ]
  },
  {
   "cell_type": "markdown",
   "metadata": {},
   "source": [
    "$$\n",
    "f(n_1,n_2) = - \\frac{(d - n_1 - n_2)(d - 2 n_1 - 2 n_2 + 2)}{(n_1 - 1)(d - 2 n_1)} f(n_1 - 1, n_2) ,\n",
    "\\qquad \\text{for } n_1 \\ge 2 ,\n",
    "\\tag{9}\n",
    "$$"
   ]
  },
  {
   "cell_type": "markdown",
   "metadata": {},
   "source": [
    "$$\n",
    "f(n_1,n_2) = - \\frac{(d - n_1 - n_2)(d - 2 n_1 - 2 n_2 + 2)}{(n_2 - 1)(d - 2 n_2)} f(n_1, n_2 - 1) ,\n",
    "\\qquad \\text{for } n_2 \\ge 2 ,\n",
    "\\tag{10}\n",
    "$$"
   ]
  },
  {
   "cell_type": "code",
   "execution_count": null,
   "metadata": {},
   "outputs": [],
   "source": [
    "# 課題解答5.2  <-- 提出する際に、この行を必ず含めること。\n",
    "\n",
    "d = 4 - 1.0e-10\n",
    "\n",
    "def f(n1, n2):\n",
    "    ...\n",
    "\n",
    "\n",
    "\n",
    "f(3, 3)"
   ]
  },
  {
   "cell_type": "markdown",
   "metadata": {},
   "source": [
    "## 脚注"
   ]
  },
  {
   "cell_type": "markdown",
   "metadata": {},
   "source": [
    "<span id=\"cite_note-1\">1.</span> [^](#cite_ref-1)\n",
    "計算手順を関数によって分割することをさらに発展させると、次の2つのプログラミングパラダイムに辿り着くだろう:\n",
    "- (分割された)データと計算手順を組み合わせたオブジェクトを中心に据えるオブジェクト指向プログラミング、\n",
    "- 参照透過性を重視した関数型プログラミング。\n",
    "\n",
    "現代的なプログラミング言語の多くと同様に、Pythonは両方の特徴を取り入れたマルチパラダイムプログラミング言語となっている([ここ](https://docs.python.org/ja/3/tutorial/classes.html)や[ここ](https://docs.python.org/ja/3/howto/functional.html)を参照)。\n",
    "\n",
    "<span id=\"cite_note-2\">2.</span> [^](#cite_ref-2)\n",
    "ここでの例のように値を返さない「関数」のことを、プログラミング言語によっては手続き(procedure)、サブルーチン(subroutine)と呼んで関数とは区別することもある。技術的には、Pythonの値を返さない「関数」は、何もないという値`None`を返している。\n",
    "\n",
    "<span id=\"cite_note-3\">3.</span> [^](#cite_ref-3)\n",
    "通常、引数は「ひきすう」というように湯桶読みされる。\n",
    "\n",
    "<span id=\"cite_note-4\">4.</span> [^](#cite_ref-4)\n",
    "最初に関数の説明(人間用のコメント)として[docstring](https://docs.python.org/ja/3/glossary.html#term-docstring)を書くことも多い。\n",
    "\n",
    "<span id=\"cite_note-5\">5.</span> [^](#cite_ref-5)\n",
    "と言うよりも、`def`による関数定義も「変数に関数を代入する」ことだと思ってよいだろう。\n",
    "```python\n",
    "dog = lambda: print('Bow Wow')\n",
    "dog()\n",
    "```\n",
    "\n",
    "<span id=\"cite_note-6\">6.</span> [^](#cite_ref-6)\n",
    "関数の定義に使われている引数としての変数を特に仮引数(formal parameter)と呼ぶことがある。\n",
    "\n",
    "<span id=\"cite_note-7\">7.</span> [^](#cite_ref-7)\n",
    "関数の呼び出し時に与える引数を特に実引数(actual argument)と呼ぶことがある。\n",
    "\n",
    "<span id=\"cite_note-8\">8.</span> [^](#cite_ref-8)\n",
    "関数から返ってきた値を、戻り値(return value)、返り値、返却値などと呼ぶ。\n",
    "\n",
    "<span id=\"cite_note-9\">9.</span> [^](#cite_ref-9)\n",
    "どうしても外側の変数を変更したい場合は[global文](https://docs.python.org/ja/3/reference/simple_stmts.html#the-global-statement)、[nonlocal文](https://docs.python.org/ja/3/reference/simple_stmts.html#the-nonlocal-statement)を使う。\n",
    "\n",
    "<span id=\"cite_note-10\">10.</span> [^](#cite_ref-10)\n",
    "ローカル変数としての名前の束縛は、変数への代入が見つかった時点で起こる。次の例では(`x = 1`の文は絶対に実行されないものの)`x`はローカルとなるので、代入前に参照したことになりエラーが起こる。\n",
    "```python:\n",
    "x = 2\n",
    "\n",
    "def f():\n",
    "    print(x)\n",
    "    if False:\n",
    "        x = 1\n",
    "    \n",
    "f()\n",
    "```\n",
    "\n",
    "<span id=\"cite_note-11\">11.</span> [^](#cite_ref-11)\n",
    "関数定義以外では、クラス定義もスコープを作る。\n",
    "\n",
    "<span id=\"cite_note-12\">12.</span> [^](#cite_ref-12)\n",
    "[クロージャ](https://ja.wikipedia.org/wiki/%E3%82%AF%E3%83%AD%E3%83%BC%E3%82%B8%E3%83%A3)(closure)となっており、`gen_func`に渡された`x`の値が保存されている。\n",
    "\n",
    "<span id=\"cite_note-13\">13.</span> [^](#cite_ref-13)\n",
    "ある関数からその関数を呼ぶ他の関数を呼ぶ、あるいは2つ以上の関数が相互に呼び出し合う場合(相互再帰)も含む。\n",
    "\n",
    "<span id=\"cite_note-14\">14.</span> [^](#cite_ref-14)\n",
    "ただし最大再帰回数(再帰の深さ)はシステムに依存する([sys.getrecursionlimit](https://docs.python.org/ja/3/library/sys.html#sys.getrecursionlimit)を参照)。\n",
    "\n",
    "<span id=\"cite_note-15\">15.</span> [^](#cite_ref-15)\n",
    "ただしフィボナッチ数列の再帰による計算は非常に非効率である。実際には、繰り返しを使って再帰のない形に書き直すか、[メモ化](https://ja.wikipedia.org/wiki/%E3%83%A1%E3%83%A2%E5%8C%96)(memoization)を使うとよい(たとえば[これ](https://docs.python.org/ja/3.6/library/functools.html#functools.lru_cache))。また、意図的に再帰による計算が非効率になるように考案されたものに、[たらいまわし関数](https://ja.wikipedia.org/wiki/%E7%AB%B9%E5%86%85%E9%96%A2%E6%95%B0)がある。\n",
    "\n",
    "<span id=\"cite_note-16\">16.</span> [^](#cite_ref-16)\n",
    "あれ？なぜか[これ](https://www.nikhef.nl/~tueda/hpp_45loops.pdf)の11ページで見覚えがある....こいつ、$d=4$次元だと最終結果は有限なのに漸化式を使ったときの途中式が発散するぞ...！！"
   ]
  }
 ],
 "metadata": {
  "kernelspec": {
   "display_name": "Python 3",
   "language": "python",
   "name": "python3"
  },
  "language_info": {
   "codemirror_mode": {
    "name": "ipython",
    "version": 3
   },
   "file_extension": ".py",
   "mimetype": "text/x-python",
   "name": "python",
   "nbconvert_exporter": "python",
   "pygments_lexer": "ipython3",
   "version": "3.7.7"
  }
 },
 "nbformat": 4,
 "nbformat_minor": 4
}
