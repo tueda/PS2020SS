{
 "cells": [
  {
   "cell_type": "markdown",
   "metadata": {},
   "source": [
    "運命とは $1/e \\simeq 0.367879$ で上限が抑えられているものである（？）"
   ]
  },
  {
   "cell_type": "code",
   "execution_count": null,
   "metadata": {},
   "outputs": [],
   "source": [
    "import random\n",
    "import math\n",
    "\n",
    "# 運命の人を探す関数。\n",
    "def find_partner(candidates):\n",
    "    n = len(candidates)\n",
    "    n_skips = int(n / math.e)  # 最適ポリシー\n",
    "    best = 0\n",
    "    # 初めから n_skip 人の人には必ずごめんなさいする。\n",
    "    # その後、最良の人が現れたらその人に決める。\n",
    "    for i in range(n):\n",
    "        if i < n_skips:\n",
    "            best = max(best, candidates[i])\n",
    "        else:\n",
    "            if candidates[i] > best:\n",
    "                return candidates[i]\n",
    "    # 仕方がないので最後の人にする。\n",
    "    return candidates[-1]\n",
    "\n",
    "n_candiates = 100  # 人生で出会う候補者の数\n",
    "n_trials = 10000   # 繰り返す人生の数\n",
    "n_successes = 0    # 運命の人を探し当てた数\n",
    "\n",
    "for _ in range(n_trials):\n",
    "    candidates = [random.random() for _ in range(n_candiates)]\n",
    "    if find_partner(candidates) == max(candidates):\n",
    "        n_successes += 1\n",
    "        \n",
    "print(n_successes / n_trials)"
   ]
  }
 ],
 "metadata": {
  "kernelspec": {
   "display_name": "Python 3",
   "language": "python",
   "name": "python3"
  },
  "language_info": {
   "codemirror_mode": {
    "name": "ipython",
    "version": 3
   },
   "file_extension": ".py",
   "mimetype": "text/x-python",
   "name": "python",
   "nbconvert_exporter": "python",
   "pygments_lexer": "ipython3",
   "version": "3.7.7"
  }
 },
 "nbformat": 4,
 "nbformat_minor": 4
}
