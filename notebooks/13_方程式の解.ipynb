{
 "cells": [
  {
   "cell_type": "markdown",
   "metadata": {},
   "source": [
    "# 方程式の解"
   ]
  },
  {
   "cell_type": "markdown",
   "metadata": {},
   "source": [
    "方程式とは未知数を含む等式のことである。方程式を解くとは、その等式を満たすような未知数を求めるということである。方程式にはさまざまな種類のものがある。例えば、"
   ]
  },
  {
   "cell_type": "markdown",
   "metadata": {},
   "source": [
    "$$\n",
    "x^2 - x - 6 = 0 ,\n",
    "\\tag{1}\n",
    "$$"
   ]
  },
  {
   "cell_type": "markdown",
   "metadata": {},
   "source": [
    "のような（未知数 $x$ に対する）代数方程式であったり、"
   ]
  },
  {
   "cell_type": "markdown",
   "metadata": {},
   "source": [
    "$$\n",
    "e^x = 3 x ,\n",
    "\\tag{2}\n",
    "$$"
   ]
  },
  {
   "cell_type": "markdown",
   "metadata": {},
   "source": [
    "のような超越方程式であったり、あるいは、"
   ]
  },
  {
   "cell_type": "markdown",
   "metadata": {},
   "source": [
    "$$\n",
    "\\begin{cases}\n",
    "2 x + 3 y = 6 , \\\\\n",
    "\\phantom{2} x + \\phantom{3} y = 1 ,\n",
    "\\end{cases}\n",
    "\\tag{3}\n",
    "$$"
   ]
  },
  {
   "cell_type": "markdown",
   "metadata": {},
   "source": [
    "のような（未知数 $x$ と $y$ に対する）連立二元一次方程式であったりする。今回は、式 (1) や (2) のように未知数の数が一つである方程式を考えることにしよう[<sup id=\"cite_ref-1\">[1]</sup>](#cite_note-1)。その未知数は $x$ とし、右辺が $0$ でない場合はそれを左辺に移項することができるので、一般に、"
   ]
  },
  {
   "cell_type": "markdown",
   "metadata": {},
   "source": [
    "$$\n",
    "f(x) = 0 ,\n",
    "\\tag{4}\n",
    "$$"
   ]
  },
  {
   "cell_type": "markdown",
   "metadata": {},
   "source": [
    "と書くことができる。式 (1) のような二次方程式であれば解の公式を使うことができるが、五次以上の代数方程式を（代数的に）解くことのできる一般の公式は存在しないことが知られている。また、式 (2) のような超越方程式は、一般に、解析的に解くことができない。よって、式 (4) を満たすような未知数 $x$ を数値的に求めよう、というのがここでの目的である。"
   ]
  },
  {
   "cell_type": "markdown",
   "metadata": {},
   "source": [
    "方程式によっては、解が複数個ある場合もあるが、今回はそのうちの**一つだけ**をどうにかして求めることができればよい、ということにしよう。一般に、方程式の複数の解をすべて求めるということは、非常に難しい問題である。"
   ]
  },
  {
   "cell_type": "markdown",
   "metadata": {},
   "source": [
    "**注意**：実際の研究では、よく整備されたライブラリがすでにあれば、それを利用すべきである。今回の場合で言うと、例えば [SciPy](https://www.scipy.org/scipylib/) というライブラリに [scipy.optimize.root_scalar](https://docs.scipy.org/doc/scipy/reference/generated/scipy.optimize.root_scalar.html) という関数が存在する。ただし、今回習うような基本的なアルゴリズムを知っておくと、ライブラリの中で何をやっているかを理解しやすくなり、想像していた解が得られないなど困難にぶつかった場合に原因を特定しやすくなるだろう。"
   ]
  },
  {
   "cell_type": "markdown",
   "metadata": {},
   "source": [
    "## 関数の概形を描く"
   ]
  },
  {
   "cell_type": "markdown",
   "metadata": {},
   "source": [
    "「彼（敵）を知り己を知れば百戦殆うからず」という孫子の言葉がある。まずは、今回の「敵」である式 (4) の $f(x)$ のような関数の概形を知るために、グラフを簡単に描く関数を定義しよう。"
   ]
  },
  {
   "cell_type": "code",
   "execution_count": null,
   "metadata": {},
   "outputs": [],
   "source": [
    "%matplotlib inline\n",
    "import matplotlib.pyplot as plt\n",
    "import numpy as np\n",
    "\n",
    "\n",
    "def make_plot(f, x1, x2):\n",
    "    # 関数f(x)に対し、x1からx2までの範囲のグラフを表示する関数。\n",
    "    xpoints = np.linspace(x1, x2, 200)\n",
    "    ypoints = np.vectorize(f)(xpoints)\n",
    "    fig, ax = plt.subplots()\n",
    "    ax.plot(xpoints, ypoints)\n",
    "    ax.axhline(color='r')  # x軸（y=0）\n",
    "    ax.grid()\n",
    "    plt.show()"
   ]
  },
  {
   "cell_type": "markdown",
   "metadata": {},
   "source": [
    "上で定義した `make_plot` 関数の使用例として、$x^2 - x - 6 = 0$ の左辺を $-4 \\le x \\le 4$ の範囲で描いてみよう。"
   ]
  },
  {
   "cell_type": "code",
   "execution_count": null,
   "metadata": {},
   "outputs": [],
   "source": [
    "def f(x):\n",
    "    return x ** 2 - x - 6\n",
    "\n",
    "\n",
    "make_plot(f, -4, 4)"
   ]
  },
  {
   "cell_type": "markdown",
   "metadata": {},
   "source": [
    "$x^2 - x - 6 = 0$ の解が $x = -2$ 付近と $x = 3$ 付近にあることが分かるだろう。（実際に $x = -2$ と $x = 3$ が解である。）"
   ]
  },
  {
   "cell_type": "markdown",
   "metadata": {},
   "source": [
    "## ラムダ式"
   ]
  },
  {
   "cell_type": "markdown",
   "metadata": {},
   "source": [
    "上の例では、関数 `f` を定義して、それを `make_plot` 関数に引数として渡している。これでも特に問題はないが、わざわざ（中身はたった一行の短い `return` 文であるような）関数を定義し、それに `f` という名前を与えている。後で関数 `f` を何回も再利用するのでもなければ、これは少々仰々しいとも思える。"
   ]
  },
  {
   "cell_type": "markdown",
   "metadata": {},
   "source": [
    "Python では、このようなちょっとした関数を表すための[ラムダ式](https://docs.python.org/ja/3/tutorial/controlflow.html?highlight=%E3%83%A9%E3%83%A0%E3%83%80#lambda-expressions)というものが用意されており、名前のない小さな関数を作ることができる。例えば、`lambda x: x ** 2` と書くと、引数 `x` を取り、`x ** 2` を返す関数となる。上の例を、ラムダ式で作った関数を直接 `make_plot` に渡すことで書くと、次のようになる。"
   ]
  },
  {
   "cell_type": "code",
   "execution_count": null,
   "metadata": {},
   "outputs": [],
   "source": [
    "make_plot(lambda x: x ** 2 - x - 6, -4, 4)"
   ]
  },
  {
   "cell_type": "markdown",
   "metadata": {},
   "source": [
    "## 練習問題"
   ]
  },
  {
   "cell_type": "markdown",
   "metadata": {},
   "source": [
    "(1) $e^x - 3x = 0$ について、グラフを描くことによって、解がどの辺りにあるか検討せよ（解は二つある）。$e^x$については、 [math モジュール](https://docs.python.org/ja/3/library/math.html)の [exp 関数](https://docs.python.org/ja/3/library/math.html#math.exp)を使えばよい。"
   ]
  },
  {
   "cell_type": "markdown",
   "metadata": {},
   "source": [
    "## ニュートン法"
   ]
  },
  {
   "cell_type": "markdown",
   "metadata": {},
   "source": [
    "![ニュートン法](images/newton.png)\n",
    "図1. ニュートン法"
   ]
  },
  {
   "cell_type": "markdown",
   "metadata": {},
   "source": [
    "いま、関数 $f(x)$ とその導関数 $f'(x)$ が分かっているものとして、$f(x)=0$ の解を数値的に求めることを考えよう。ある $x$ の値 $x_0$ を適当に取り、曲線 $f(x)$ 上の点 $(x_0, f(x_0))$ を通る接線を引く（図 1）。ただし、$f'(x) \\ne 0$ と仮定する。その接線と $x$ 軸との交点の $x$ 座標を $x_1$ とすると、$x_1$ は $x_0$ よりも $f(x) = 0$ を満たす $x$ の値に（少なくとも図 1の場合には）近づいていることが分かるだろう。$x_1$ の値は次のように求めることができる："
   ]
  },
  {
   "cell_type": "markdown",
   "metadata": {},
   "source": [
    "$$\n",
    "x_1 = x_0 - \\frac{f(x_0)}{f'(x_0)} .\n",
    "\\tag{5}\n",
    "$$"
   ]
  },
  {
   "cell_type": "markdown",
   "metadata": {},
   "source": [
    "次に、曲線 $f(x)$ 上の点 $(x_1, f(x_1))$ を通る接線を引き、その接線と $x$ 軸との交点の $x$ 座標を $x_2$ とする。このとき、$x_2$ は $x_1$ よりも解に近い値となっている。この操作を繰り返すことにすると、次の漸化式を得る："
   ]
  },
  {
   "cell_type": "markdown",
   "metadata": {},
   "source": [
    "$$\n",
    "x_{n+1} = x_n - \\frac{f(x_n)}{f'(x_n)} .\n",
    "\\tag{6}\n",
    "$$"
   ]
  },
  {
   "cell_type": "markdown",
   "metadata": {},
   "source": [
    "式 (6) の反復によって近似解を求める方法をニュートン法（Newton's method）と呼ぶ。"
   ]
  },
  {
   "cell_type": "code",
   "execution_count": null,
   "metadata": {},
   "outputs": [],
   "source": [
    "def newton(f, fprime, x0, maxiter=100, verbose=False):\n",
    "    # 方程式f(x)=0の解を、x0から出発してニュートン法で求めて返す関数。\n",
    "    # fprime(x)は微分を返すとする。\n",
    "    #\n",
    "    # x0: 初期値\n",
    "    # maxiter: ニュートン法の反復回数\n",
    "    # verbose: Trueなら途中の収束状況を表示\n",
    "    x = x0\n",
    "    \n",
    "    for i in range(maxiter):\n",
    "        if verbose:\n",
    "            print(f'it={i}, x={x}')\n",
    "        \n",
    "        # 漸化式\n",
    "        x = x - f(x) / fprime(x)\n",
    "    \n",
    "    return x"
   ]
  },
  {
   "cell_type": "markdown",
   "metadata": {},
   "source": [
    "上で定義した `newton` 関数を $x^2 - x - 6 = 0$ に対して用いてみよう。"
   ]
  },
  {
   "cell_type": "code",
   "execution_count": null,
   "metadata": {},
   "outputs": [],
   "source": [
    "newton(lambda x: x ** 2 - x - 6, lambda x: 2 * x - 1, 4)"
   ]
  },
  {
   "cell_type": "markdown",
   "metadata": {},
   "source": [
    "複数の解がある場合、初期値を変えると、収束する先の解も変わる。"
   ]
  },
  {
   "cell_type": "code",
   "execution_count": null,
   "metadata": {},
   "outputs": [],
   "source": [
    "newton(lambda x: x ** 2 - x - 6, lambda x: 2 * x - 1, -4)"
   ]
  },
  {
   "cell_type": "markdown",
   "metadata": {},
   "source": [
    "ニュートン法は、初期値 $x_0$ が十分に解に近ければ、非常に速く収束することが知られている。また、一変数実関数の求解だけでなく、複素関数や多変数関数の求解へと拡張することも可能である。しかし、導関数 $f'(x)$ が必要であり[<sup id=\"cite_ref-2\">[2]</sup>](#cite_note-2)、また $f'(x) = 0$ となる点があると、ゼロ除算によるエラーや、うまく収束しないこともある。"
   ]
  },
  {
   "cell_type": "markdown",
   "metadata": {},
   "source": [
    "## 練習問題"
   ]
  },
  {
   "cell_type": "markdown",
   "metadata": {},
   "source": [
    "(2) `newton` 関数は `verbose=True` をオプション引数に与えると、収束の状況を逐一表示する。上の例（$x^2 - x - 6 = 0$）に対して、初期値 $x_0$ をいろいろと変えながら、収束の様子を確かめよ。"
   ]
  },
  {
   "cell_type": "markdown",
   "metadata": {},
   "source": [
    "(3) ニュートン法を用いて、$\\sqrt{2}$ の値を求めよ。（つまり $x^2 = 2$ を考える。）"
   ]
  },
  {
   "cell_type": "markdown",
   "metadata": {},
   "source": [
    "(4) $e^x = 3 x$ の解を求めよ。"
   ]
  },
  {
   "cell_type": "markdown",
   "metadata": {},
   "source": [
    "(5) $x + 3 \\sin(x) = 0$ のグラフを描いて概形を確認せよ。初期値を (a) $x_0 = 0.1$、(b) $x_0 = 3$ と取って、ニュートン法を実行し、何が起こるか確かめよ。"
   ]
  },
  {
   "cell_type": "markdown",
   "metadata": {},
   "source": [
    "## 二分法"
   ]
  },
  {
   "cell_type": "markdown",
   "metadata": {},
   "source": [
    "![二分法](images/bisect.png)\n",
    "図 2. 二分法"
   ]
  },
  {
   "cell_type": "markdown",
   "metadata": {},
   "source": [
    "いま、ある $x$ の値 $x_1$ と $x_2$ に対し、$f(x_1)$ と $f(x_2)$ が同符号でないことが分かっているとする。すると、関数 $f(x)$ が区間 $[x_1, x_2]$ で連続であれば、中間値の定理により、この区間内に $f(x) = 0$ の解が少なくとも一つは存在する。ここで $x_1$ と $x_2$ の中点："
   ]
  },
  {
   "cell_type": "markdown",
   "metadata": {},
   "source": [
    "$$\n",
    "x_\\text{mid} = \\frac{x_1 + x_2}{2} ,\n",
    "\\tag{7}\n",
    "$$"
   ]
  },
  {
   "cell_type": "markdown",
   "metadata": {},
   "source": [
    "を考える。もし $f(x_\\text{mid})$ が $f(x_1)$ と同符号であれば、区間 $[x_\\text{mid}, x_2]$ に少なくとも一つの解がある。もし $f(x_\\text{mid})$ が $f(x_2)$ と同符号であれば、区間 $[x_1, x_\\text{mid}]$ に少なくとも一つの解がある。このようにして、解の存在する区間を半分にすることができる。これを繰り返すと、いくらでも解の存在する区間を小さくすることができる（二分法（bisection method））。"
   ]
  },
  {
   "cell_type": "code",
   "execution_count": null,
   "metadata": {},
   "outputs": [],
   "source": [
    "def bisect(f, x1, x2, maxiter=100, verbose=False):\n",
    "    # 方程式f(x)=0の、x1からx2の間にある一つの解を二分探索によって返す関数。\n",
    "    # ただし、f(x1)とf(x2)は同符号ではないとする。\n",
    "    #\n",
    "    # maxiter: 二分探索の分割数\n",
    "    # verbose: Trueなら途中の収束状況を表示\n",
    "    \n",
    "    # まずはy1 = f(x1)とy2 = f(x2)を計算する。\n",
    "    y1 = f(x1)\n",
    "    y2 = f(x2)    \n",
    "\n",
    "    # f(x1)とf(x2)は同符号で合ってはならない。\n",
    "    if y1 * y2 > 0:\n",
    "        print('エラー: f(x1)とf(x2)が同符号')\n",
    "        return  # 注意：エラーの時は値を何も返さない。\n",
    "\n",
    "    # x1<=x<=x2の間の解を二分探索で探す。\n",
    "    for i in range(maxiter):\n",
    "        if verbose:\n",
    "            print(f'it={i}, x1={x1}, x2={x2}')\n",
    "    \n",
    "        # 中間での関数の値を求める。\n",
    "        xmid = (x1 + x2) / 2\n",
    "        ymid = f(xmid)\n",
    "        \n",
    "        # 求めた値がy1とy2のどちらと同符号かを調べ、\n",
    "        # その結果によって探索範囲を狭める。\n",
    "        if ymid * y1 > 0:\n",
    "            x1 = xmid\n",
    "            y1 = ymid\n",
    "        else:\n",
    "            x2 = xmid\n",
    "            y2 = ymid\n",
    "    \n",
    "    # x1とx2の中間値を近似解として返す。\n",
    "    return (x1 + x2) / 2"
   ]
  },
  {
   "cell_type": "markdown",
   "metadata": {},
   "source": [
    "上で定義した `bisect` 関数を $x^2 - x - 6 = 0$ に対して用いてみよう。注意として、求めたい解を挟んで、$x_1$ と $x_2$ を $f(x_1)$ と $f(x_2)$ が異符号となるように選ぶ必要がある。"
   ]
  },
  {
   "cell_type": "code",
   "execution_count": null,
   "metadata": {},
   "outputs": [],
   "source": [
    "bisect(lambda x: x ** 2 - x - 6, -5, 0)"
   ]
  },
  {
   "cell_type": "code",
   "execution_count": null,
   "metadata": {},
   "outputs": [],
   "source": [
    "bisect(lambda x: x ** 2 - x - 6, 0, 5)"
   ]
  },
  {
   "cell_type": "markdown",
   "metadata": {},
   "source": [
    "## 練習問題"
   ]
  },
  {
   "cell_type": "markdown",
   "metadata": {},
   "source": [
    "(6) 二分法を使って (a) $e^x = 3 x$、(b) $x + 3 \\sin(x) = 0$ の解を求めよ。"
   ]
  },
  {
   "cell_type": "markdown",
   "metadata": {},
   "source": [
    "(7) 「彼（敵）を知り己を知れば百戦殆うからず」と言うように、戦いに勝つには「己」を知る必要がある。ニュートン法と二分法のそれぞれの長所と短所をまとめよ。（必要であれば調べよ。）"
   ]
  },
  {
   "cell_type": "markdown",
   "metadata": {},
   "source": [
    "## 演習課題"
   ]
  },
  {
   "cell_type": "markdown",
   "metadata": {},
   "source": [
    "上の例題で定義された `newton` と `bisect` について、**そのまま変更せずに使うのなら**解答セルにそのコピーを書かなくてもよいこととする。以下の問題ではニュートン法と二分法のどちらを用いてもよい。"
   ]
  },
  {
   "cell_type": "markdown",
   "metadata": {},
   "source": [
    "(1) 次の方程式の、$x=0$ **以外**の解のうち一つを求めよ。"
   ]
  },
  {
   "cell_type": "markdown",
   "metadata": {},
   "source": [
    "$$\n",
    "\\sin(x) = \\frac{x}{2} ,\n",
    "\\tag{8}\n",
    "$$"
   ]
  },
  {
   "cell_type": "code",
   "execution_count": null,
   "metadata": {},
   "outputs": [],
   "source": [
    "# 課題解答13.1  <-- 提出する際に、この行を必ず含めること。\n",
    "\n",
    "from math import cos, sin\n",
    "\n",
    "\n"
   ]
  },
  {
   "cell_type": "markdown",
   "metadata": {},
   "source": [
    "(2) 次の方程式の、$x = 0$ **以外**の解を求めよ。この式は、プランクの法則からウィーンの変位則を導くときに現れる[<sup id=\"cite_ref-3\">[3]</sup>](#cite_note-3)。"
   ]
  },
  {
   "cell_type": "markdown",
   "metadata": {},
   "source": [
    "$$\n",
    "(x - 5)  e^{x} + 5 = 0 .\n",
    "\\tag{9}\n",
    "$$"
   ]
  },
  {
   "cell_type": "code",
   "execution_count": null,
   "metadata": {},
   "outputs": [],
   "source": [
    "# 課題解答13.2  <-- 提出する際に、この行を必ず含めること。\n",
    "\n",
    "from math import exp\n",
    "\n",
    "\n"
   ]
  },
  {
   "cell_type": "markdown",
   "metadata": {},
   "source": [
    "(3) 次の方程式の解を、$a = 1$ の場合について求めよ。ただし、平方根の中が正であるという条件によって $x$ の範囲が制限されることに注意せよ。また、$x = 0$ では分母が 0 となり、ゼロ除算によるエラーが起こることにも注意が必要である。この式は、量子力学で有限の高さの井戸型ポテンシャルでのエネルギー固有値を計算するときに現れる[<sup id=\"cite_ref-4\">[4]</sup>](#cite_note-4)。"
   ]
  },
  {
   "cell_type": "markdown",
   "metadata": {},
   "source": [
    "$$\n",
    "\\tan(x) = \\frac{\\sqrt{a-x^2}}{x} .\n",
    "\\tag{10}\n",
    "$$"
   ]
  },
  {
   "cell_type": "code",
   "execution_count": null,
   "metadata": {},
   "outputs": [],
   "source": [
    "# 課題解答13.3  <-- 提出する際に、この行を必ず含めること。\n",
    "\n",
    "from math import cos, sqrt, tan\n",
    "\n",
    "\n"
   ]
  },
  {
   "cell_type": "markdown",
   "metadata": {},
   "source": [
    "## 脚注"
   ]
  },
  {
   "cell_type": "markdown",
   "metadata": {},
   "source": [
    "<span id=\"cite_note-1\">1.</span> [^](#cite_ref-1)\n",
    "式 (3) のような連立一次方程式の求解は、線形代数学における一大テーマであり、一般の場合（未知数の数が 100 個とか 1000 個とかだったり、そもそも線形独立でない式が含まれていたりしたとき）に、いかに数値的に安定して高速に解を求めるかは厄介な問題であるが、ここでは取り扱わない。"
   ]
  },
  {
   "cell_type": "markdown",
   "metadata": {},
   "source": [
    "<span id=\"cite_note-2\">2.</span> [^](#cite_ref-2)\n",
    "導関数が簡単に求まらない場合のアルゴリズムには、差分によって導関数を近似する割線法（secant method）や、その一般化である準ニュートン法（quasi-Newton method）が知られている。"
   ]
  },
  {
   "cell_type": "markdown",
   "metadata": {},
   "source": [
    "<span id=\"cite_note-3\">3.</span> [^](#cite_ref-3)\n",
    "黒体放射の強度のピークを求める。プランクの公式\n",
    "$$\n",
    "B(\\lambda,T) d\\lambda d\\Omega = \\frac{2 h c^2}{\\lambda^5} \\frac{1}{\\exp\\left(\\frac{hc}{\\lambda k_B T}\\right) - 1}  d\\lambda d\\Omega,\n",
    "$$\n",
    "より $B(\\lambda,T)$ を $\\lambda$ について偏微分したとき、これが $0$ となる必要がある。$x=hc/(\\lambda k_B T)$ とおくと式 (9) が得られる。"
   ]
  },
  {
   "cell_type": "markdown",
   "metadata": {},
   "source": [
    "<span id=\"cite_note-4\">4.</span> [^](#cite_ref-4)\n",
    "時間に依存しない一次元シュレディンガー方程式、"
   ]
  },
  {
   "cell_type": "markdown",
   "metadata": {},
   "source": [
    "$$\n",
    "\\left[ - \\frac{\\hbar^2}{2m} \\frac{d^2}{dx^2} + V(x) \\right] \\psi(x) = E \\psi(x) ,\n",
    "$$"
   ]
  },
  {
   "cell_type": "markdown",
   "metadata": {},
   "source": [
    "において、いま（原点に対して対称な）有限の高さの井戸型ポテンシャル、"
   ]
  },
  {
   "cell_type": "markdown",
   "metadata": {},
   "source": [
    "$$\n",
    "V(x) =\n",
    "\\begin{cases}\n",
    "  0 , & |x| \\le L , \\\\\n",
    "  V_0 , & |x| > L ,\n",
    "\\end{cases}\n",
    "$$"
   ]
  },
  {
   "cell_type": "markdown",
   "metadata": {},
   "source": [
    "に対する束縛状態（$E < V_0$）を考える。ポテンシャルが偶関数なので、波動関数 $\\psi(x)$ は偶関数か奇関数である。よって $x \\ge 0$ のみを考えれば十分であり、$\\psi(x)$ が偶関数だと仮定すると、無限遠で $\\psi \\to 0$ であるのと、$x=L$ での対数微分（$\\psi'/\\psi$）の連続性より、"
   ]
  },
  {
   "cell_type": "markdown",
   "metadata": {},
   "source": [
    "$$\n",
    "k \\tan(kL) = \\kappa , \\qquad\n",
    "k = \\frac{\\sqrt{2 m E}}{\\hbar} , \\qquad\n",
    "\\kappa = \\frac{\\sqrt{2 m (V_0 - E)}}{\\hbar} = \\sqrt{\\frac{2 m V_0}{\\hbar^2} - k^2} ,\n",
    "$$"
   ]
  },
  {
   "cell_type": "markdown",
   "metadata": {},
   "source": [
    "という条件が得られる（奇関数の場合は、$- k \\cot(kL) = \\kappa$ である）。ここで $\\xi = kL$ とおくと、"
   ]
  },
  {
   "cell_type": "markdown",
   "metadata": {},
   "source": [
    "$$\n",
    "\\tan(\\xi) = \\frac{\\sqrt{\\frac{2mV_0L^2}{\\hbar^2} - \\xi^2}}{\\xi} ,\n",
    "$$"
   ]
  },
  {
   "cell_type": "markdown",
   "metadata": {},
   "source": [
    "となり、これを満たす $\\xi$ が分かれば、エネルギー固有値を求めることができる。（教科書によっては、作図による解の求め方が書いてある。）"
   ]
  }
 ],
 "metadata": {
  "kernelspec": {
   "display_name": "Python 3",
   "language": "python",
   "name": "python3"
  },
  "language_info": {
   "codemirror_mode": {
    "name": "ipython",
    "version": 3
   },
   "file_extension": ".py",
   "mimetype": "text/x-python",
   "name": "python",
   "nbconvert_exporter": "python",
   "pygments_lexer": "ipython3",
   "version": "3.7.7"
  }
 },
 "nbformat": 4,
 "nbformat_minor": 4
}
