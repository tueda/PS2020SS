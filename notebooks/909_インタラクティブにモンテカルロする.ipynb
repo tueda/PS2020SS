{
 "cells": [
  {
   "cell_type": "markdown",
   "metadata": {},
   "source": [
    "Binder、Colab でも動くが、反応が遅い。"
   ]
  },
  {
   "cell_type": "code",
   "execution_count": null,
   "metadata": {},
   "outputs": [],
   "source": [
    "%matplotlib inline\n",
    "import matplotlib.pyplot as plt\n",
    "from ipywidgets import interact\n",
    "import random\n",
    "\n",
    "n = 1000\n",
    "\n",
    "xpoints = []\n",
    "ypoints = []\n",
    "colors = []\n",
    "counts = [0]\n",
    "\n",
    "count = 0\n",
    "\n",
    "for _ in range(n):\n",
    "    x = random.random()\n",
    "    y = random.random()\n",
    "    \n",
    "    xpoints.append(x)\n",
    "    ypoints.append(y)\n",
    "    \n",
    "    if x ** 2 + y ** 2 < 1:\n",
    "        colors.append('blue')\n",
    "        count += 1\n",
    "    else:\n",
    "        colors.append('red')\n",
    "        \n",
    "    counts.append(count)\n",
    "\n",
    "    \n",
    "def update(n=0):\n",
    "    if n > 0:\n",
    "        result = 4 * counts[n] / n\n",
    "        error = result / n ** 0.5\n",
    "    else:\n",
    "        result = 0\n",
    "        error = 0\n",
    "    \n",
    "    fig, ax = plt.subplots()\n",
    "    ax.scatter(xpoints[:n], ypoints[:n], c=colors[:n])\n",
    "    ax.set_aspect('equal')\n",
    "    ax.add_patch(plt.Circle((0, 0), radius=1, fc=\"none\", ec=\"green\", linewidth=2))\n",
    "    ax.set_xlim(0, 1)\n",
    "    ax.set_ylim(0, 1)\n",
    "    ax.grid()\n",
    "    plt.show()\n",
    "\n",
    "    print(f'試行回数: {n}')\n",
    "    print(f'結果: {result}')\n",
    "    print(f'誤差: {error}')\n",
    "    \n",
    "interact(update, n=(0, 1000, 10));"
   ]
  }
 ],
 "metadata": {
  "kernelspec": {
   "display_name": "Python 3",
   "language": "python",
   "name": "python3"
  },
  "language_info": {
   "codemirror_mode": {
    "name": "ipython",
    "version": 3
   },
   "file_extension": ".py",
   "mimetype": "text/x-python",
   "name": "python",
   "nbconvert_exporter": "python",
   "pygments_lexer": "ipython3",
   "version": "3.7.7"
  }
 },
 "nbformat": 4,
 "nbformat_minor": 4
}
