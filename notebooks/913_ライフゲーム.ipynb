{
 "cells": [
  {
   "cell_type": "markdown",
   "metadata": {},
   "source": [
    "# ライフゲーム"
   ]
  },
  {
   "cell_type": "markdown",
   "metadata": {},
   "source": [
    "pros:\n",
    "- Jupyter, Colab 両方で動く。\n",
    "\n",
    "cons:\n",
    "- Binderで動かない(?)\n",
    "- アニメーション化が遅い。\n",
    "- アニメーションをノートブックに保存するとサイズが大きくなる。"
   ]
  },
  {
   "cell_type": "code",
   "execution_count": null,
   "metadata": {
    "scrolled": true
   },
   "outputs": [],
   "source": [
    "%%capture\n",
    "%matplotlib inline\n",
    "import matplotlib.pyplot as plt\n",
    "from matplotlib.animation import FuncAnimation\n",
    "from IPython.display import HTML\n",
    "import random\n",
    "import numpy as np\n",
    "import numba\n",
    "\n",
    "L = 100\n",
    "FIG_SIZE = 8\n",
    "MAX_T = 1000\n",
    "\n",
    "\n",
    "def init_cells(a):\n",
    "    for i in range(L):\n",
    "        for j in range(L):\n",
    "            if random.random() < 0.3:\n",
    "                a[i, j] = True\n",
    "\n",
    "\n",
    "@numba.njit\n",
    "def update_cells(a, b):\n",
    "    for i in range(L):\n",
    "        for j in range(L):\n",
    "            left = i - 1\n",
    "            right = i + 1\n",
    "            up = j - 1\n",
    "            down = j + 1\n",
    "            \n",
    "            if left < 0:\n",
    "                left += L\n",
    "            if right >= L:\n",
    "                right -= L\n",
    "            if up < 0:\n",
    "                up += L\n",
    "            if down >= L:\n",
    "                down -= L\n",
    "    \n",
    "            count = 0\n",
    "            if b[left, up]:\n",
    "                count += 1\n",
    "            if b[i, up]:\n",
    "                count += 1\n",
    "            if b[right, up]:\n",
    "                count += 1\n",
    "            if b[left, j]:\n",
    "                count += 1\n",
    "            if b[right, j]:\n",
    "                count += 1\n",
    "            if b[left, down]:\n",
    "                count += 1\n",
    "            if b[i, down]:\n",
    "                count += 1\n",
    "            if b[right, down]:\n",
    "                count += 1\n",
    "                \n",
    "            if count == 2:\n",
    "                a[i, j] = b[i, j]\n",
    "            elif count == 3:\n",
    "                a[i, j] = True\n",
    "            else:\n",
    "                a[i, j] = False\n",
    "\n",
    "\n",
    "a = np.zeros(shape=(L, L), dtype=bool)\n",
    "b = a.copy()\n",
    "t = 0\n",
    "\n",
    "init_cells(a)\n",
    "\n",
    "fig, ax = plt.subplots(figsize=(FIG_SIZE, FIG_SIZE))\n",
    "ax.set_axis_off()\n",
    "tlabel = ax.text(L, 0, f't = {t}')\n",
    "image = ax.matshow(a.T, vmin=0, vmax=1)\n",
    "\n",
    "def update(frame):\n",
    "    global a, b, t\n",
    "    if frame <= t:\n",
    "        return\n",
    "    update_cells(b, a)\n",
    "    a, b = b, a\n",
    "    t += 1\n",
    "    tlabel.set_text(f't = {t}')\n",
    "    image.set_data(a.T)\n",
    "\n",
    "anim = FuncAnimation(fig, update, frames=MAX_T + 1)"
   ]
  },
  {
   "cell_type": "code",
   "execution_count": null,
   "metadata": {},
   "outputs": [],
   "source": [
    "HTML(anim.to_jshtml())"
   ]
  }
 ],
 "metadata": {
  "kernelspec": {
   "display_name": "Python 3",
   "language": "python",
   "name": "python3"
  },
  "language_info": {
   "codemirror_mode": {
    "name": "ipython",
    "version": 3
   },
   "file_extension": ".py",
   "mimetype": "text/x-python",
   "name": "python",
   "nbconvert_exporter": "python",
   "pygments_lexer": "ipython3",
   "version": "3.7.7"
  }
 },
 "nbformat": 4,
 "nbformat_minor": 4
}
