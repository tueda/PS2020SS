{
 "cells": [
  {
   "cell_type": "markdown",
   "metadata": {},
   "source": [
    "# 高機能な電卓として使う"
   ]
  },
  {
   "cell_type": "markdown",
   "metadata": {},
   "source": [
    "## 基本演算"
   ]
  },
  {
   "cell_type": "markdown",
   "metadata": {},
   "source": [
    "足し算(`+`)、引き算(`-`)、掛け算(`*`)、割り算(`/`)、および累乗(`**`)を使ってみよう。(ノートブックの使い方に慣れるためにも、セルを好きなだけ挿入したり、逆に削除したり、また、いろいろ式を変えてみたりして遊んでみてください。理解を深めるために自分でいろいろと試してみることが大事です。)"
   ]
  },
  {
   "cell_type": "code",
   "execution_count": null,
   "metadata": {},
   "outputs": [],
   "source": [
    "100 + 5"
   ]
  },
  {
   "cell_type": "code",
   "execution_count": null,
   "metadata": {},
   "outputs": [],
   "source": [
    "1 - 0.1"
   ]
  },
  {
   "cell_type": "code",
   "execution_count": null,
   "metadata": {},
   "outputs": [],
   "source": [
    "9 * 2"
   ]
  },
  {
   "cell_type": "code",
   "execution_count": null,
   "metadata": {},
   "outputs": [],
   "source": [
    "1 / 3"
   ]
  },
  {
   "cell_type": "code",
   "execution_count": null,
   "metadata": {},
   "outputs": [],
   "source": [
    "2 ** 3"
   ]
  },
  {
   "cell_type": "code",
   "execution_count": null,
   "metadata": {},
   "outputs": [],
   "source": [
    "1.23e3 + 6.789e-5"
   ]
  },
  {
   "cell_type": "markdown",
   "metadata": {},
   "source": [
    "整数としての割り算(`//`)、余り(`%`)を求めることもできる。普通の割り算(`/`)と比較してみよう。[<sup id=\"cite_ref-1\">[1]</sup>](#cite_note-1)"
   ]
  },
  {
   "cell_type": "code",
   "execution_count": null,
   "metadata": {},
   "outputs": [],
   "source": [
    "22 / 7"
   ]
  },
  {
   "cell_type": "code",
   "execution_count": null,
   "metadata": {},
   "outputs": [],
   "source": [
    "22 // 7"
   ]
  },
  {
   "cell_type": "code",
   "execution_count": null,
   "metadata": {},
   "outputs": [],
   "source": [
    "22 % 7"
   ]
  },
  {
   "cell_type": "markdown",
   "metadata": {},
   "source": [
    "もちろん、これらの組み合わせも計算できる。数学での規則と同じように、掛け算や割り算は、足し算や引き算よりも先に計算される。計算の順序を変えたいときは丸カッコ(`(`と`)`)を使う。"
   ]
  },
  {
   "cell_type": "code",
   "execution_count": null,
   "metadata": {},
   "outputs": [],
   "source": [
    "2 + 3 * 2"
   ]
  },
  {
   "cell_type": "code",
   "execution_count": null,
   "metadata": {},
   "outputs": [],
   "source": [
    "(2 + 3) * 2"
   ]
  },
  {
   "cell_type": "markdown",
   "metadata": {},
   "source": [
    "## データ型"
   ]
  },
  {
   "cell_type": "markdown",
   "metadata": {},
   "source": [
    "プログラミングにおいて、データの取りうる種類のことを「データ型」(あるいは単に「型」)と呼ぶ。Pythonにもいろいろなデータ型が用意されている。例えば、Pythonでは整数(`int`)と小数(`float`)はデータ型として区別されており、\n",
    "- 整数どうしの計算は答えが整数に、\n",
    "- 小数どうしの計算は答えが小数に、\n",
    "- 整数と小数の混ざった計算は答えが小数に\n",
    "\n",
    "なる。ただし、`/`を使った割り算は、答えは必ず小数になる(整数`/`整数であっても)。"
   ]
  },
  {
   "cell_type": "code",
   "execution_count": null,
   "metadata": {},
   "outputs": [],
   "source": [
    "1 + 2"
   ]
  },
  {
   "cell_type": "code",
   "execution_count": null,
   "metadata": {},
   "outputs": [],
   "source": [
    "1.0 + 2.0"
   ]
  },
  {
   "cell_type": "code",
   "execution_count": null,
   "metadata": {},
   "outputs": [],
   "source": [
    "1 + 2.0"
   ]
  },
  {
   "cell_type": "code",
   "execution_count": null,
   "metadata": {
    "scrolled": true
   },
   "outputs": [],
   "source": [
    "1 / 2"
   ]
  },
  {
   "cell_type": "markdown",
   "metadata": {},
   "source": [
    "Pythonでは、(コンピューターのメモリが許す限り)いくらでも大きな整数(integer)を扱うことができる[<sup id=\"cite_ref-2\">[2]</sup>](#cite_note-2)。[<sup id=\"cite_ref-3\">[3]</sup>](#cite_note-3)"
   ]
  },
  {
   "cell_type": "code",
   "execution_count": null,
   "metadata": {},
   "outputs": [],
   "source": [
    "2 ** 67 - 1"
   ]
  },
  {
   "cell_type": "code",
   "execution_count": null,
   "metadata": {},
   "outputs": [],
   "source": [
    "193707721 * 761838257287"
   ]
  },
  {
   "cell_type": "code",
   "execution_count": null,
   "metadata": {},
   "outputs": [],
   "source": [
    "9 ** 99"
   ]
  },
  {
   "cell_type": "markdown",
   "metadata": {},
   "source": [
    "一方で、小数―もっと正確に言うと浮動小数点数(floating-point number)―は有効数字16桁弱で**近似的**に表される[<sup id=\"cite_ref-4\">[4]</sup>](#cite_note-4)。"
   ]
  },
  {
   "cell_type": "code",
   "execution_count": null,
   "metadata": {},
   "outputs": [],
   "source": [
    "0.3 / 3.0"
   ]
  },
  {
   "cell_type": "code",
   "execution_count": null,
   "metadata": {},
   "outputs": [],
   "source": [
    "0.1 + 0.1 + 0.1"
   ]
  },
  {
   "cell_type": "markdown",
   "metadata": {},
   "source": [
    "## 出力の制御"
   ]
  },
  {
   "cell_type": "markdown",
   "metadata": {},
   "source": [
    "上で見たように、セルに一つの式だけを入力すると、その式を評価した結果がセルの下に出力される。セルに複数の式を入力した場合、最後の式の結果だけが表示される。"
   ]
  },
  {
   "cell_type": "code",
   "execution_count": null,
   "metadata": {},
   "outputs": [],
   "source": [
    "1 + 2\n",
    "3 + 4\n",
    "5 + 6"
   ]
  },
  {
   "cell_type": "markdown",
   "metadata": {},
   "source": [
    "セルの途中で結果を出力したい場合は、`print`関数[<sup id=\"cite_ref-5\">[5]</sup>](#cite_note-5)を使って`print(出力したい式)`のように書く。セルの中の内容は、上から下へと順に実行されることに注意しよう。"
   ]
  },
  {
   "cell_type": "code",
   "execution_count": null,
   "metadata": {},
   "outputs": [],
   "source": [
    "print(1 + 2)\n",
    "print(3 + 4)\n",
    "print(5 + 6)"
   ]
  },
  {
   "cell_type": "markdown",
   "metadata": {},
   "source": [
    "セルの最後の式にセミコロン(`;`)を付けると、出力が抑制される。[<sup id=\"cite_ref-6\">[6]</sup>](#cite_note-6)"
   ]
  },
  {
   "cell_type": "code",
   "execution_count": null,
   "metadata": {},
   "outputs": [],
   "source": [
    "1 + 2\n",
    "3 + 4\n",
    "5 + 6;"
   ]
  },
  {
   "cell_type": "markdown",
   "metadata": {},
   "source": [
    "## 変数"
   ]
  },
  {
   "cell_type": "markdown",
   "metadata": {},
   "source": [
    "プログラムでは変数(variable)を使うことができる。変数とはデータを入れておく箱のようなものであり、それに名前がついていると考えればよい。変数にデータを入れるには代入(assignment)という操作を行う。次のセルでは変数`x`に`42`を代入している[<sup id=\"cite_ref-7\">[7]</sup>](#cite_note-7)。[<sup id=\"cite_ref-8\">[8]</sup>](#cite_note-8)"
   ]
  },
  {
   "cell_type": "code",
   "execution_count": null,
   "metadata": {},
   "outputs": [],
   "source": [
    "x = 42"
   ]
  },
  {
   "cell_type": "markdown",
   "metadata": {},
   "source": [
    "セルの最後が代入文の場合、その結果はノートブックに出力されないが、ちゃんと`x`に値が代入されているはずである。変数に代入した値は、後から参照することができる。"
   ]
  },
  {
   "cell_type": "code",
   "execution_count": null,
   "metadata": {},
   "outputs": [],
   "source": [
    "print(x)"
   ]
  },
  {
   "cell_type": "markdown",
   "metadata": {},
   "source": [
    "数学の等式では、左辺と右辺は等しい、つまり`x = 42`は、`x`が`42`に等しい、という意味である。しかし、Pythonの**代入文は、右辺を計算した結果を、左辺の変数に代入する**、という意味である。すでに代入されていた値がある場合、上書きされる。数学の`=`とPythonの`=`の意味を混同しないようにしよう。[<sup id=\"cite_ref-9\">[9]</sup>](#cite_note-9)"
   ]
  },
  {
   "cell_type": "code",
   "execution_count": null,
   "metadata": {},
   "outputs": [],
   "source": [
    "x = 10\n",
    "x = x + 1\n",
    "print(x)"
   ]
  },
  {
   "cell_type": "markdown",
   "metadata": {},
   "source": [
    "変数の名前[<sup id=\"cite_ref-10\">[10]</sup>](#cite_note-10)は、すでに文法上使われている名前以外であれば、かなり自由に付けることができる。大文字と小文字は区別される。[<sup id=\"cite_ref-11\">[11]</sup>](#cite_note-11)"
   ]
  },
  {
   "cell_type": "code",
   "execution_count": null,
   "metadata": {},
   "outputs": [],
   "source": [
    "x = 1\n",
    "X = 2\n",
    "print(x)\n",
    "print(X)"
   ]
  },
  {
   "cell_type": "code",
   "execution_count": null,
   "metadata": {},
   "outputs": [],
   "source": [
    "x1 = 2\n",
    "y2 = x1 + 2\n",
    "print(x1)\n",
    "print(y2)"
   ]
  },
  {
   "cell_type": "code",
   "execution_count": null,
   "metadata": {},
   "outputs": [],
   "source": [
    "some_words_as_you_like = 1\n",
    "other_words_as_you_like = some_words_as_you_like + 1\n",
    "print(some_words_as_you_like)\n",
    "print(other_words_as_you_like)"
   ]
  },
  {
   "cell_type": "markdown",
   "metadata": {},
   "source": [
    "何も値が代入されていない変数を参照しようとするとエラーになる(`... is not defined`)。その場合には、スペルミスはないか[<sup id=\"cite_ref-12\">[12]</sup>](#cite_note-12)、大文字小文字が間違ってないかをチェックした方がよい。"
   ]
  },
  {
   "cell_type": "code",
   "execution_count": null,
   "metadata": {
    "scrolled": true
   },
   "outputs": [],
   "source": [
    "print(some_words_as_you_lake)"
   ]
  },
  {
   "cell_type": "markdown",
   "metadata": {},
   "source": [
    "変数を使って、もう少し実用的なものを計算してみよう。次のセルでは、円周率を3として円の面積を計算している。"
   ]
  },
  {
   "cell_type": "code",
   "execution_count": null,
   "metadata": {},
   "outputs": [],
   "source": [
    "pi = 3\n",
    "radius = 2.0\n",
    "area = pi * (radius ** 2)\n",
    "print(area)"
   ]
  },
  {
   "cell_type": "markdown",
   "metadata": {},
   "source": [
    "## 練習問題"
   ]
  },
  {
   "cell_type": "markdown",
   "metadata": {},
   "source": [
    "(1) 円周率は3ではない。上のセルで、`pi`をもう少しよい近似値(3.14)に変更して、再実行してみよう。"
   ]
  },
  {
   "cell_type": "markdown",
   "metadata": {},
   "source": [
    "(2) 次のセルを実行する前に、`a`と`b`と`c`の値がどう出力されるかを考えてみよう。セルの中の文は、上から下へと順番に実行されることに注意すること。実際に実行してみて、自分の考えが合っていたか確かめてみよう。"
   ]
  },
  {
   "cell_type": "code",
   "execution_count": null,
   "metadata": {},
   "outputs": [],
   "source": [
    "a = 1\n",
    "b = a + 1\n",
    "a = 20\n",
    "c = b + 1\n",
    "c = c + 1\n",
    "print(a)\n",
    "print(b)\n",
    "print(c)"
   ]
  },
  {
   "cell_type": "markdown",
   "metadata": {},
   "source": [
    "## プログラム中のコメント"
   ]
  },
  {
   "cell_type": "markdown",
   "metadata": {},
   "source": [
    "セルの中にコメント(人間用の注釈)を入れるときは`#`を使う。`#`以降はその行が終わるまでPythonに無視される。[<sup id=\"cite_ref-13\">[13]</sup>](#cite_note-13)"
   ]
  },
  {
   "cell_type": "code",
   "execution_count": null,
   "metadata": {},
   "outputs": [],
   "source": [
    "# 台形の面積を求める。\n",
    "a = 3.0  # 上底\n",
    "b = 4.0  # 下底\n",
    "h = 5.0  # 高さ\n",
    "area = (a + b) * h / 2  # 面積\n",
    "print(area)"
   ]
  },
  {
   "cell_type": "markdown",
   "metadata": {},
   "source": [
    "一般に、変数に意味の分かりやすい名前を使ったり、適度にコメントを入れたりすると、ほかの人が読んでも理解しやすいプログラムとなる。そしてプログラミングにおいては、「1か月後のあなた」は「プログラムを書いている現在のあなた」とはまったくの他人だと考えた方がよい。人間は忘れる生き物である。"
   ]
  },
  {
   "cell_type": "markdown",
   "metadata": {},
   "source": [
    "## 練習問題"
   ]
  },
  {
   "cell_type": "markdown",
   "metadata": {},
   "source": [
    "(3) (やや難) 上の台形の面積を求めるプログラムを参考にして、三角形の三つの辺の長さが与えられたとき、その面積をヘロンの公式 ([Wikipedia へのリンク](https://ja.wikipedia.org/wiki/%E3%83%98%E3%83%AD%E3%83%B3%E3%81%AE%E5%85%AC%E5%BC%8F#%E5%85%AC%E5%BC%8F)) によって求めるプログラムを書いてみよう。ただし、平方根は`(...) ** (1/2)`のように累乗を使って求めることができる[<sup id=\"cite_ref-14\">[14]</sup>](#cite_note-14)。"
   ]
  },
  {
   "cell_type": "code",
   "execution_count": null,
   "metadata": {
    "scrolled": true
   },
   "outputs": [],
   "source": [
    "a = 3.0\n",
    "b = 4.0\n",
    "c = 5.0\n",
    "\n",
    "# ヘロンの公式を用いて三角形の面積を計算する(ように書き換えよう)。\n",
    "area = 0\n",
    "\n",
    "print(area)"
   ]
  },
  {
   "cell_type": "markdown",
   "metadata": {},
   "source": [
    "## 文字列"
   ]
  },
  {
   "cell_type": "markdown",
   "metadata": {},
   "source": [
    "コンピュータープログラムでは数値だけでなく、文章などのテキストデータを処理することも多い。Pythonには文字列[<sup id=\"cite_ref-15\">[15]</sup>](#cite_note-15)を扱うデータ型(`str`)がある。文字列はシングルクォート(`'`)かダブルクォート(`\"`)で囲って表す。"
   ]
  },
  {
   "cell_type": "code",
   "execution_count": null,
   "metadata": {},
   "outputs": [],
   "source": [
    "'こんにちは'"
   ]
  },
  {
   "cell_type": "markdown",
   "metadata": {},
   "source": [
    "もちろん文字列も変数に代入することができる。"
   ]
  },
  {
   "cell_type": "code",
   "execution_count": null,
   "metadata": {},
   "outputs": [],
   "source": [
    "a = 'こんにちは'\n",
    "print(a)"
   ]
  },
  {
   "cell_type": "markdown",
   "metadata": {},
   "source": [
    "文字列どうしは`+`によって連結(concatenation)することができる。"
   ]
  },
  {
   "cell_type": "code",
   "execution_count": null,
   "metadata": {},
   "outputs": [],
   "source": [
    "a = 'あいうえお'\n",
    "b = 'かきくけこ'\n",
    "c = a + b\n",
    "print(c)"
   ]
  },
  {
   "cell_type": "markdown",
   "metadata": {},
   "source": [
    "文字列と数は連結できない。次のセルを実行するとエラーが起こる。"
   ]
  },
  {
   "cell_type": "code",
   "execution_count": null,
   "metadata": {},
   "outputs": [],
   "source": [
    "a = '123'\n",
    "b = 456\n",
    "c = a + b\n",
    "print(c)"
   ]
  },
  {
   "cell_type": "markdown",
   "metadata": {},
   "source": [
    "## データ型の変換"
   ]
  },
  {
   "cell_type": "markdown",
   "metadata": {},
   "source": [
    "これまで`int`、`float`、`str`というデータ型が出てきたが、これらのデータ型を明示的に変換するには`int(なんらかの式)`、`float(なんらかの式)`、`str(なんらかの式)`のようにする。[<sup id=\"cite_ref-16\">[16]</sup>](#cite_note-16)"
   ]
  },
  {
   "cell_type": "code",
   "execution_count": null,
   "metadata": {},
   "outputs": [],
   "source": [
    "x = 22 / 7\n",
    "n = int(x)  # 浮動小数点数から整数に変換、小数点以下は切り捨てられる。\n",
    "print(x)\n",
    "print(n)"
   ]
  },
  {
   "cell_type": "code",
   "execution_count": null,
   "metadata": {},
   "outputs": [],
   "source": [
    "n = 42\n",
    "x = float(n)  # 整数から浮動小数点数に変換。\n",
    "print(n)\n",
    "print(x)"
   ]
  },
  {
   "cell_type": "code",
   "execution_count": null,
   "metadata": {},
   "outputs": [],
   "source": [
    "n = 42\n",
    "s = 'nの値は' + str(n)  # 整数から文字列に変換。その後、文字列として連結。\n",
    "print(n)\n",
    "print(s)"
   ]
  },
  {
   "cell_type": "markdown",
   "metadata": {},
   "source": [
    "文字列を`int`や`float`によって変換する際に、変換元の文字列が正しく数値を表していない場合はエラーが起こる。"
   ]
  },
  {
   "cell_type": "code",
   "execution_count": null,
   "metadata": {},
   "outputs": [],
   "source": [
    "s = '42.3'\n",
    "n = int(s)  # (浮動小数点数ではあるが)整数を表した文字列ではないのでエラーが起こる。"
   ]
  },
  {
   "cell_type": "code",
   "execution_count": null,
   "metadata": {},
   "outputs": [],
   "source": [
    "s = 'abc'\n",
    "x = float(s)  # 浮動小数点数を表した文字列ではないのでエラーが起こる。"
   ]
  },
  {
   "cell_type": "markdown",
   "metadata": {},
   "source": [
    "なお、整数や浮動小数点数などの式を文字列に埋め込んで一つの文字列にするという、フォーマット済み文字列リテラル(formatted string literal)という機能が最近のPythonにはあり[<sup id=\"cite_ref-17\">[17]</sup>](#cite_note-17)、非常に便利である。フォーマット済み文字列リテラルは、文字列の頭に`f`を付け、埋め込みたい式を`{なんらかの式}`のように書いたものである。"
   ]
  },
  {
   "cell_type": "code",
   "execution_count": null,
   "metadata": {},
   "outputs": [],
   "source": [
    "a = 10\n",
    "b = 3.14\n",
    "c = 'abc'\n",
    "s = f'フォーマット済み文字列リテラルには{a}や{b}や{c}のように何でも埋め込める！'\n",
    "print(s)"
   ]
  },
  {
   "cell_type": "markdown",
   "metadata": {},
   "source": [
    "## ユーザー入力"
   ]
  },
  {
   "cell_type": "markdown",
   "metadata": {},
   "source": [
    "ユーザーからの入力が欲しいときは`input`関数というものを使う。これは`input(なんらかの入力を促すメッセージ文字列の式)`のように書くと、ユーザー入力を**文字列として**得ることができるものである。(実行するとユーザー入力待ちの状態になるので、入力の後`Enter`キーで確定させること。)整数や浮動小数点数が欲しいときはデータ型の変換が必要となる。"
   ]
  },
  {
   "cell_type": "code",
   "execution_count": null,
   "metadata": {},
   "outputs": [],
   "source": [
    "s = input('なにか文字列を入力してください')\n",
    "print('あなたが入力したのは' + s)"
   ]
  },
  {
   "cell_type": "code",
   "execution_count": null,
   "metadata": {},
   "outputs": [],
   "source": [
    "a = input('文字列？')\n",
    "b = input('もう一つ文字列？')\n",
    "print(a + b)"
   ]
  },
  {
   "cell_type": "code",
   "execution_count": null,
   "metadata": {},
   "outputs": [],
   "source": [
    "a = int(input('整数？'))\n",
    "b = int(input('もう一つ整数？'))\n",
    "print(a + b)"
   ]
  },
  {
   "cell_type": "markdown",
   "metadata": {},
   "source": [
    "## 演習課題"
   ]
  },
  {
   "cell_type": "markdown",
   "metadata": {},
   "source": [
    "次のプログラムは、`x`という変数に`input`関数を用いて得られた数(`float`を使って変換している)を代入したあと、その値を`print`関数で出力するプログラムである。"
   ]
  },
  {
   "cell_type": "code",
   "execution_count": null,
   "metadata": {},
   "outputs": [],
   "source": [
    "x = float(input('xを入力してください'))\n",
    "print(x)"
   ]
  },
  {
   "cell_type": "markdown",
   "metadata": {},
   "source": [
    "これを参考にして、次のセルに\n",
    "1. `x`を入力する、\n",
    "2. `y`を入力する、\n",
    "3. `x`と`y`の和、差、積、商をそれぞれ順に出力する、\n",
    "\n",
    "という動作をするプログラムを作れ。"
   ]
  },
  {
   "cell_type": "code",
   "execution_count": null,
   "metadata": {},
   "outputs": [],
   "source": [
    "# 課題解答2.1  <-- 提出する際に、この行を必ず含めること。\n",
    "\n"
   ]
  },
  {
   "cell_type": "markdown",
   "metadata": {},
   "source": [
    "## 脚注"
   ]
  },
  {
   "cell_type": "markdown",
   "metadata": {},
   "source": [
    "<span id=\"cite_note-1\">1.</span> [^](#cite_ref-1)\n",
    "$22 / 7$は古代から知られている円周率の近似値である。\n",
    "\n",
    "<span id=\"cite_note-2\">2.</span> [^](#cite_ref-2)\n",
    "専門用語で言うと「任意精度多倍長整数 (arbitrary-precision integer number)」。ほかのプログラミング言語では、基本的な整数データ型の取りうる範囲があらかじめ決まっていることが多い。計算の結果がその範囲を超えたときに何が起こるかは言語によって異なる: オーバーフローのエラーが起こったり、間違った答えのままプログラムが進行してしまったり、何が起こるかはまったくの未定義でありプログラマの鼻から悪魔(nasal demons)を飛び出させても仕様に反しない、という冗談を言われてしまうような厄介な言語もある。\n",
    "\n",
    "<span id=\"cite_note-3\">3.</span> [^](#cite_ref-3)\n",
    "1903年、フランク・ネルソン・コールはアメリカ数学会の講演において$193707721 \\times 761838257287$の計算を黒板で行い、これが$M_{67} \\equiv 2^{67} - 1$の因数であることを示した。$M_{67}$が(1644年のマラン・メルセンヌの予想に反して)因数を持つことは1876年エドゥアール・リュカによって証明されていたが、その因数が何かは分かっていなかった。\n",
    "\n",
    "<span id=\"cite_note-4\">4.</span> [^](#cite_ref-4)\n",
    "専門用語で言うと「倍精度浮動小数点数 (double-precision floating-point number)」。ほかのプログラミング言語では、単倍精度浮動小数点数 (single-precision floating-point number) や、四倍精度浮動小数点数 (quadruple-precision floating-point number) も用意されていたりする。浮動小数点数は、固定長の仮数部と指数部を持ち、有効数字の桁数を固定して表される(小数点の位置が動く)。ほかの言語には小数点の位置を固定した固定小数点数(fixed-point number)があることも。\n",
    "\n",
    "<span id=\"cite_note-5\">5.</span> [^](#cite_ref-5)\n",
    "関数については後の回で扱うが、プログラミングでの「関数」を簡単に言うと、数学でいう関数を一般化したようなものであり、入力(引数)を与えてやると何かの値を返す。ここで入力や返ってくる値は数値である必要はないし、複数個あったり、何もない(`None`)場合もある。実際、`print`関数は引数として与えられた値を画面に表示したあと、何も値を返さない(あるいは`None`を返しているとも言える)。\n",
    "\n",
    "<span id=\"cite_note-6\">6.</span> [^](#cite_ref-6)\n",
    "セミコロン(`;`)は1行に複数の文を書きたいときにも使う。\n",
    "```python\n",
    "a = 1; b = 2; c = 3\n",
    "```\n",
    "逆に一つの文を複数行を使って書きたい場合はバックスラッシュ(`\\`: 日本語フォントでは半角円記号として表示される)を(スペースも含めて)行の一番最後に書くことで継続行を表す。\n",
    "```python\n",
    "a = 1 + \\\n",
    "    2 + \\\n",
    "    3\n",
    "```\n",
    "閉じているべきカッコが閉じてないなど明らかに行が継続する(はずである)場合は`\\`はなくてもよい。\n",
    "```python\n",
    "a = (1 +\n",
    "     2 +\n",
    "     3)\n",
    "```\n",
    "\n",
    "<span id=\"cite_note-7\">7.</span> [^](#cite_ref-7)\n",
    "(初めての方はここまで理解しなくてもよいが)正確に言うと、`x = 1`を実行したとき、`1`という値を持った`int`型のオブジェクト(object)が用意され、その**参照**が`x`に束縛(name binding)される。この理解が曖昧だと落とし穴にはまることがあるが、この講義ではPythonの文法や概念およびその(歴史的、ハードウェア的)背景を詳しく説明することが目的ではないので、落とし穴をうまく避けるように進めていく(ことができたらいいなぁ)。\n",
    "\n",
    "<span id=\"cite_note-8\">8.</span> [^](#cite_ref-8)\n",
    "プログラミングのチュートリアルで$42$という整数が唐突に出てきたら、おそらく[これ](https://www.google.com/search?q=the+answer+to+life+the+universe+and+everything)が理由である。\n",
    "\n",
    "<span id=\"cite_note-9\">9.</span> [^](#cite_ref-9)\n",
    "`x = x + 1`や`y = y * 5`のように、変数に何らかの二項演算を行ったあと結果をもとの変数に再代入する場合、`x += 1`、`y *= 5`のような累算代入文(augmented assignment statement)で書くことも多い。(これらは(ほぼ)等価である。)\n",
    "\n",
    "<span id=\"cite_note-10\">10.</span> [^](#cite_ref-10)\n",
    "専門用語で言うと「識別子 (identifier)」。文法的には https://docs.python.org/ja/3/reference/lexical_analysis.html#identifiers で定義されている(が、見てもおそらくよく分からないと思う)。実は日本語で名前を付けてもよいが、普通はしない(文字変換するのが面倒、日本人以外が読めない、昔これのせいでエラーになって受けたトラウマなどの理由で)。\n",
    "\n",
    "<span id=\"cite_note-11\">11.</span> [^](#cite_ref-11)\n",
    "いくつかの単語を組み合わせて名前を作るときの流儀として、よく使われるものに単語の先頭を大文字にして`SomeVariable`(あるいは`someVariable`)のように書くキャメルケース(camel case; 大文字がラクダのこぶっぽいから)と、アンダースコア(`_`)で単語を`some_variable`のように連ねて書くスネークケース(snake case; ヘビっぽいから)があるが、Pythonでは変数名や関数名には後者がよく採用される。このようなPythonプログラムを書く時の「マナー」については公式文書が存在する。https://pep8-ja.readthedocs.io/ja/latest/ とその[オリジナルの文書(英語)](https://www.python.org/dev/peps/pep-0008/)を参照せよ。ただし、最近は1行に79文字までという規約は少し緩められて[1行に88文字まで](https://black.readthedocs.io/en/stable/the_black_code_style.html#line-length)とすることも多い(気がする)。\n",
    "\n",
    "<span id=\"cite_note-12\">12.</span> [^](#cite_ref-12)\n",
    "英単語を名前に使っていたがスペルを間違えていた、のようなありがちなミスに加えて、`I`(大文字のI)と`l`(小文字のL)と`1`(数字の1)、`O`(大文字のO)と`0`(数字の0)などを見間違えることも起こりやすい。\n",
    "\n",
    "<span id=\"cite_note-13\">13.</span> [^](#cite_ref-13)\n",
    "注釈としての利用だけでなく、プログラムの特定の行をコメントとして一時的に無効にする(コメントアウト)のにも用いられる。\n",
    "\n",
    "<span id=\"cite_note-14\">14.</span> [^](#cite_ref-14)\n",
    "三角形にならないような3辺の長さを与えた場合、根号の中が負になり、結果が複素数として返ってくる。例えば`(-1) ** (1/2)`を計算すると`(6.123233995736766e-17+1j)`という結果が返ってくるが、最後の`j`は虚部を表している。\n",
    "\n",
    "<span id=\"cite_note-15\">15.</span> [^](#cite_ref-15)\n",
    "単語や文章のように、文字(character)が連なったものを文字列(string)と言う。要はテキスト(text)のこと。\n",
    "\n",
    "<span id=\"cite_note-16\">16.</span> [^](#cite_ref-16)\n",
    "ちなみに、ある式や変数のデータ型を知りたいときは`type`が使える。\n",
    "```python\n",
    "a = 1\n",
    "b = 1.0\n",
    "print(type(a))             # a の型 \n",
    "print(type(a + b))         # a + b の型\n",
    "print(type(int('42')))     # int('42') で得られる値の型\n",
    "print(type(int))           # int 自体の型\n",
    "print(type(print('ABC')))  # print('ABC')が'ABC'を表示した後に返してくる値の型\n",
    "print(type(print))         # print 関数の型\n",
    "print(type(type))          # type 自体の型\n",
    "```\n",
    "実際にプログラム中でデータ型の判別を使うときは`isinstance`関数を用いることになるだろう。\n",
    "\n",
    "<span id=\"cite_note-17\">17.</span> [^](#cite_ref-17)\n",
    "Python 3.6で導入された。以前は、`'フォーマット済み文字列リテラルには{}や{}や{}のように何でも埋め込める！'.format(a, b, c)`のように`string`クラスの`format`メソッドを使って書いていた(ちょっと長く、少し分かりにくい)。"
   ]
  }
 ],
 "metadata": {
  "kernelspec": {
   "display_name": "Python 3",
   "language": "python",
   "name": "python3"
  },
  "language_info": {
   "codemirror_mode": {
    "name": "ipython",
    "version": 3
   },
   "file_extension": ".py",
   "mimetype": "text/x-python",
   "name": "python",
   "nbconvert_exporter": "python",
   "pygments_lexer": "ipython3",
   "version": "3.7.7"
  }
 },
 "nbformat": 4,
 "nbformat_minor": 4
}
