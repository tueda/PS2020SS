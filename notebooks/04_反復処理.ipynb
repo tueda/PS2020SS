{
 "cells": [
  {
   "cell_type": "markdown",
   "metadata": {},
   "source": [
    "# 反復処理"
   ]
  },
  {
   "cell_type": "markdown",
   "metadata": {},
   "source": [
    "今回は特定の処理を繰り返す反復処理(ループ)を学ぶ。人間は同じことを何回も繰り返していると疲れてしまってミスをしてしまうが、コンピュータは疲れないし、文句も言わない。面倒くさい処理などコンピュータに任せて人間様は楽をしようではないか。"
   ]
  },
  {
   "cell_type": "markdown",
   "metadata": {},
   "source": [
    "注意: 反復処理はプログラムを間違えると無限ループに陥ることがある。たとえば次のセルを実行しても永遠に終了しない。"
   ]
  },
  {
   "cell_type": "code",
   "execution_count": null,
   "metadata": {},
   "outputs": [],
   "source": [
    "while True: ..."
   ]
  },
  {
   "cell_type": "markdown",
   "metadata": {},
   "source": [
    "実行されている処理を中止するには\n",
    "- Jupyter: 上部メニューで「Kernel」-「Interrupt」\n",
    "- Colab: 上部メニューで「ランタイム」-「実行を中断」\n",
    "\n",
    "を選択する、もしくはそれらに対応するボタンやキーボードショートカットを使う。`KeyboardInterrupt`と表示されて処理が中止されるだろう。"
   ]
  },
  {
   "cell_type": "markdown",
   "metadata": {},
   "source": [
    "## while文"
   ]
  },
  {
   "cell_type": "markdown",
   "metadata": {},
   "source": [
    "while文を使うと、条件が満たされている間、特定の処理を繰り返すことができる。"
   ]
  },
  {
   "cell_type": "code",
   "execution_count": null,
   "metadata": {},
   "outputs": [],
   "source": [
    "n = 0\n",
    "\n",
    "while n < 3:\n",
    "    print(n)\n",
    "    n = n + 1"
   ]
  },
  {
   "cell_type": "markdown",
   "metadata": {},
   "source": [
    "ポイントは、\n",
    "- while文はキーワード`while`から始まる。\n",
    "- キーワード`while`の後に条件を与え、その後にコロン(`:`)を書く。\n",
    "- 条件が成り立っている間に行う処理を、インデントによるブロックで与える。"
   ]
  },
  {
   "cell_type": "markdown",
   "metadata": {},
   "source": [
    "条件のチェックはループの入り口で行われる。上の例の動作の順を追っていくと次のようになる。\n",
    "- $n$に$0$を代入する。(`n = 0`)\n",
    "- $n$(=$0$)は$3$よりも小さいのでループ内の処理に入る。(`while n < 3:`)\n",
    "  - $n$を表示する、つまり$0$が表示される。(`print(n)`)\n",
    "  - $n$を$1$増加させる、つまり$n$は$1$になる。(`n = n + 1`)\n",
    "- $n$(=$1$)は$3$よりも小さいのでループ内の処理を続ける。(`while n < 3:`)\n",
    "  - $n$を表示する、つまり$1$が表示される。(`print(n)`)\n",
    "  - $n$を$1$増加させる、つまり$n$は$2$になる。(`n = n + 1`)\n",
    "- $n$(=$2$)は$3$よりも小さいのでループ内の処理を続ける。(`while n < 3:`)\n",
    "  - $n$を表示する、つまり$2$が表示される。(`print(n)`)\n",
    "  - $n$を$1$増加させる、つまり$n$は$3$になる。(`n = n + 1`)\n",
    "- $n$(=$3$)は$3$よりも小さいわけではないのでループ内の処理を行わず、ループを終了する。(`while n < 3:`)"
   ]
  },
  {
   "cell_type": "markdown",
   "metadata": {},
   "source": [
    "ところで、Pythonでは`n = n + a`のことを`n += a`と書くことができる。これを使うと、上の例は次と等価である。"
   ]
  },
  {
   "cell_type": "code",
   "execution_count": null,
   "metadata": {},
   "outputs": [],
   "source": [
    "n = 0\n",
    "\n",
    "while n < 3:\n",
    "    print(n)\n",
    "    n += 1"
   ]
  },
  {
   "cell_type": "markdown",
   "metadata": {},
   "source": [
    "## 練習問題"
   ]
  },
  {
   "cell_type": "markdown",
   "metadata": {},
   "source": [
    "(1) 上の例を、1から10までの数が表示されるように書き換えよ。"
   ]
  },
  {
   "cell_type": "markdown",
   "metadata": {},
   "source": [
    "## break文とcontinue文"
   ]
  },
  {
   "cell_type": "markdown",
   "metadata": {},
   "source": [
    "ループの中でbreak文を使うと、(最も内側の)ループを終了することができる[<sup id=\"cite_ref-1\">[1]</sup>](#cite_note-1)。"
   ]
  },
  {
   "cell_type": "code",
   "execution_count": null,
   "metadata": {},
   "outputs": [],
   "source": [
    "n = 0\n",
    "\n",
    "while n < 10:\n",
    "    print(n)\n",
    "    if n == 5:  # nが5のとき、ループを終了。\n",
    "        break\n",
    "    n += 1"
   ]
  },
  {
   "cell_type": "markdown",
   "metadata": {},
   "source": [
    "ループの中でcontinue文を使うと、(最も内側の)ループ内のその後の処理をスキップして、ループの頭から処理を続けることができる。"
   ]
  },
  {
   "cell_type": "code",
   "execution_count": null,
   "metadata": {},
   "outputs": [],
   "source": [
    "n = 0\n",
    "\n",
    "while n < 10:\n",
    "    n += 1\n",
    "    if n == 5:  # nが5のとき、ループ内の以下の処理を行わない。\n",
    "        continue\n",
    "    print(n)"
   ]
  },
  {
   "cell_type": "markdown",
   "metadata": {},
   "source": [
    "break文を使って、(わざと作った)無限ループ[<sup id=\"cite_ref-2\">[2]</sup>](#cite_note-2)から抜けるということができる。これには(ループの頭ではなく)好きな場所でループ終了をチェックすることができる利点がある。次の例では、ループ終了のチェックを、ループ処理のブロックの最後で行っている。"
   ]
  },
  {
   "cell_type": "code",
   "execution_count": null,
   "metadata": {},
   "outputs": [],
   "source": [
    "n = 0\n",
    "\n",
    "while True:  # 条件がTrue、つまり常に成り立つので無限ループ。\n",
    "    n += 1\n",
    "    print(n)\n",
    "    if n == 5:  # nが5であればループを抜ける。\n",
    "        break"
   ]
  },
  {
   "cell_type": "markdown",
   "metadata": {},
   "source": [
    "このような無限ループ+`break`というテクニックを使って、次のような「数当てゲーム」を考えよう。"
   ]
  },
  {
   "cell_type": "markdown",
   "metadata": {},
   "source": [
    "## 数当てゲーム"
   ]
  },
  {
   "cell_type": "markdown",
   "metadata": {},
   "source": [
    "コンピュータがランダムに選んだ数を、人間が当てるというゲームである。人間の答えが合っていれば「その通り」と表示してゲームは終了する。間違っていれば「大きすぎます」もしくは「小さすぎます」とヒントを出し、(人間が当てるまで永遠に)ゲームを続ける。"
   ]
  },
  {
   "cell_type": "code",
   "execution_count": null,
   "metadata": {},
   "outputs": [],
   "source": [
    "from random import randint\n",
    "\n",
    "n = 100  # 最大値\n",
    "\n",
    "# コンピュータがランダムに数を選ぶ。\n",
    "com = randint(1, n)\n",
    "print(f'私の考えている数(1から{n})を当ててください')\n",
    "\n",
    "while True:\n",
    "    # 人間が数を選ぶ。\n",
    "    man = int(input('数を入力'))\n",
    "    \n",
    "    # 合っていたら終了。\n",
    "    if man == com:\n",
    "        print('その通り')\n",
    "        break\n",
    "        \n",
    "    # ヒントを出す。\n",
    "    if man > com:\n",
    "        print('大きすぎます')\n",
    "    else:\n",
    "        print('小さすぎます')"
   ]
  },
  {
   "cell_type": "markdown",
   "metadata": {},
   "source": [
    "## 練習問題"
   ]
  },
  {
   "cell_type": "markdown",
   "metadata": {},
   "source": [
    "(2) $n=100$のとき、7回以内に確実に当てる方法はあるだろうか[<sup id=\"cite_ref-3\">[3]</sup>](#cite_note-3)？"
   ]
  },
  {
   "cell_type": "markdown",
   "metadata": {},
   "source": [
    "## リスト"
   ]
  },
  {
   "cell_type": "markdown",
   "metadata": {},
   "source": [
    "これまでに整数型(`int`)、浮動小数点型(`float`)、文字列型(`str`)のようなデータ型が出てきた。ここでは新たにリスト型(`list`)を紹介する。Pythonのリスト[<sup id=\"cite_ref-4\">[4]</sup>](#cite_note-4)には、複数のデータを格納することができる。リストは角括弧(`[]`)を用いて作ることができる。"
   ]
  },
  {
   "cell_type": "code",
   "execution_count": null,
   "metadata": {},
   "outputs": [],
   "source": [
    "[3, 1, 4]"
   ]
  },
  {
   "cell_type": "code",
   "execution_count": null,
   "metadata": {},
   "outputs": [],
   "source": [
    "[0.1, -0.2, 0.3, -0.4, 0.5]"
   ]
  },
  {
   "cell_type": "code",
   "execution_count": null,
   "metadata": {},
   "outputs": [],
   "source": [
    "['りんご', 'バナナ', 'さくらんぼ', 'ナツメヤシ', 'ニワトコの実', 'イチジク', 'ぶどう']"
   ]
  },
  {
   "cell_type": "code",
   "execution_count": null,
   "metadata": {},
   "outputs": [],
   "source": [
    "[1, 0.5, 'ABC']  # 要素の型は一つである必要はない。"
   ]
  },
  {
   "cell_type": "code",
   "execution_count": null,
   "metadata": {},
   "outputs": [],
   "source": [
    "[]  # 空のリスト"
   ]
  },
  {
   "cell_type": "code",
   "execution_count": null,
   "metadata": {},
   "outputs": [],
   "source": [
    "[[1, 2], [2, 3], [3, 4]]  # リストのリスト"
   ]
  },
  {
   "cell_type": "code",
   "execution_count": null,
   "metadata": {},
   "outputs": [],
   "source": [
    "['a', 'b', 'c'] + ['d', 'e']  # 「リスト + リスト」でリストの連結ができる"
   ]
  },
  {
   "cell_type": "code",
   "execution_count": null,
   "metadata": {},
   "outputs": [],
   "source": [
    "[0] * 5  # 「リスト * 整数」でリストの要素の繰り返し"
   ]
  },
  {
   "cell_type": "markdown",
   "metadata": {},
   "source": [
    "もちろんリストも変数に代入できる。"
   ]
  },
  {
   "cell_type": "code",
   "execution_count": null,
   "metadata": {},
   "outputs": [],
   "source": [
    "a = ['a', 'b', 'c', 'd', 'e']\n",
    "print(a)"
   ]
  },
  {
   "cell_type": "markdown",
   "metadata": {},
   "source": [
    "リストの要素には、次のように添え字(インデックス; index)を付けることによってアクセスすることができる。インデックスは0から始まる(zero-based indexing)。"
   ]
  },
  {
   "cell_type": "code",
   "execution_count": null,
   "metadata": {},
   "outputs": [],
   "source": [
    "a[0]  # aの0番目の要素"
   ]
  },
  {
   "cell_type": "code",
   "execution_count": null,
   "metadata": {},
   "outputs": [],
   "source": [
    "a[1]  # aの1番目の要素"
   ]
  },
  {
   "cell_type": "code",
   "execution_count": null,
   "metadata": {},
   "outputs": [],
   "source": [
    "a[2]  # aの2番目の要素"
   ]
  },
  {
   "cell_type": "markdown",
   "metadata": {},
   "source": [
    "ただし、負のインデックスを与えると、後ろから数えたときの要素にアクセスする。"
   ]
  },
  {
   "cell_type": "code",
   "execution_count": null,
   "metadata": {},
   "outputs": [],
   "source": [
    "a[-1]  # aの後ろから1番目の要素"
   ]
  },
  {
   "cell_type": "code",
   "execution_count": null,
   "metadata": {},
   "outputs": [],
   "source": [
    "a[-2]  # aの後ろから2番目の要素"
   ]
  },
  {
   "cell_type": "markdown",
   "metadata": {},
   "source": [
    "存在しない要素にアクセスしようとすると`IndexError`が起こる。"
   ]
  },
  {
   "cell_type": "code",
   "execution_count": null,
   "metadata": {},
   "outputs": [],
   "source": [
    "a[10]  # aの10番目の要素"
   ]
  },
  {
   "cell_type": "markdown",
   "metadata": {},
   "source": [
    "リストの要素は代入によって上書きすることもできる[<sup id=\"cite_ref-5\">[5]</sup>](#cite_note-5)。"
   ]
  },
  {
   "cell_type": "code",
   "execution_count": null,
   "metadata": {},
   "outputs": [],
   "source": [
    "a[3] = 'dog'  # aの3番目の要素を書き換える。\n",
    "print(a)"
   ]
  },
  {
   "cell_type": "markdown",
   "metadata": {},
   "source": [
    "リスト(の最後に)新たな要素を追加するには次のセルのようにappendメソッドを`リスト.append(要素)`の形式で呼ぶ[<sup id=\"cite_ref-6\">[6]</sup>](#cite_note-6)。リストを操作するためのメソッドの一覧は[ここ](https://docs.python.org/ja/3/tutorial/datastructures.html#more-on-lists)にある。"
   ]
  },
  {
   "cell_type": "code",
   "execution_count": null,
   "metadata": {},
   "outputs": [],
   "source": [
    "a.append('fox')  # aに'fox'を追加する。\n",
    "print(a)"
   ]
  },
  {
   "cell_type": "markdown",
   "metadata": {},
   "source": [
    "リストの要素の数は`len`関数にリストを渡すことで得られる。"
   ]
  },
  {
   "cell_type": "code",
   "execution_count": null,
   "metadata": {},
   "outputs": [],
   "source": [
    "len(a)  # aの長さ"
   ]
  },
  {
   "cell_type": "markdown",
   "metadata": {},
   "source": [
    "## すべてはオブジェクトである"
   ]
  },
  {
   "cell_type": "markdown",
   "metadata": {},
   "source": [
    "ここで「メソッド」という言葉が出てきたので、少しPythonでの「オブジェクト」[<sup id=\"cite_ref-7\">[7]</sup>](#cite_note-7)について説明しておこう。いささか抽象的な概念ではあるが、オブジェクト(object)というのは、要は「もの」である。「もの」はそれ自身の属性(attribute)を持っており、`オブジェクト.属性`のようにしてアクセスする。また、「もの」は操作することができる。この操作に使われるのがメソッド(method)であり、`オブジェクト.メソッド(0個以上のパラメータをコンマで区切ったもの)`のようにして呼び出す[<sup id=\"cite_ref-8\">[8]</sup>](#cite_note-8)。メソッドは、「もの」の内部の何かを変更することにも使われるし、内部の状態を読み取って値を返すことにも使われる。通常、「もの」がどんな属性やメソッドを持っているかは、「もの」のデータ型によって決まっている[<sup id=\"cite_ref-9\">[9]</sup>](#cite_note-9)。"
   ]
  },
  {
   "cell_type": "markdown",
   "metadata": {},
   "source": [
    "Pythonでは「すべてはオブジェクトである」[<sup id=\"cite_ref-10\">[10]</sup>](#cite_note-10)[<sup id=\"cite_ref-11\">[11]</sup>](#cite_note-11)。つまり、リストや、これまで出てきた整数や文字列でさえもオブジェクトである。これまで整数に対して属性やメソッドを使うようなことはなかったが、実際、"
   ]
  },
  {
   "cell_type": "code",
   "execution_count": null,
   "metadata": {},
   "outputs": [],
   "source": [
    "(3).real  # 3の実部を返す"
   ]
  },
  {
   "cell_type": "code",
   "execution_count": null,
   "metadata": {},
   "outputs": [],
   "source": [
    "(3).imag  # 3の虚部を返す"
   ]
  },
  {
   "cell_type": "markdown",
   "metadata": {},
   "source": [
    "のように属性を持っているし、`3 + 5`は次のようなメソッド呼び出しと等価である。"
   ]
  },
  {
   "cell_type": "code",
   "execution_count": null,
   "metadata": {},
   "outputs": [],
   "source": [
    "(3).__add__(5)  # 3 + 5の結果を返す"
   ]
  },
  {
   "cell_type": "markdown",
   "metadata": {},
   "source": [
    "なぜオブジェクトなどという概念を持ち出すのか？それは抽象化されたオブジェクトという概念がプログラミングにおいて有益だからである。コンピュータとプログラミング言語の発明以来、人類は無数のプログラムを書いてきた。それはバグ(プログラム中のミスによる不具合)との闘いの歴史でもある。プログラムに対する要求が高度化するにつれ、複雑かつ肥大化するプログラムをいかにしてミスなく効率的に書くかという問題が出てきた[<sup id=\"cite_ref-12\">[12]</sup>](#cite_note-12)。この問題に対する一つの解答がオブジェクト指向プログラミング(object-oriented programming; OOP)というプログラミングパラダイム(プログラムを作るときの方向付けを与えるもの)である。オブジェクト指向プログラミングは\n",
    "- カプセル化(encapsulation): オブジェクトを利用するだけの人は、オブジェクトの内部構造を知る必要はない。\n",
    "- 継承（inheritance): オブジェクトの分類(クラス、もしくはデータ型)に階層性を持ち込んで分かりやすくすることができる。(例: チワワ < 犬 < 哺乳類 < 動物 < 生物)\n",
    "- 多態性 (polymorphism): オブジェクトの分類によって実際の動作を振り分けることができる。 (例: 動物クラスに共通の「食べる」メソッドを定義する。動物がが犬なのかアメーバなのかはたまたイソギンチャクなのかによって、その「食べる」の動作は違ったものになるだろう。)\n",
    "\n",
    "などの特徴があって、多くのプログラミング言語に導入されており、大規模なプログラムの開発において成功を収めている。"
   ]
  },
  {
   "cell_type": "markdown",
   "metadata": {},
   "source": [
    "## for文"
   ]
  },
  {
   "cell_type": "markdown",
   "metadata": {},
   "source": [
    "Pythonでは、while文を使ったループの他に、for文を使ったループがある。"
   ]
  },
  {
   "cell_type": "code",
   "execution_count": null,
   "metadata": {},
   "outputs": [],
   "source": [
    "for fruit in ['りんご', 'バナナ', 'さくらんぼ', 'ナツメヤシ']:\n",
    "    print(fruit)"
   ]
  },
  {
   "cell_type": "markdown",
   "metadata": {},
   "source": [
    "ここでのポイントは\n",
    "- for文はキーワード`for`から始まる。\n",
    "- キーワード`for`の次に任意の変数名(ループ変数[<sup id=\"cite_ref-13\">[13]</sup>](#cite_note-13)という。ここでは`fruit`)を与え、その後にキーワード`in`を書き、さらにその後になんらかのデータの集合(ここでは`['りんご', 'バナナ', 'さくらんぼ', 'ナツメヤシ']`というリスト)を与え、最後にコロン(`:`)を付ける。\n",
    "- データの集合から1つずつ要素が取り出され、ループ変数(ここでは`fruit`)に代入されて、それぞれの要素についてループ内のブロックが処理される。"
   ]
  },
  {
   "cell_type": "markdown",
   "metadata": {},
   "source": [
    "`for`文によるループ内でも`break`文と`continue`文を使うことができる。"
   ]
  },
  {
   "cell_type": "code",
   "execution_count": null,
   "metadata": {},
   "outputs": [],
   "source": [
    "for name in ['Alice', 'Bob', 'Carol', 'Dave']:\n",
    "    if name == 'Bob':\n",
    "        continue\n",
    "    print(name)"
   ]
  },
  {
   "cell_type": "markdown",
   "metadata": {},
   "source": [
    "for文で与えるデータの集合は必ずしもリストでなければならないわけではない[<sup id=\"cite_ref-14\">[14]</sup>](#cite_note-14)。文字列は文字の集合であるので、for文を使って次のように1文字ずつ処理することができる。"
   ]
  },
  {
   "cell_type": "code",
   "execution_count": null,
   "metadata": {},
   "outputs": [],
   "source": [
    "for character in 'あいうえお':\n",
    "    print(character)"
   ]
  },
  {
   "cell_type": "markdown",
   "metadata": {},
   "source": [
    "次の例では、リストの中の要素の平均を計算して表示している[<sup id=\"cite_ref-15\">[15]</sup>](#cite_note-15)。"
   ]
  },
  {
   "cell_type": "code",
   "execution_count": null,
   "metadata": {},
   "outputs": [],
   "source": [
    "a = [1.02, 2.21, 0.24, 0.50, 1.35, 0.89, 1.15, 0.70, 1.41, 0.54]\n",
    "\n",
    "sum_value = 0.0\n",
    "for x in a:\n",
    "    sum_value += x\n",
    "\n",
    "average = sum_value / len(a)\n",
    "\n",
    "print(a)\n",
    "print(f'平均は{average}')"
   ]
  },
  {
   "cell_type": "markdown",
   "metadata": {},
   "source": [
    "## 練習問題"
   ]
  },
  {
   "cell_type": "markdown",
   "metadata": {},
   "source": [
    "(3) for文を使って、次のリストの中で1より大きい要素の数を数え、それを表示せよ[<sup id=\"cite_ref-16\">[16]</sup>](#cite_note-16)。"
   ]
  },
  {
   "cell_type": "code",
   "execution_count": null,
   "metadata": {},
   "outputs": [],
   "source": [
    "a = [1.02, 2.21, 0.24, 0.50, 1.35, 0.89, 1.15, 0.70, 1.41, 0.54]\n",
    "\n",
    "\n"
   ]
  },
  {
   "cell_type": "markdown",
   "metadata": {},
   "source": [
    "## rangeオブジェクト"
   ]
  },
  {
   "cell_type": "markdown",
   "metadata": {},
   "source": [
    "[rangeオブジェクト](https://docs.python.org/ja/3/library/stdtypes.html#ranges)は整数の連番(シーケンス)を表す。`range(stop)`とすると$0$以上stop**未満**となる。`range(start, stop)`とするとstart以上stop**未満**となる。`range(start, stop, step)`とするとstart以上stop**未満**でstepずつ増加する等差数列となる。"
   ]
  },
  {
   "cell_type": "code",
   "execution_count": null,
   "metadata": {},
   "outputs": [],
   "source": [
    "range(10)  # 0以上10未満の連番"
   ]
  },
  {
   "cell_type": "code",
   "execution_count": null,
   "metadata": {},
   "outputs": [],
   "source": [
    "range(3, 10)  # 3以上10未満の連番"
   ]
  },
  {
   "cell_type": "code",
   "execution_count": null,
   "metadata": {},
   "outputs": [],
   "source": [
    "range(3, 10, 3)  # 3以上10未満で増分3の連番"
   ]
  },
  {
   "cell_type": "markdown",
   "metadata": {},
   "source": [
    "これらのrangeオブジェクトをリストに変換して結果を見てみよう。`list(...)`に渡せばよい。"
   ]
  },
  {
   "cell_type": "code",
   "execution_count": null,
   "metadata": {},
   "outputs": [],
   "source": [
    "list(range(10))  # 0以上10未満の連番のリスト"
   ]
  },
  {
   "cell_type": "code",
   "execution_count": null,
   "metadata": {},
   "outputs": [],
   "source": [
    "list(range(3, 10))  # 3以上10未満の連番のリスト"
   ]
  },
  {
   "cell_type": "code",
   "execution_count": null,
   "metadata": {},
   "outputs": [],
   "source": [
    "list(range(3, 10, 3))  # 3以上10未満で増分3の連番のリスト"
   ]
  },
  {
   "cell_type": "markdown",
   "metadata": {},
   "source": [
    "stepが負の場合、start以下stopを**超過**する範囲での連番が作られる。"
   ]
  },
  {
   "cell_type": "code",
   "execution_count": null,
   "metadata": {},
   "outputs": [],
   "source": [
    "range(10, 3, -1)  # 10から始まって1ずつ減り3を含まない"
   ]
  },
  {
   "cell_type": "code",
   "execution_count": null,
   "metadata": {},
   "outputs": [],
   "source": [
    "list(range(10, 3, -1))"
   ]
  },
  {
   "cell_type": "markdown",
   "metadata": {},
   "source": [
    "なお、startとstopの大小によっては、空の連番となる。"
   ]
  },
  {
   "cell_type": "code",
   "execution_count": null,
   "metadata": {},
   "outputs": [],
   "source": [
    "range(10, 3)  # 10以上3未満"
   ]
  },
  {
   "cell_type": "code",
   "execution_count": null,
   "metadata": {},
   "outputs": [],
   "source": [
    "list(range(10, 3))  # そんなものはない"
   ]
  },
  {
   "cell_type": "markdown",
   "metadata": {},
   "source": [
    "rangeオブジェクトはよくfor文と組み合わせて使われる[<sup id=\"cite_ref-17\">[17]</sup>](#cite_note-17)。"
   ]
  },
  {
   "cell_type": "code",
   "execution_count": null,
   "metadata": {},
   "outputs": [],
   "source": [
    "for i in range(3):\n",
    "    print(i)"
   ]
  },
  {
   "cell_type": "code",
   "execution_count": null,
   "metadata": {},
   "outputs": [],
   "source": [
    "# 1から100までの数の和\n",
    "sum_value = 0\n",
    "\n",
    "for i in range(1, 101):\n",
    "    sum_value += i\n",
    "\n",
    "print(sum_value)"
   ]
  },
  {
   "cell_type": "markdown",
   "metadata": {},
   "source": [
    "これらはwhile文を使って書き直すこともできるが、for文と`range`を使って書いた方が簡単なことが分かるだろう。"
   ]
  },
  {
   "cell_type": "markdown",
   "metadata": {},
   "source": [
    "## 練習問題"
   ]
  },
  {
   "cell_type": "markdown",
   "metadata": {},
   "source": [
    "(4) for文と`range`を使って、1から100までの数の積を求めよ。"
   ]
  },
  {
   "cell_type": "markdown",
   "metadata": {},
   "source": [
    "(5) for文と`range`を使って、1から100までの数のうち、3の倍数である数の和を求めよ。"
   ]
  },
  {
   "cell_type": "markdown",
   "metadata": {},
   "source": [
    "## ループのネスト"
   ]
  },
  {
   "cell_type": "markdown",
   "metadata": {},
   "source": [
    "ループもネストして多重ループを作ることができる。外側と内側のループ変数がどのような順で変わっていくか確認しよう。"
   ]
  },
  {
   "cell_type": "code",
   "execution_count": null,
   "metadata": {},
   "outputs": [],
   "source": [
    "for name in ['Alice', 'Bob', 'Carol', 'Dave']:\n",
    "    for i in range(3):\n",
    "        print(f'{name}, {i}')"
   ]
  },
  {
   "cell_type": "markdown",
   "metadata": {},
   "source": [
    "次のセルでは"
   ]
  },
  {
   "cell_type": "markdown",
   "metadata": {},
   "source": [
    "$$\n",
    "\\sum_{i=1}^n \\sum_{j=1}^i j\n",
    "=\n",
    "\\frac{1}{6} n (n + 1) (n + 2) ,\n",
    "\\tag{1}\n",
    "$$"
   ]
  },
  {
   "cell_type": "markdown",
   "metadata": {},
   "source": [
    "の和の計算を実行している。"
   ]
  },
  {
   "cell_type": "code",
   "execution_count": null,
   "metadata": {},
   "outputs": [],
   "source": [
    "n = 10\n",
    "\n",
    "sum_value = 0\n",
    "\n",
    "for i in range(1, n + 1):\n",
    "    for j in range(1, i + 1):\n",
    "        sum_value += j\n",
    "\n",
    "print(sum_value)"
   ]
  },
  {
   "cell_type": "markdown",
   "metadata": {},
   "source": [
    "## 覆面算"
   ]
  },
  {
   "cell_type": "markdown",
   "metadata": {},
   "source": [
    "次のような「覆面算」を考える。"
   ]
  },
  {
   "cell_type": "markdown",
   "metadata": {},
   "source": [
    "![AB + BA = AAC](https://tueda.github.io/PS2020SS/notebooks/images/alphametics1.png)"
   ]
  },
  {
   "cell_type": "markdown",
   "metadata": {},
   "source": [
    "ここでは、覆面算に次のようなルールを設定する。\n",
    "1. 文字はそれぞれの桁の数字を表す。\n",
    "1. 同じ文字は同じ数字を表し、異なる文字は異なる数字を表す。\n",
    "1. 左端の数字は0ではない。(上の例だと、AとBは0ではなく、必ず2桁+2桁=3桁の計算とする。)\n",
    "\n",
    "さて、それぞれの文字には何の数字が入るだろうか?"
   ]
  },
  {
   "cell_type": "markdown",
   "metadata": {},
   "source": [
    "パズルとしての覆面算は人間が知恵を働かせて解くという点に面白味があるのだが、ここでは無粋にもコンピュータにあらゆる組み合わせを調べさせることで解いてみよう。このようにすべての解の候補を体系的に調べ尽くす探索方法を「力まかせ探索 (brute-force search)」「総当たり探索 (exhaustive search)」あるいは「しらみつぶし探索」などと呼び、単純で原始的ではあるが汎用的で重要な方法である。"
   ]
  },
  {
   "cell_type": "markdown",
   "metadata": {},
   "source": [
    "AとBは1から9までの整数、Cは0から9までの整数であるから、この$9\\times9\\times10=810$通りについて(AとBとCそれぞれの値を変数`a`、`b`、`c`に入れておくとする)、\n",
    "- $x = a \\times 10 + b$\n",
    "- $y = b \\times 10 + a$\n",
    "- $z = a \\times 100 + a \\times 10 + c$\n",
    "\n",
    "としたときに$x + y = z$が満たされるかどうかを調べればよい。"
   ]
  },
  {
   "cell_type": "code",
   "execution_count": null,
   "metadata": {},
   "outputs": [],
   "source": [
    "# a, b, cのすべての組み合わせを調べる。\n",
    "for a in range(1, 10):\n",
    "    for b in range(1, 10):\n",
    "        for c in range(0, 10):\n",
    "            # x, y, zを計算する。\n",
    "            x = a * 10 + b\n",
    "            y = b * 10 + a\n",
    "            z = a * 100 + a * 10 + c\n",
    "            # 解であれば表示する。\n",
    "            if x + y == z:\n",
    "                print(f'A = {a}, B = {b}, C = {c}')"
   ]
  },
  {
   "cell_type": "markdown",
   "metadata": {},
   "source": [
    "得られた解が実際に覆面算の解になっているかどうか(手や電卓で)検算して確かめてみよう。"
   ]
  },
  {
   "cell_type": "markdown",
   "metadata": {},
   "source": [
    "なお、上の例では簡単のために覆面算の「異なる文字は異なる数字を表す」というルールを考慮していない。(が、この場合は正しい解が得られている。)"
   ]
  },
  {
   "cell_type": "markdown",
   "metadata": {},
   "source": [
    "## 演習課題"
   ]
  },
  {
   "cell_type": "markdown",
   "metadata": {},
   "source": [
    "(1) 上の例を参考にして、次の覆面算を解くプログラムを作れ。"
   ]
  },
  {
   "cell_type": "markdown",
   "metadata": {},
   "source": [
    "![AAA + ABB = CBAA](https://tueda.github.io/PS2020SS/notebooks/images/alphametics2.png)"
   ]
  },
  {
   "cell_type": "markdown",
   "metadata": {},
   "source": [
    "AとCは$0$でないことに注意せよ。"
   ]
  },
  {
   "cell_type": "code",
   "execution_count": null,
   "metadata": {},
   "outputs": [],
   "source": [
    "# 課題解答4.1  <-- 提出する際に、この行を必ず含めること。\n",
    "\n",
    "\n"
   ]
  },
  {
   "cell_type": "markdown",
   "metadata": {},
   "source": [
    "(2) 次の覆面算を解くプログラムを作れ。"
   ]
  },
  {
   "cell_type": "markdown",
   "metadata": {},
   "source": [
    "![CAB + BAC = DABC](https://tueda.github.io/PS2020SS/notebooks/images/alphametics3.png)"
   ]
  },
  {
   "cell_type": "markdown",
   "metadata": {},
   "source": [
    "文字Dが追加されたこと、BとCとDは$0$でないことに注意せよ。また、「異なる文字は異なる数字を表す」というルールを考慮せよ[<sup id=\"cite_ref-18\">[18]</sup>](#cite_note-18)。解は3つとなる。"
   ]
  },
  {
   "cell_type": "code",
   "execution_count": null,
   "metadata": {},
   "outputs": [],
   "source": [
    "# 課題解答4.2  <-- 提出する際に、この行を必ず含めること。\n",
    "\n",
    "\n"
   ]
  },
  {
   "cell_type": "markdown",
   "metadata": {},
   "source": [
    "## 発展課題"
   ]
  },
  {
   "cell_type": "markdown",
   "metadata": {},
   "source": [
    "余裕があればやってみてください。"
   ]
  },
  {
   "cell_type": "markdown",
   "metadata": {},
   "source": [
    "古代ギリシャの時代、アルキメデスは円に内接、および外接する正96角形の周の長さを計算することによって、円周率が約3.14であることを見出したという。さて、今日は四則演算(と繰り返し)だけを使いアルキメデスを超えて、もっと先の桁まで円周率を求めてみよう。"
   ]
  },
  {
   "cell_type": "markdown",
   "metadata": {},
   "source": [
    "(3) 次の和を計算せよ。ただし和の上限$m_1$と$m_2$は、計算結果の有効数字15桁程度までが変わらなくなるくらいまで十分に大きな整数と取ること。(まずは$m_1=7$、$m_2=1$くらいから始めて徐々に大きくしていけばよい。)"
   ]
  },
  {
   "cell_type": "markdown",
   "metadata": {},
   "source": [
    "$$\n",
    "S_1(m_1,m_2)\n",
    "=\n",
    "16 \\sum_{k=0}^{m_1} \\frac{(-1)^k}{2k+1} \\left(\\frac{1}{5}\\right)^{2k+1}\n",
    "-4 \\sum_{k=0}^{m_2} \\frac{(-1)^k}{2k+1} \\left(\\frac{1}{239}\\right)^{2k+1} .\n",
    "\\tag{2}\n",
    "$$"
   ]
  },
  {
   "cell_type": "markdown",
   "metadata": {},
   "source": [
    "この級数は$m_1\\to\\infty$、$m_2\\to\\infty$の極限で円周率に収束することが知られている[<sup id=\"cite_ref-19\">[19]</sup>](#cite_note-19)。"
   ]
  },
  {
   "cell_type": "code",
   "execution_count": null,
   "metadata": {},
   "outputs": [],
   "source": [
    "# 課題解答4.3  <-- 提出する際に、この行を必ず含めること。\n",
    "\n",
    "\n"
   ]
  },
  {
   "cell_type": "markdown",
   "metadata": {},
   "source": [
    "一般に、ある問題の数値計算をコンピュータで行ったとき、その結果を盲目的に正しいと考えるのは危険である。プログラムのミスによるバグに加え、アルゴリズムによる打切り誤差、浮動小数点数が有限の桁数しか扱えないことによる情報落ち、桁落ち、丸め誤差など、プログラムが間違った数値結果を出す要因は山ほど考えられる[<sup id=\"cite_ref-20\">[20]</sup>](#cite_note-20)。これらを回避する一つの方法は、同じ問題を全く違った方法で検算してみることである。2つの独立したプログラムが同じ答えを出したならば、我々はある程度の確信を持って得られた結果が正しいのだと主張することができるだろう。(もっとも、2つのプログラムが両方とも間違っている可能性もゼロではないが。) そこで、円周率の計算を、違う級数を用いてもう一度行ってみよう。"
   ]
  },
  {
   "cell_type": "markdown",
   "metadata": {},
   "source": [
    "(4) 次の和を計算せよ。ただし和の上限$m$は、計算結果の有効数字15桁程度までが変わらなくなるくらいまで十分に大きな整数と取ること。"
   ]
  },
  {
   "cell_type": "markdown",
   "metadata": {},
   "source": [
    "$$\n",
    "S_2(m)\n",
    "=\n",
    "\\sum_{k=0}^{m} \\frac{1}{16^k}\n",
    "\\left(\n",
    "\\frac{4}{8k+1} - \\frac{2}{8k+4} - \\frac{1}{8k+5} - \\frac{1}{8k+6}\n",
    "\\right) .\n",
    "\\tag{3}\n",
    "$$"
   ]
  },
  {
   "cell_type": "markdown",
   "metadata": {},
   "source": [
    "この級数も$m\\to\\infty$で円周率に収束することが知られている[<sup id=\"cite_ref-21\">[21]</sup>](#cite_note-21)。式(2)とほとんど同じ結果が得られるだろうか？"
   ]
  },
  {
   "cell_type": "code",
   "execution_count": null,
   "metadata": {},
   "outputs": [],
   "source": [
    "# 課題解答4.4  <-- 提出する際に、この行を必ず含めること。\n",
    "\n",
    "\n"
   ]
  },
  {
   "cell_type": "markdown",
   "metadata": {},
   "source": [
    "## 脚注"
   ]
  },
  {
   "cell_type": "markdown",
   "metadata": {},
   "source": [
    "<span id=\"cite_note-1\">1.</span> [^](#cite_ref-1)\n",
    "while文や後で出てくるfor文に`else`節をつけて「ループ処理が終わった後に行う処理」を記述することができるが、`break`文でループを抜けると`else`節の中は実行されない。\n",
    "\n",
    "<span id=\"cite_note-2\">2.</span> [^](#cite_ref-2)\n",
    "RubyやRustといったプログラミング言語では、無限ループ専用の言語機能がある(`loop`メソッド、`loop`キーワード)。\n",
    "\n",
    "<span id=\"cite_note-3\">3.</span> [^](#cite_ref-3)\n",
    "ヒント: 「二分探索」でグーグル検索。\n",
    "\n",
    "<span id=\"cite_note-4\">4.</span> [^](#cite_ref-4)\n",
    "いわゆる動的配列であり、C++でいうところの`vector`、Rustでいうところの`Vec`、Javaでいうところの`ArrayList`、RubyやJavaScriptでいうところの`Array`と似たようなものである。\n",
    "\n",
    "<span id=\"cite_note-5\">5.</span> [^](#cite_ref-5)\n",
    "リストはミュータブル(mutable)、つまり変更可能である。これに対し、イミュータブル(immutable)なシーケンス(sequence)として、タプル(tuple)や文字列(str)やrangeオブジェクトがある。ミュータブルなオブジェクトが出てくると、単純な「変数はデータを入れておく箱」という比喩が破綻し始める(実際には、変数にはオブジェクトへの参照が結び付けられている)。うーん、困った。\n",
    "\n",
    "<span id=\"cite_note-6\">6.</span> [^](#cite_ref-6)\n",
    "`a.append(1)`の代わりに`a.extend([1])`や`a = a + [1]`や`a += [1]`と書いてもよいが、この授業ではおとなしく`append`メソッドを使うことにする。\n",
    "\n",
    "<span id=\"cite_note-7\">7.</span> [^](#cite_ref-7)\n",
    "または、インスタンス(実体)化されたオブジェクトであるので、(クラスオブジェクトと対比して)インスタンスオブジェクト(instance object)と言ったり、単にインスタンスと言うこともある。\n",
    "\n",
    "<span id=\"cite_note-8\">8.</span> [^](#cite_ref-8)\n",
    "この他に、属性の一種であり、属性のようにしてアクセスするが、実際にはメソッドの呼び出しが起こるプロパティ(property)がある。\n",
    "\n",
    "<span id=\"cite_note-9\">9.</span> [^](#cite_ref-9)\n",
    "通常は、ユーザー定義オブジェクトを作成するテンプレート(クラス(class)という)で属性を初期化したり、メソッドを定義したりする。が、Pythonは柔軟なプログラミング言語なので、オブジェクトを作成した後に属性やメソッドを動的に追加することもできる。(が、プログラムが分かりにくくなるし、型ヒント的な意味でも好ましくないと思う。)\n",
    "\n",
    "<span id=\"cite_note-10\">10.</span> [^](#cite_ref-10)\n",
    "もともとSmalltalkの標語である(\"everything is an object\")。\n",
    "\n",
    "<span id=\"cite_note-11\">11.</span> [^](#cite_ref-11)\n",
    "どこまでが「すべて」に含まれるべきなのかは議論の余地がある。ここでは、関数やクラスを含め、Pythonプログラムにおいて、メモリ上に存在するデータすべて、くらいの意味に取ればよいだろう。\n",
    "\n",
    "<span id=\"cite_note-12\">12.</span> [^](#cite_ref-12)\n",
    "「そんなもの、ただ注意深く書けばよい」と思った人には残念なお知らせであるが、例えば[Windows XPのソースコードは約4500万行](https://www.facebook.com/windows/posts/155741344475532)あったそうだ。私が開発に参加している[FORM](https://github.com/vermaseren/form)というプログラムは、Windowsに比べれば大したことはないが、それでも15万行弱はある。これくらいの分量のプログラムに潜むバグをどうしたら限りなくゼロに近づけられるか、という話である。\n",
    "\n",
    "<span id=\"cite_note-13\">13.</span> [^](#cite_ref-13)\n",
    "(比較的新しい)C/C++やJavaなど、他のプログラミング言語から来た人へ: Pythonのfor文はスコープを作らない。つまり、ループ変数はfor文の外側に漏れる。\n",
    "\n",
    "<span id=\"cite_note-14\">14.</span> [^](#cite_ref-14)\n",
    "for文に与えるデータの集合は[反復可能オブジェクト(イテラブル; iterable)](https://docs.python.org/ja/3/glossary.html#term-iterable)でなければならない。\n",
    "\n",
    "<span id=\"cite_note-15\">15.</span> [^](#cite_ref-15)\n",
    "ここでなぜ`sum_value`という変数名を使って、`sum`という短くて分かりやすい名前にしなかったかというと、Pythonには[`sum`という組み込み関数](https://docs.python.org/ja/3/library/functions.html?highlight=sum#sum)があり、これを上書きすることは[好ましくないと考えられる](https://qiita.com/nagataaaas/items/ba33c4c4e0df0b5aa0c4#%E7%B5%84%E3%81%BF%E8%BE%BC%E3%81%BF%E3%82%92%E3%82%B7%E3%83%A3%E3%83%89%E3%82%A6%E3%81%99%E3%82%8B%E3%81%AA)からである。と言うか、リスト内の要素の和を取りたければ`sum`関数を使って`sum(a)`とすればよい。平均や標準偏差などの計算には[`statistics`モジュール](https://docs.python.org/ja/3/library/statistics.html)に用意された関数を使えばよい。ここでの例はあくまでも「教育的な」ものだと思ってください。\n",
    "\n",
    "<span id=\"cite_note-16\">16.</span> [^](#cite_ref-16)\n",
    "なお、for文を使わなくてよいのなら、私だったら`sum(x > 1 for x in a)`か`sum(1 for x in a if x > 1)`と書きます(説明略)。\n",
    "\n",
    "<span id=\"cite_note-17\">17.</span> [^](#cite_ref-17)\n",
    "整数のループ変数にはよく`i`、`j`、`k`などが使われる。これはFORTRANの時代からの伝統である。\n",
    "\n",
    "<span id=\"cite_note-18\">18.</span> [^](#cite_ref-18)\n",
    "このルールを入れ忘れると解は5つ出てくる。\n",
    "\n",
    "<span id=\"cite_note-19\">19.</span> [^](#cite_ref-19)\n",
    "[マチンの公式](https://ja.wikipedia.org/wiki/%E3%83%9E%E3%83%81%E3%83%B3%E3%81%AE%E5%85%AC%E5%BC%8F)。\n",
    "\n",
    "<span id=\"cite_note-20\">20.</span> [^](#cite_ref-20)\n",
    "このあたりの事情については、\n",
    "- 伊理正夫、藤野和建「数値計算の常識」共立出版 (1985) ISBN\t978-4-320-01343-8\n",
    "\n",
    "が詳しい。\n",
    "\n",
    "<span id=\"cite_note-21\">21.</span> [^](#cite_ref-21)\n",
    "David Bailey, Peter Borwein and Simon Plouffe,\n",
    "*On the rapid computation of various polylogarithmic constants*,\n",
    "[*Math. Comp.* **66** (1997) 903-913](https://doi.org/10.1090%2FS0025-5718-97-00856-9)."
   ]
  }
 ],
 "metadata": {
  "kernelspec": {
   "display_name": "Python 3",
   "language": "python",
   "name": "python3"
  },
  "language_info": {
   "codemirror_mode": {
    "name": "ipython",
    "version": 3
   },
   "file_extension": ".py",
   "mimetype": "text/x-python",
   "name": "python",
   "nbconvert_exporter": "python",
   "pygments_lexer": "ipython3",
   "version": "3.7.7"
  }
 },
 "nbformat": 4,
 "nbformat_minor": 4
}
