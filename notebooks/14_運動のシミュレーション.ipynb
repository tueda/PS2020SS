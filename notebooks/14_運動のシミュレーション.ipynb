{
 "cells": [
  {
   "cell_type": "markdown",
   "metadata": {},
   "source": [
    "# 運動のシミュレーション"
   ]
  },
  {
   "cell_type": "markdown",
   "metadata": {},
   "source": [
    "ニュートン力学によると、質点の運動は"
   ]
  },
  {
   "cell_type": "markdown",
   "metadata": {},
   "source": [
    "$$\n",
    "m \\frac{d^2 \\vec{r}}{dt^2} = \\vec{F} ,\n",
    "\\tag{1}\n",
    "$$"
   ]
  },
  {
   "cell_type": "markdown",
   "metadata": {},
   "source": [
    "のような常微分方程式（ordinary differential equation）に支配されている[<sup id=\"cite_ref-1\">[1]</sup>](#cite_note-1)[<sup id=\"cite_ref-2\">[2]</sup>](#cite_note-2)。ここで $m$ は質点の質量、$\\vec{r}$ は質点の位置、$\\vec{F}$ は質点に働く力、$t$ は時間である。もし力 $\\vec{F}$ が既知であり、初期条件として時刻 $t = t_0$ での質点の位置と速度が与えられたならば、その後の質点の運動は常微分方程式 (1) の初期値問題（initial value problem）を解くことによって完全に決定される。"
   ]
  },
  {
   "cell_type": "markdown",
   "metadata": {},
   "source": [
    "今回は常微分方程式の初期値問題の簡単な数値解法を学び、質点の運動のシミュレーションを行ってみよう。"
   ]
  },
  {
   "cell_type": "markdown",
   "metadata": {},
   "source": [
    "**注意**：実際の研究では、よく整備されたライブラリが使えるのなら、それを利用すべきである。今回の場合で言うと、例えば [SciPy](https://www.scipy.org/scipylib/) というライブラリに [scipy.integrate.solve_ivp](https://docs.scipy.org/doc/scipy/reference/generated/scipy.integrate.solve_ivp.html) という関数がある。また、今回主に扱うオイラー法は、数学的にもプログラム的にも簡単で教育的ではあるが、（局所）打切り誤差も大きく、理論的な安定性も芳しくないので、常微分方程式の数値解法としてはあまり実用的であるとは言えない。"
   ]
  },
  {
   "cell_type": "markdown",
   "metadata": {},
   "source": [
    "## オイラー法"
   ]
  },
  {
   "cell_type": "markdown",
   "metadata": {},
   "source": [
    "ここでは少し一般的に、ある $n$ 個の物理量の組をベクトル $\\vec{X} = \\left(X_1,\\dots,X_n\\right)$ のように書いて、その時間変化を考える[<sup id=\"cite_ref-3\">[3]</sup>](#cite_note-3)[<sup id=\"cite_ref-4\">[4]</sup>](#cite_note-4)。$\\vec{X}$ の時間についての一階微分が、既知の関数 $\\vec{f}(\\vec{X},t)$ によって"
   ]
  },
  {
   "cell_type": "markdown",
   "metadata": {},
   "source": [
    "$$\n",
    "\\frac{d \\vec{X}(t)}{dt} = \\vec{f}(\\vec{X}(t),t) ,\n",
    "\\tag{2}\n",
    "$$"
   ]
  },
  {
   "cell_type": "markdown",
   "metadata": {},
   "source": [
    "のように与えられていると仮定しよう。十分に小さな時間変化 $\\Delta t$ に対し、$\\vec{X}(t+\\Delta t)$ のテイラー展開を考えると、"
   ]
  },
  {
   "cell_type": "markdown",
   "metadata": {},
   "source": [
    "$$\n",
    "\\begin{split}\n",
    "\\vec{X}(t + \\Delta t)\n",
    "&= \\vec{X}(t) + \\frac{d \\vec{X}(t)}{dt} \\Delta t + \\mathcal{O} \\left( (\\Delta t)^2 \\right) \\\\ \n",
    "&= \\vec{X}(t) + \\vec{f}(\\vec{X}(t),t) \\Delta t + \\mathcal{O} \\left( (\\Delta t)^2 \\right) ,\n",
    "\\end{split}\n",
    "\\tag{3}\n",
    "$$"
   ]
  },
  {
   "cell_type": "markdown",
   "metadata": {},
   "source": [
    "となる。式 (3) の右辺の剰余項 $\\mathcal{O}\\left((\\Delta t)^2\\right)$ を無視すれば、時刻 $t$ での $\\vec{X}$ と $\\vec{f}$ の値から、時刻 $(t + \\Delta t)$ での $\\vec{X}$ の値を近似的に求めることができる："
   ]
  },
  {
   "cell_type": "markdown",
   "metadata": {},
   "source": [
    "$$\n",
    "\\vec{X}(t + \\Delta t)\n",
    "\\simeq\n",
    "\\vec{X}(t) + \\vec{f}(\\vec{X}(t),t) \\Delta t .\n",
    "\\tag{4}\n",
    "$$"
   ]
  },
  {
   "cell_type": "markdown",
   "metadata": {},
   "source": [
    "よって、ある初期時刻 $t = t_0$ での $\\vec{X}(t_0)$ の値が与えられていれば、式 (4) のステップを何回も繰り返せば、その後の $\\vec{X} $の時間発展が分かることになる。式 (4) においてステップ幅 $\\Delta t$ を小さくすれば近似がよくなるが[<sup id=\"cite_ref-5\">[5]</sup>](#cite_note-5)、当然その分だけ計算に時間がかかることになる。式 (4) を用いた常微分方程式の初期値問題の近似解法をオイラー法（Euler method）と呼ぶ[<sup id=\"cite_ref-6\">[6]</sup>](#cite_note-6)。"
   ]
  },
  {
   "cell_type": "markdown",
   "metadata": {},
   "source": [
    "## 一次元調和振動子"
   ]
  },
  {
   "cell_type": "markdown",
   "metadata": {},
   "source": [
    "ばね振り子のような、一次元調和振動子（one-dimensional harmonic oscillator）の運動の様子を、オイラー法を用いて数値的に計算してみよう。解くべき微分方程式は"
   ]
  },
  {
   "cell_type": "markdown",
   "metadata": {},
   "source": [
    "$$\n",
    "\\frac{d^2 x(t)}{dt^2} = - \\omega^2 x(t) ,\n",
    "\\tag{5}\n",
    "$$"
   ]
  },
  {
   "cell_type": "markdown",
   "metadata": {},
   "source": [
    "である。ここで $x$ は調和振動子の変位、$\\omega$ は角振動数である[<sup id=\"cite_ref-7\">[7]</sup>](#cite_note-7)。"
   ]
  },
  {
   "cell_type": "markdown",
   "metadata": {},
   "source": [
    "式 (5) は二階の微分方程式であるが、$v_x = \\frac{dx}{dt}$ を使うと、連立の一階微分方程式として書き直すことができる："
   ]
  },
  {
   "cell_type": "markdown",
   "metadata": {},
   "source": [
    "$$\n",
    "\\begin{align}\n",
    "\\frac{dx(t)}{dt} &= v_x(t) \\tag{6a}, \\\\\n",
    "\\frac{dv_x(t)}{dt} &= - \\omega^2 x(t) \\tag{6b} .\n",
    "\\end{align}\n",
    "$$"
   ]
  },
  {
   "cell_type": "markdown",
   "metadata": {},
   "source": [
    "よって、$\\vec{X} = (x, v_x)$ として式 (4) を適用すると、"
   ]
  },
  {
   "cell_type": "markdown",
   "metadata": {},
   "source": [
    "$$\n",
    "\\begin{align}\n",
    "x(t+\\Delta t) &\\simeq x(t) + v_x(t) \\Delta t ,\n",
    "\\tag{7a} \\\\\n",
    "v_x(t+\\Delta t) &\\simeq v_x(t) - \\omega^2 x(t) \\Delta t ,\n",
    "\\tag{7b}\n",
    "\\end{align}\n",
    "$$"
   ]
  },
  {
   "cell_type": "markdown",
   "metadata": {},
   "source": [
    "となる。時刻 $t = 0$ での初期条件 $x(0)$ と $v_x(0)$ が与えられれば、式 (7) のステップを繰り返すことにより、系の時間発展を近似的に求めることができる[<sup id=\"cite_ref-8\">[8]</sup>](#cite_note-8)。"
   ]
  },
  {
   "cell_type": "code",
   "execution_count": null,
   "metadata": {},
   "outputs": [],
   "source": [
    "# オイラー法による調和振動子のシミュレーション\n",
    "\n",
    "%matplotlib inline\n",
    "import matplotlib.pyplot as plt\n",
    "import numpy as np\n",
    "\n",
    "# 最終時刻\n",
    "t_max = 2\n",
    "\n",
    "# ステップ幅\n",
    "dt = 0.00001\n",
    "\n",
    "# 初期条件と角振動数\n",
    "x0 = 1\n",
    "vx0 = 0\n",
    "omega = 4 * np.pi\n",
    "\n",
    "# 初期化\n",
    "t = 0\n",
    "x = x0\n",
    "vx = vx0\n",
    "\n",
    "# グラフ用のリスト\n",
    "t_points = [t]\n",
    "x_points = [x]\n",
    "vx_points = [vx]\n",
    "\n",
    "while t < t_max:\n",
    "    # オイラー法で時間をdt進める\n",
    "    x_new = x + vx * dt\n",
    "    vx_new = vx - omega ** 2 * x * dt\n",
    "    \n",
    "    t = t + dt\n",
    "    x = x_new\n",
    "    vx = vx_new\n",
    "    \n",
    "    # グラフ用に点を追加\n",
    "    t_points.append(t)\n",
    "    x_points.append(x)\n",
    "    vx_points.append(vx)\n",
    "    \n",
    "# グラフを描く\n",
    "fig, (ax1, ax2) = plt.subplots(nrows=2, sharex=True)\n",
    "\n",
    "ax1.plot(t_points, x_points, label='$x$ (Euler)')\n",
    "ax2.plot(t_points, vx_points, label='$v_x$ (Euler)')\n",
    "\n",
    "ax1.set_ylabel('$x$')\n",
    "ax1.grid()\n",
    "ax1.legend()\n",
    "\n",
    "ax2.set_xlabel('$t$')\n",
    "ax2.set_ylabel('$v_x$')\n",
    "ax2.grid()\n",
    "ax2.legend()\n",
    "\n",
    "plt.show()"
   ]
  },
  {
   "cell_type": "markdown",
   "metadata": {},
   "source": [
    "ここでは [subplots 関数](https://matplotlib.org/api/_as_gen/matplotlib.pyplot.subplots.html)にオプション引数を渡して、横軸を共有した [Axes オブジェクト](https://matplotlib.org/api/axes_api.html#the-axes-class)を二つ（`ax1` と `ax2`）作り、それぞれに $x$ と $v_x$ の時間変化を描いている。"
   ]
  },
  {
   "cell_type": "markdown",
   "metadata": {},
   "source": [
    "単位系はどのようにとってもよいが、時間の単位を秒、長さの単位を cm にとって、ばねに吊るされた重りを、ばねの自然長からいくらか伸ばしたところで静かに手を離した状況を考えると、この結果の物理的な意味がイメージがしやすいだろう。"
   ]
  },
  {
   "cell_type": "markdown",
   "metadata": {},
   "source": [
    "## 練習問題"
   ]
  },
  {
   "cell_type": "markdown",
   "metadata": {},
   "source": [
    "(1) この調和振動子の運動の解析解は"
   ]
  },
  {
   "cell_type": "markdown",
   "metadata": {},
   "source": [
    "$$\n",
    "\\begin{align}\n",
    "x(t) &= x(0) \\cos(\\omega t) + \\frac{v_x(0)}{\\omega} \\sin(\\omega t) , \\tag{8a} \\\\\n",
    "v_x(t) &= v_x(0) \\cos(\\omega t) -x(0) \\, \\omega \\sin(\\omega t) , \\tag{8a} \\\\\n",
    "\\end{align}\n",
    "$$"
   ]
  },
  {
   "cell_type": "markdown",
   "metadata": {},
   "source": [
    "で与えられる。これらの曲線をグラフに（例えば点線で）描き入れ、数値解と比較せよ。"
   ]
  },
  {
   "cell_type": "markdown",
   "metadata": {},
   "source": [
    "(2) 初期条件 $x(0)$、$v_x(0)$ や角振動数 $\\omega$ を少し変えてみて、運動がどのように変化するか観察せよ。"
   ]
  },
  {
   "cell_type": "markdown",
   "metadata": {},
   "source": [
    "(3) ステップ幅 $\\Delta t$ を大きくしてみよ。例えば、$\\Delta t = 0.01$ として、どのような結果が得られるか確認せよ。また、そのような結果が得られた理由を考察せよ。"
   ]
  },
  {
   "cell_type": "markdown",
   "metadata": {},
   "source": [
    "## 斜方投射"
   ]
  },
  {
   "cell_type": "markdown",
   "metadata": {},
   "source": [
    "ボールを斜め上の方向に投げるときのことを考えよう。ボールは質量 $m$ の質点であるとする（つまり回転などは考えない）。水平方向に $x$ 軸、鉛直上向きに $y$ 軸をとる。速度の二乗に比例した空気抵抗を仮定すると[<sup id=\"cite_ref-9\">[9]</sup>](#cite_note-9)、解くべき微分方程式は"
   ]
  },
  {
   "cell_type": "markdown",
   "metadata": {},
   "source": [
    "$$\n",
    "\\begin{align}\n",
    "\\frac{d x(t)}{dt} &= v_x(t) , \\tag{9a} \\\\\n",
    "\\frac{d y(t)}{dt} &= v_y(t) , \\tag{9b} \\\\\n",
    "\\frac{d v_x(t)}{dt} &= - \\frac{b}{m} v(t) v_x(t) , \\tag{9c} \\\\\n",
    "\\frac{d v_y(t)}{dt} &= - \\frac{b}{m} v(t) v_y(t) - g, \\tag{9c} \\\\\n",
    "\\end{align}\n",
    "$$"
   ]
  },
  {
   "cell_type": "markdown",
   "metadata": {},
   "source": [
    "である。ただし、$v(t) = \\sqrt{[v_x(t)]^2 + [v_y(t)]^2}$ であり、$b$ は空気抵抗係数、$g$ は重力加速度である。時刻 $t = 0$ に初速度 $v_0$ で水平方向から角度 $\\theta$ だけ上の向きにボールを投げたとしよう。MKS単位系で適当なパラメーター[<sup id=\"cite_ref-10\">[10]</sup>](#cite_note-10)をとったシミュレーションは次のようになる。"
   ]
  },
  {
   "cell_type": "code",
   "execution_count": null,
   "metadata": {},
   "outputs": [],
   "source": [
    "# オイラー法による斜方投射のシミュレーション\n",
    "\n",
    "%matplotlib inline\n",
    "import matplotlib.pyplot as plt\n",
    "import numpy as np\n",
    "\n",
    "# ステップ幅\n",
    "dt = 0.00001\n",
    "\n",
    "# パラメーター\n",
    "m = 0.2\n",
    "g = 9.8\n",
    "b = 0.002\n",
    "v0 = 20\n",
    "y0 = 1.7  # ボールを離す高さ（人間の身長程度）\n",
    "theta = np.radians(45)\n",
    "\n",
    "# 初期化\n",
    "t = 0\n",
    "x = 0\n",
    "y = y0\n",
    "vx = v0 * np.cos(theta)\n",
    "vy = v0 * np.sin(theta)\n",
    "\n",
    "# グラフ用のリスト\n",
    "x_points = [x]\n",
    "y_points = [y]\n",
    "\n",
    "# 地面に接触するまでループする\n",
    "while y >= 0:\n",
    "    # オイラー法で時間をdt進める\n",
    "    v = np.sqrt(vx ** 2 + vy ** 2)\n",
    "    \n",
    "    x_new = x + vx * dt\n",
    "    y_new = y + vy * dt\n",
    "    vx_new = vx - b / m * v * vx * dt\n",
    "    vy_new = vy - (b / m * v * vy + g) * dt\n",
    "    \n",
    "    t = t + dt\n",
    "    x = x_new\n",
    "    y = y_new\n",
    "    vx = vx_new\n",
    "    vy = vy_new\n",
    "    \n",
    "    # グラフ用に点を追加\n",
    "    x_points.append(x)\n",
    "    y_points.append(y)\n",
    "\n",
    "# 接地した時の時刻と座標を表示\n",
    "print(f't = {t}, y = {y}, x = {x}')\n",
    "\n",
    "# グラフを描く\n",
    "fig, ax = plt.subplots()\n",
    "ax.plot(x_points, y_points)\n",
    "ax.set_xlabel('$x$')\n",
    "ax.set_ylabel('$y$')\n",
    "ax.set_aspect('equal')\n",
    "ax.grid()\n",
    "plt.show()"
   ]
  },
  {
   "cell_type": "markdown",
   "metadata": {},
   "source": [
    "## 練習問題"
   ]
  },
  {
   "cell_type": "markdown",
   "metadata": {},
   "source": [
    "(4) 空気抵抗がなく（$b=0$ [kg/m]）地面の高さ（$y(0)=0$ [m]）からボールを投げた場合、同じ初速度でもっともボールを遠くまで投げることができる角度は 45°である。さて、このシミュレーションのように、空気抵抗があり、ボールを投げる高さもある場合、もっともボールを遠くまで投げることのできる角度はどうなるだろうか？次の中から選べ。\n",
    "\n",
    "(a) 45°より小さな角度。\n",
    "\n",
    "(b) 45°のまま変わらない。\n",
    "\n",
    "(c) 45°より大きな角度。"
   ]
  },
  {
   "cell_type": "markdown",
   "metadata": {},
   "source": [
    "(5) 月面（$g = 1.6$ [m/s$^2$]、$b = 0$ [kg/m]）でボール投げをすると、地球の場合と同じ初速度、同じ角度でどのくらい遠くまでボールを投げることができるだろうか？"
   ]
  },
  {
   "cell_type": "markdown",
   "metadata": {},
   "source": [
    "## 演習課題"
   ]
  },
  {
   "cell_type": "markdown",
   "metadata": {},
   "source": [
    "太陽の周りを動く一つの天体（惑星や彗星など）の運動を考える。天体は太陽に比べて非常に軽いとし、太陽も天体も質点として議論することにすると[<sup id=\"cite_ref-11\">[11]</sup>](#cite_note-11)、運動方程式は次のようになる："
   ]
  },
  {
   "cell_type": "markdown",
   "metadata": {},
   "source": [
    "$$\n",
    "m \\frac{d^2 \\vec{r}}{dt^2} = - \\frac{GMm}{|\\vec{r}|^2} \\frac{\\vec{r}}{|\\vec{r}|} .\n",
    "\\tag{10}\n",
    "$$"
   ]
  },
  {
   "cell_type": "markdown",
   "metadata": {},
   "source": [
    "ここで $\\vec{r}$ は太陽を原点としたときの天体の位置、$t$ は時間、$M$ と $m$ はそれぞれ太陽と天体の質量、$G$ は万有引力定数である。中心力のみが働いているので、この運動は平面運動となる。その平面内に二次元直交座標系（$x$ 軸と $y$ 軸）をとると、式 (10) は次のような連立微分方程式として書き下せる："
   ]
  },
  {
   "cell_type": "markdown",
   "metadata": {},
   "source": [
    "$$\n",
    "\\begin{align}\n",
    "\\frac{d x(t)}{dt} &= v_x(t) , \\tag{11a} \\\\\n",
    "\\frac{d y(t)}{dt} &= v_y(t) , \\tag{11b} \\\\\n",
    "\\frac{d v_x(t)}{dt} &= - \\frac{GM}{[r(t)]^3} x(t) , \\tag{11c} \\\\\n",
    "\\frac{d v_y(t)}{dt} &= - \\frac{GM}{[r(t)]^3} y(t) . \\tag{11c} \\\\\n",
    "\\end{align}\n",
    "$$"
   ]
  },
  {
   "cell_type": "markdown",
   "metadata": {},
   "source": [
    "ただし $r(t) = \\sqrt{[x(t)]^2 + [y(t)]^2}$ である。長さの単位は au (天文単位；astronomical unit；1 au は、ほぼ地球と太陽との平均距離に等しい)、時間の単位は年をとることにする。このとき、万有引力定数と太陽質量の積は、"
   ]
  },
  {
   "cell_type": "markdown",
   "metadata": {},
   "source": [
    "$$\n",
    "GM \\simeq 4 \\pi^2 \\text{[au$^3$/yr$^2$]} ,\n",
    "\\tag{12}\n",
    "$$"
   ]
  },
  {
   "cell_type": "markdown",
   "metadata": {},
   "source": [
    "となる[<sup id=\"cite_ref-12\">[12]</sup>](#cite_note-12)。"
   ]
  },
  {
   "cell_type": "markdown",
   "metadata": {},
   "source": [
    "連立微分方程式 (11) をもとに、オイラー法を用いて、天体の運動をシミュレーションしてみよう。平面上の運動では $t = 0$ での初期条件として四つのパラメーターが必要であるが、楕円軌道を考えて、「天体の初期位置は太陽からもっとも遠い軌道上の点にとる[<sup id=\"cite_ref-13\">[13]</sup>](#cite_note-13)、移動方向は半時計周りとする」という条件を課す。さらに、天体の初期位置を $x$ 軸の正の方向とすると、残りの自由なパラメーターは二つである。これらを楕円軌道[<sup id=\"cite_ref-14\">[14]</sup>](#cite_note-14)の軌道長半径 $a$ と離心率 $e$ で決めることにすると、次のような式が得られる："
   ]
  },
  {
   "cell_type": "markdown",
   "metadata": {},
   "source": [
    "$$\n",
    "\\begin{align}\n",
    "x(0) &= r_0 , \\tag{13a} \\\\\n",
    "y(0) &= 0 , \\tag{13b} \\\\\n",
    "v_x(0) &= 0, \\tag{13c} \\\\\n",
    "v_y(0) &= r_0 \\omega_0 . \\tag{13d}\n",
    "\\end{align}\n",
    "$$"
   ]
  },
  {
   "cell_type": "markdown",
   "metadata": {},
   "source": [
    "ただし、"
   ]
  },
  {
   "cell_type": "markdown",
   "metadata": {},
   "source": [
    "$$\n",
    "r_0 = a (1 + e) , \\qquad\n",
    "\\omega_0 = \\frac{\\sqrt{GMa(1-e^2)}}{r_0^2} , \\tag{14}\n",
    "$$"
   ]
  },
  {
   "cell_type": "markdown",
   "metadata": {},
   "source": [
    "である[<sup id=\"cite_ref-15\">[15]</sup>](#cite_note-15)。"
   ]
  },
  {
   "cell_type": "markdown",
   "metadata": {},
   "source": [
    "(1) 天体の運動のシミュレーションを行うプログラムを作成せよ。まず、地球（公転周期 1.00001742096 [yr]）の軌道のパラメーター："
   ]
  },
  {
   "cell_type": "markdown",
   "metadata": {},
   "source": [
    "$$\n",
    "a = 1.000001018 \\text{ [au]}, \\qquad\n",
    "e = 0.0167086 ,\n",
    "\\tag{15}\n",
    "$$"
   ]
  },
  {
   "cell_type": "markdown",
   "metadata": {},
   "source": [
    "を用い、$\\Delta t = 0.00001$ [yr] として、$t_\\text{max} = 3$ [yr] ほど計算する。$x$-$y$ 平面での軌道をグラフに描くと、ほぼ円軌道になっているだろう[<sup id=\"cite_ref-16\">[16]</sup>](#cite_note-16)[<sup id=\"cite_ref-17\">[17]</sup>](#cite_note-17)。また、$x$ 座標（もしくは $y$ 座標でもよいが）を時間の関数として描くと、公転周期がほぼ一年になっているだろう。それらを確認したら、提出する際には次のパラメーターで表される架空の天体（公転周期約 2 [yr]、近日点距離 0.8 [au]、遠日点距離 2.4 [au]）の運動を少なくとも $t_\\text{max} = 3$ [yr] 以上まで計算し、$x$-$y$ 平面での軌道をグラフに描け。"
   ]
  },
  {
   "cell_type": "markdown",
   "metadata": {},
   "source": [
    "$$\n",
    "a = 1.6 \\text{ [au]} , \\qquad\n",
    "e = 0.5 .\n",
    "\\tag{16}\n",
    "$$"
   ]
  },
  {
   "cell_type": "code",
   "execution_count": null,
   "metadata": {},
   "outputs": [],
   "source": [
    "# 課題解答14.1  <-- 提出する際に、この行を必ず含めること。\n",
    "\n",
    "%matplotlib inline\n",
    "import matplotlib.pyplot as plt\n",
    "import numpy as np\n",
    "\n",
    "\n"
   ]
  },
  {
   "cell_type": "markdown",
   "metadata": {},
   "source": [
    "## 発展課題"
   ]
  },
  {
   "cell_type": "markdown",
   "metadata": {},
   "source": [
    "余裕があればやってみてください。"
   ]
  },
  {
   "cell_type": "markdown",
   "metadata": {},
   "source": [
    "(2) ハレー彗星（公転周期 75.32 [yr]、近日点距離 0.586 [au]、遠日点距離 35.082 [au]）の軌道"
   ]
  },
  {
   "cell_type": "markdown",
   "metadata": {},
   "source": [
    "$$\n",
    "a = 17.834 \\text{ [au]} , \\qquad\n",
    "e = 0.96714 .\n",
    "\\tag{17}\n",
    "$$"
   ]
  },
  {
   "cell_type": "markdown",
   "metadata": {},
   "source": [
    "についてシミュレーションを行ってみよう。演習課題 (1) で作ったプログラムにおいて同じステップ幅を使って 80 [yr] ほど計算すると、残念ながらオイラー法の誤差によって楕円軌道から少しずれてしまう（元の位置に戻って来ない）。ステップ幅を小さくしたり、ルンゲ＝クッタ法（Runge–Kutta method）のような高次の近似法を用いたりしてもよいが、ここでは以下のことを考えよう。"
   ]
  },
  {
   "cell_type": "markdown",
   "metadata": {},
   "source": [
    "いま、保存力のみを考えているので、運動方程式は"
   ]
  },
  {
   "cell_type": "markdown",
   "metadata": {},
   "source": [
    "$$\n",
    "\\begin{align}\n",
    "\\frac{d\\vec{r}(t)}{dt} &= \\vec{v}(t) , \\tag{18a} \\\\\n",
    "\\frac{d\\vec{v}(t)}{dt} &= \\vec{f}\\left(\\vec{r}(t)\\right) , \\tag{18b}\n",
    "\\end{align}\n",
    "$$"
   ]
  },
  {
   "cell_type": "markdown",
   "metadata": {},
   "source": [
    "のような形で与えられている。これを"
   ]
  },
  {
   "cell_type": "markdown",
   "metadata": {},
   "source": [
    "$$\n",
    "\\begin{align}\n",
    "\\vec{r}(t+\\Delta t) &\\simeq \\vec{r}(t) + \\vec{v}(t) \\Delta t, \\tag{19a} \\\\\n",
    "\\vec{v}(t+\\Delta t) &\\simeq \\vec{v}(t) + \\vec{f}\\left(\\vec{r}(t)\\right) \\Delta t , \\tag{19b}\n",
    "\\end{align}\n",
    "$$"
   ]
  },
  {
   "cell_type": "markdown",
   "metadata": {},
   "source": [
    "と近似するのがオイラー法であった。式 (19) の写像は力学的エネルギーを保存せず、繰り返し適用することによって力学的エネルギーが変化してしまう。実は、式 (19) の代わりに"
   ]
  },
  {
   "cell_type": "markdown",
   "metadata": {},
   "source": [
    "$$\n",
    "\\begin{align}\n",
    "\\vec{r}(t+\\Delta t) &\\simeq \\vec{r}(t) + \\vec{v}(t) \\Delta t, \\tag{20a} \\\\\n",
    "\\vec{v}(t+\\Delta t) &\\simeq \\vec{v}(t) + \\vec{f}\\left(\\vec{r}(t+\\Delta t)\\right) \\Delta t , \\tag{20b}\n",
    "\\end{align}\n",
    "$$"
   ]
  },
  {
   "cell_type": "markdown",
   "metadata": {},
   "source": [
    "を使うと、力学的エネルギー保存に対する誤差が改善することが知られている（式 (20b) の右辺第二項に注意）。この近似法はシンプレクティック・オイラー法（symplectic Euler method）と呼ばれている[<sup id=\"cite_ref-18\">[18]</sup>](#cite_note-18)。これを使ってみよう。まず、演習課題 (1) のようにオイラー法で地球の軌道を計算するとき、ステップ幅を $\\Delta t = 0.001$ [yr] とすると、誤差により軌道が閉じない（一周するとずれる）ことを確認する。次に、プログラムをシンプレクティック・オイラー法を使うように書き換えると、$\\Delta t = 0.001$ [yr] のままでも軌道が閉じるはずである。このことが確認出来たら、ハレー彗星の軌道計算を少なくとも $t_\\text{max} = 150$ [yr] 以上行い、$x$-$y$ 平面での軌道をグラフに描け。"
   ]
  },
  {
   "cell_type": "code",
   "execution_count": null,
   "metadata": {},
   "outputs": [],
   "source": [
    "# 課題解答14.2  <-- 提出する際に、この行を必ず含めること。\n",
    "\n",
    "%matplotlib inline\n",
    "import matplotlib.pyplot as plt\n",
    "import numpy as np\n",
    "\n",
    "\n"
   ]
  },
  {
   "cell_type": "markdown",
   "metadata": {},
   "source": [
    "(3) 中心力は角運動量保存則を導き、平面内での運動をもたらすが、天体の軌道が閉じた楕円を描くのは中心力が距離の二乗に反比例しているか、もしくは調和振動子の場合のみである。実際、式 (10) の代わりに"
   ]
  },
  {
   "cell_type": "markdown",
   "metadata": {},
   "source": [
    "$$\n",
    "m \\frac{d^2 \\vec{r}}{dt^2} = - \\frac{GMm}{|\\vec{r}|^2}\n",
    "\\left( 1 + \\frac{C_2}{|\\vec{r}|^2} \\right)\n",
    "\\frac{\\vec{r}}{|\\vec{r}|} ,\n",
    "\\tag{21}\n",
    "$$"
   ]
  },
  {
   "cell_type": "markdown",
   "metadata": {},
   "source": [
    "を用いると[<sup id=\"cite_ref-19\">[19]</sup>](#cite_note-19)、楕円軌道の長軸の向きが回転する（近日点移動）。このことをシンプレクティック・オイラー法を用いてシミュレーションしてみよう。水星（公転周期 0.240846 [yr]、近日点距離 0.307499 [au]、遠日点距離 0.466697 [au]）の軌道パラメーター："
   ]
  },
  {
   "cell_type": "markdown",
   "metadata": {},
   "source": [
    "$$\n",
    "a = 0.387098 \\text{ [au]} , \\qquad\n",
    "e = 0.205630 ,\n",
    "\\tag{22}\n",
    "$$"
   ]
  },
  {
   "cell_type": "markdown",
   "metadata": {},
   "source": [
    "を用い、$C_2 = 0.005$ [au$^2$] [<sup id=\"cite_ref-20\">[20]</sup>](#cite_note-20)[<sup id=\"cite_ref-21\">[21]</sup>](#cite_note-21)、$\\Delta t = 0.0001$ [yr] として[<sup id=\"cite_ref-22\">[22]</sup>](#cite_note-22)、$t_\\text{max} = 1$ [yr] までシミュレーションを行い[<sup id=\"cite_ref-23\">[23]</sup>](#cite_note-23)、$x$-$y$ 平面での軌道をグラフに描け。"
   ]
  },
  {
   "cell_type": "code",
   "execution_count": null,
   "metadata": {},
   "outputs": [],
   "source": [
    "# 課題解答14.3  <-- 提出する際に、この行を必ず含めること。\n",
    "\n",
    "%matplotlib inline\n",
    "import matplotlib.pyplot as plt\n",
    "import numpy as np\n",
    "\n",
    "\n"
   ]
  },
  {
   "cell_type": "markdown",
   "metadata": {},
   "source": [
    "## 脚注"
   ]
  },
  {
   "cell_type": "markdown",
   "metadata": {},
   "source": [
    "<span id=\"cite_note-1\">1.</span> [^](#cite_ref-1)\n",
    "ガリレオ・ガリレイの有名な言葉に「宇宙は数学の言葉で書かれている（L'universo è scritto in lingua matematica.）」というものがある。私のような数学が苦手な人には残念なお知らせではあるが、数学を知らないと我々の住んでいるこの宇宙を支配している物理法則を理解することはできない。"
   ]
  },
  {
   "cell_type": "markdown",
   "metadata": {},
   "source": [
    "<span id=\"cite_note-2\">2.</span> [^](#cite_ref-2)\n",
    "ところで、ここではベクトル量を矢印を上に付けることで表記する。高校まではベクトルに矢印を使っていたのが、大学の教科書や専門書では太字になっていることが多く、やっとそれに慣れた学生さんからすると、なぜ太字で表記しないのか？と思うかもしれないが、（矢印や太字よりもテンソルの添字記法をよく使う人間からしたらどっちでもええやんと思うのを別にすると）Jupyter ノートブックで太字を使うとすると、あらゆる環境の Web ブラウザー上のフォントで太字が実際に明確に太く表示されることが保証されていない（気がする）から、という立派な理由がある。もっとも、一番の理由は、 [KaTeX](https://katex.org/) とは違って [MathJax](https://www.mathjax.org/) では `\\bm` コマンドがサポートされていないので `\\boldsymbol` と長いコマンドを使う必要があり、 `\\vec` よりも 7 文字も多くタイプしなければならないのが面倒くさいからだったりする。（`\\bf` や `\\mathbf` はギリシャ文字が太字にならないので使いたくない。）"
   ]
  },
  {
   "cell_type": "markdown",
   "metadata": {},
   "source": [
    "<span id=\"cite_note-3\">3.</span> [^](#cite_ref-3)\n",
    "$n$ 個の場合が分かりにくければ、まずは $n=1$、つまりスカラー量の場合を考えるとよい。"
   ]
  },
  {
   "cell_type": "markdown",
   "metadata": {},
   "source": [
    "<span id=\"cite_note-4\">4.</span> [^](#cite_ref-4)\n",
    "$\\vec{X}$ は実ベクトル（$\\vec{X}\\in\\mathbb{R}^n$）、$t$ は実数とする。$\\vec{X}$ を複素ベクトル（$\\vec{X} \\in \\mathbb{C}^n$）としてもよいが、それは実部と虚部を分けて考えると $\\vec{X} \\in \\mathbb{R}^{2n}$ と等価である。"
   ]
  },
  {
   "cell_type": "markdown",
   "metadata": {},
   "source": [
    "<span id=\"cite_note-5\">5.</span> [^](#cite_ref-5)\n",
    "悪条件がなければ、$\\Delta t$ を小さくしていけばオイラー法の打切り誤差をいくらでも小さくできる（丸め誤差などはある）。時刻 $t=0$ から $t=T$ までを $N$ ステップに分割すると $\\Delta t = T/N$ であり、オイラー法による誤差の蓄積は全体で（十分に $\\Delta t$ が小さければ） $N \\times \\mathcal{O}\\left((\\Delta t)^2\\right)=\\mathcal{O}(\\Delta t)$ と期待される。現実的には $\\Delta t$ を変えながら（例えば $\\Delta t$ を二倍にしたりして）二回以上同じ問題を解いてみて、数値解の軌道のずれがどのくらいになるか調べてみる必要があるだろう。"
   ]
  },
  {
   "cell_type": "markdown",
   "metadata": {},
   "source": [
    "<span id=\"cite_note-6\">6.</span> [^](#cite_ref-6)\n",
    "（後退オイラー法などと区別して）前進オイラー法（forward Euler method）とも呼ぶ。"
   ]
  },
  {
   "cell_type": "markdown",
   "metadata": {},
   "source": [
    "<span id=\"cite_note-7\">7.</span> [^](#cite_ref-7)\n",
    "ばね定数 $k$ のばねにつながれた質量 $m$ の質点の運動の場合（静止状態を $x=0$ とする）、$\\omega = \\sqrt{k / m}$ である。"
   ]
  },
  {
   "cell_type": "markdown",
   "metadata": {},
   "source": [
    "<span id=\"cite_note-8\">8.</span> [^](#cite_ref-8)\n",
    "このプログラムでは簡単のために毎ステップごとにリストに点を追加しているが、グラフの描画のためであれば、そんなに細かく点を保存しておく必要はない。むしろ点が多すぎるとグラフの描画が遅くなる。例えば 100 ステップごとに1回だけ点を追加するとか、もしくは後で\n",
    "```python\n",
    "n = 1000  # グラフで使う点の数\n",
    "d = max(len(t_points) // n, 1)\n",
    "t_points = t_points[::d]\n",
    "x_points = x_points[::d]\n",
    "vx_points = vx_points[::d]\n",
    "```\n",
    "のように、グラフに描画する際に適当にダウンサンプリングしてもよいだろう。"
   ]
  },
  {
   "cell_type": "markdown",
   "metadata": {},
   "source": [
    "<span id=\"cite_note-9\">9.</span> [^](#cite_ref-9)\n",
    "速度に比例する粘性抵抗は無視する。"
   ]
  },
  {
   "cell_type": "markdown",
   "metadata": {},
   "source": [
    "<span id=\"cite_note-10\">10.</span> [^](#cite_ref-10)\n",
    "ソフトボール（質量約 0.2 kg）を投げるとして、半径約 0.05 m、空気密度 1.2 kg/m$^3$、抗力係数 $C_D=0.5$ とすると、$b = 0.002$ kg/m 程度（野球のボールに対する[同様の計算](http://www.physics.usyd.edu.au/~cross/TRAJECTORIES/Trajectories.html)を参考にした）。地表での重力加速度が約 9.8 m/s$^2$ なのはよく知られている。一番適当なのは初速度である（このくらい飛ぶかなぁと思って適当に決めた）。"
   ]
  },
  {
   "cell_type": "markdown",
   "metadata": {},
   "source": [
    "<span id=\"cite_note-11\">11.</span> [^](#cite_ref-11)\n",
    "考えている天体は太陽以外からの重力の影響を受けない、自転や扁平率も考えない、天体の質量は太陽の質量に比べてきわめて小さいので太陽は原点にじっとしている、と仮定して問題を簡単化する。"
   ]
  },
  {
   "cell_type": "markdown",
   "metadata": {},
   "source": [
    "<span id=\"cite_note-12\">12.</span> [^](#cite_ref-12)\n",
    "天体の軌道長半径を $a$、公転周期を $T$ とすると、次の関係がある："
   ]
  },
  {
   "cell_type": "markdown",
   "metadata": {},
   "source": [
    "$$\n",
    "\\frac{a^3}{T^2} = G \\frac{M + m}{4 \\pi^2} .\n",
    "$$"
   ]
  },
  {
   "cell_type": "markdown",
   "metadata": {},
   "source": [
    "これに地球を当てはめれば式 (12) となる。$a^3$ と $T^2$ の比が定数になるというのは、ケプラーの第三法則を表している。"
   ]
  },
  {
   "cell_type": "markdown",
   "metadata": {},
   "source": [
    "<span id=\"cite_note-13\">13.</span> [^](#cite_ref-13)\n",
    "$r = r_\\text{max} = a(1 + e)$、$\\ddot{r}=0$ となる点なので、非常に計算がしやすい。"
   ]
  },
  {
   "cell_type": "markdown",
   "metadata": {},
   "source": [
    "<span id=\"cite_note-14\">14.</span> [^](#cite_ref-14)\n",
    "楕円の中心から焦点までの距離は $a e$ であり、軌道短半径 $b$ との関係は $a^2 (1 - e^2) = b^2$ である。"
   ]
  },
  {
   "cell_type": "markdown",
   "metadata": {},
   "source": [
    "<span id=\"cite_note-15\">15.</span> [^](#cite_ref-15)\n",
    "太陽（つまり座標系の原点）は楕円の中心ではなく、（遠い方の）焦点に位置する。"
   ]
  },
  {
   "cell_type": "markdown",
   "metadata": {},
   "source": [
    "<span id=\"cite_note-16\">16.</span> [^](#cite_ref-16)\n",
    "グラフの縦横比を調整するために [Axes オブジェクト](https://matplotlib.org/api/axes_api.html#the-axes-class)の [set_aspect メソッド](https://matplotlib.org/api/_as_gen/matplotlib.axes.Axes.set_aspect.html)に `'equal'`を渡して呼びだすこと。"
   ]
  },
  {
   "cell_type": "markdown",
   "metadata": {},
   "source": [
    "<span id=\"cite_note-17\">17.</span> [^](#cite_ref-17)\n",
    "ステップ幅が大きいと、誤差のために円軌道が閉じない（一周した時に位置がずれる）。"
   ]
  },
  {
   "cell_type": "markdown",
   "metadata": {},
   "source": [
    "<span id=\"cite_note-18\">18.</span> [^](#cite_ref-18)\n",
    "式 (20) の代わりに"
   ]
  },
  {
   "cell_type": "markdown",
   "metadata": {},
   "source": [
    "$$\n",
    "\\begin{align}\n",
    "\\vec{r}(t+\\Delta t) &\\simeq \\vec{r}(t) + \\vec{v}(t+\\Delta t) \\Delta t, \\\\\n",
    "\\vec{v}(t+\\Delta t) &\\simeq \\vec{v}(t) + \\vec{f}\\left(\\vec{r}(t)\\right) \\Delta t ,\n",
    "\\end{align}\n",
    "$$"
   ]
  },
  {
   "cell_type": "markdown",
   "metadata": {},
   "source": [
    "としてもよい。"
   ]
  },
  {
   "cell_type": "markdown",
   "metadata": {},
   "source": [
    "<span id=\"cite_note-19\">19.</span> [^](#cite_ref-19)\n",
    "式 (21) の $C_2 / r^2$ の補正項の意味は、調べるとさまざまな文献が見つかると思うが、例えば、次の文献を参照のこと：\n",
    "- James D. Wells, *When effective theories predict: the inevitability of Mercury's anomalous perihelion precession*, In: *Effective Theories in Physics: From Planetary Orbits to Elementary Particle Masses* (Springer, 2012), [arXiv:1106.1568](https://arxiv.org/abs/1106.1568)."
   ]
  },
  {
   "cell_type": "markdown",
   "metadata": {},
   "source": [
    "<span id=\"cite_note-20\">20.</span> [^](#cite_ref-20)\n",
    "軌道をグラフに描いたときに分かりやすいよう、非常に大きな値にとってある（近日点で $C_2 / r^2 \\simeq 0.05$）。ちなみにシュヴァルツシルト解による補正では、"
   ]
  },
  {
   "cell_type": "markdown",
   "metadata": {},
   "source": [
    "$$\n",
    "C_2 = \\frac{a (1-e^2) GM}{c^2} \\simeq 3.7 \\times 10^{-9} \\text{ [au$^2$]} ,\n",
    "$$"
   ]
  },
  {
   "cell_type": "markdown",
   "metadata": {},
   "source": [
    "となり、一世紀あたり約 43″（秒；1″は 1°の 1 / 3600）の近日点移動を引き起こす。"
   ]
  },
  {
   "cell_type": "markdown",
   "metadata": {},
   "source": [
    "<span id=\"cite_note-21\">21.</span> [^](#cite_ref-21)\n",
    "プログラムのチェックとして、一度 $C_2 = 0$ [au$^2$] で計算してみてもよいかもしれない。通常の水星の軌道が描けるはずである。"
   ]
  },
  {
   "cell_type": "markdown",
   "metadata": {},
   "source": [
    "<span id=\"cite_note-22\">22.</span> [^](#cite_ref-22)\n",
    "発展課題 (2) のように $\\Delta t = 0.001$ [yr] ととると、（目で見える程度に）ちょっとずれる。"
   ]
  },
  {
   "cell_type": "markdown",
   "metadata": {},
   "source": [
    "<span id=\"cite_note-23\">23.</span> [^](#cite_ref-23)\n",
    "ちなみに $t_\\text{max} = 10$ [yr] くらいまで計算すると、ちょっと綺麗な模様が描ける。（でも提出時には $t_\\text{max} = 1$ [yr] にしておいてください。その方が成否が判断しやすいので。）"
   ]
  }
 ],
 "metadata": {
  "kernelspec": {
   "display_name": "Python 3",
   "language": "python",
   "name": "python3"
  },
  "language_info": {
   "codemirror_mode": {
    "name": "ipython",
    "version": 3
   },
   "file_extension": ".py",
   "mimetype": "text/x-python",
   "name": "python",
   "nbconvert_exporter": "python",
   "pygments_lexer": "ipython3",
   "version": "3.7.7"
  }
 },
 "nbformat": 4,
 "nbformat_minor": 4
}
