{
 "cells": [
  {
   "cell_type": "markdown",
   "metadata": {},
   "source": [
    "# フラクタル"
   ]
  },
  {
   "cell_type": "markdown",
   "metadata": {},
   "source": [
    "樹木の枝の付き方、雪の結晶の形、海岸線や山の稜線の形など、自然界にはその一部分を拡大すると元の形と同じようなものが現れる自己相似（フラクタル; fractal）という性質を持つものが多い。今回は、いくつかのフラクタル図形を描画してみよう。"
   ]
  },
  {
   "cell_type": "markdown",
   "metadata": {},
   "source": [
    "## コッホ曲線（再帰処理）"
   ]
  },
  {
   "cell_type": "markdown",
   "metadata": {},
   "source": [
    "有限の長さの線分を三等分し、分割した 2 点で正三角形を描いて底辺を消す。この操作を何度も繰り返してできあがるのがコッホ曲線（Koch curve）である（図 1）。"
   ]
  },
  {
   "cell_type": "markdown",
   "metadata": {},
   "source": [
    "![コッホ曲線](https://tueda.github.io/PS2020SS/notebooks/images/koch.png)\n",
    "図 1. コッホ曲線"
   ]
  },
  {
   "cell_type": "markdown",
   "metadata": {},
   "source": [
    "図 2 のように、ある線分が点 $P_1$ と $P_2$ によって与えられたとき、点 $A$、$B$、$C$ をどう求めるかは単純に平面幾何学の問題である。いま、"
   ]
  },
  {
   "cell_type": "markdown",
   "metadata": {},
   "source": [
    "$$\n",
    "\\vec{d} = \\overrightarrow{P_1 P_2} = \n",
    "\\begin{pmatrix}\n",
    "x_2 - x_1 \\\\\n",
    "y_2 - y_1\n",
    "\\end{pmatrix} ,\n",
    "\\tag{1}\n",
    "$$"
   ]
  },
  {
   "cell_type": "markdown",
   "metadata": {},
   "source": [
    "とし、$\\vec{d}$ を反時計回りに $90^\\circ$ 回転させたものを $\\vec{d}_\\perp$ としよう："
   ]
  },
  {
   "cell_type": "markdown",
   "metadata": {},
   "source": [
    "$$\n",
    "\\vec{d}_\\perp = \n",
    "\\begin{pmatrix}\n",
    "\\displaystyle \\cos\\left(\\frac{\\pi}{2}\\right) &\n",
    "\\displaystyle -\\sin\\left(\\frac{\\pi}{2}\\right) \\\\\n",
    "\\displaystyle \\sin\\left(\\frac{\\pi}{2}\\right) &\n",
    "\\displaystyle \\phantom{-} \\cos\\left(\\frac{\\pi}{2}\\right)\n",
    "\\end{pmatrix}\n",
    "\\vec{d} =\n",
    "\\begin{pmatrix}\n",
    "y_1 - y_2 \\\\\n",
    "x_2 - x_1\n",
    "\\end{pmatrix} .\n",
    "\\tag{2}\n",
    "$$"
   ]
  },
  {
   "cell_type": "markdown",
   "metadata": {},
   "source": [
    "すると、図 2 から明らかなように、"
   ]
  },
  {
   "cell_type": "markdown",
   "metadata": {},
   "source": [
    "$$\n",
    "\\begin{align}\n",
    "A &= P_1 + \\frac{1}{3} \\vec{d} ,\n",
    "\\tag{3a} \\\\\n",
    "B &= P_1 + \\frac{1}{2} \\vec{d} + \\frac{\\sqrt{3}}{6} \\vec{d}_\\perp ,\n",
    "\\tag{3b} \\\\\n",
    "C &= P_1 + \\frac{2}{3} \\vec{d} ,\n",
    "\\tag{3c}\n",
    "\\end{align}\n",
    "$$"
   ]
  },
  {
   "cell_type": "markdown",
   "metadata": {},
   "source": [
    "である。"
   ]
  },
  {
   "cell_type": "markdown",
   "metadata": {},
   "source": [
    "![線分の分割](https://tueda.github.io/PS2020SS/notebooks/images/koch_geom.png)\n",
    "図 2. 線分の分割"
   ]
  },
  {
   "cell_type": "markdown",
   "metadata": {},
   "source": [
    "いま描きたいコッホ曲線は階層的な構造を持っているので、関数の再帰呼び出しと相性がよい。線分の分割を行う関数を作り、その関数からそれ自身を再帰的に呼び出すことによって、線分の分割を繰り返せばよい[<sup id=\"cite_ref-1\">[1]</sup>](#cite_note-1)。"
   ]
  },
  {
   "cell_type": "code",
   "execution_count": null,
   "metadata": {},
   "outputs": [],
   "source": [
    "%matplotlib inline\n",
    "import matplotlib.pyplot as plt\n",
    "from math import sqrt\n",
    "\n",
    "max_level = 6  # 再帰の深さ\n",
    "\n",
    "# 折れ線グラフを描くための点を保存するリスト。\n",
    "xpoints = []\n",
    "ypoints = []\n",
    "\n",
    "\n",
    "def koch(x1, y1, x2, y2, level):  # (x1,y1)から(x2,y2)の間のコッホ曲線\n",
    "    if level == 0:\n",
    "        # levelが0であれば点を追加する。\n",
    "        if len(xpoints) == 0:\n",
    "            # リストが空のとき（つまり最初のみ）\n",
    "            xpoints.append(x1)\n",
    "            ypoints.append(y1)\n",
    "        xpoints.append(x2)\n",
    "        ypoints.append(y2)\n",
    "    else:\n",
    "        # levelが0より大きければ、点A、B、Cの位置を求め、\n",
    "        # 四つの線分に分割する(level - 1を渡す)。\n",
    "        dx = x2 - x1\n",
    "        dy = y2 - y1\n",
    "        \n",
    "        xa = x1 + 1 / 3 * dx\n",
    "        ya = y1 + 1 / 3 * dy\n",
    "        \n",
    "        xb = x1 + 1 / 2 * dx - sqrt(3) / 6 * dy\n",
    "        yb = y1 + 1 / 2 * dy + sqrt(3) / 6 * dx\n",
    "        \n",
    "        xc = x1 + 2 / 3 * dx\n",
    "        yc = y1 + 2 / 3 * dy\n",
    "        \n",
    "        koch(x1, y1, xa, ya, level - 1)\n",
    "        koch(xa, ya, xb, yb, level - 1)\n",
    "        koch(xb, yb, xc, yc, level - 1)\n",
    "        koch(xc, yc, x2, y2, level - 1)\n",
    "\n",
    "\n",
    "# 実際にkoch関数を呼ぶ。\n",
    "koch(0, 0, 1, 0, max_level)\n",
    "\n",
    "# 折れ線グラフを描く。\n",
    "fig, ax = plt.subplots()\n",
    "ax.plot(xpoints, ypoints)\n",
    "ax.set_aspect('equal')\n",
    "plt.show()"
   ]
  },
  {
   "cell_type": "markdown",
   "metadata": {},
   "source": [
    "## 練習問題"
   ]
  },
  {
   "cell_type": "markdown",
   "metadata": {},
   "source": [
    "(1) 上のプログラムでは $(0,0) \\to (1, 0)$ の間にコッホ曲線を描いた。これに加えて、 $(1, 0) \\to (1 / 2, -\\sqrt{3}/2)$ 、$(1 / 2, -\\sqrt{3}/2) \\to (0, 0)$ の間の二つのコッホ曲線を追加してみよう（つまり `koch` 関数 を 2 回追加で呼ぶ）。できた図形はコッホ雪片（Koch snowflake）と呼ばれる[<sup id=\"cite_ref-2\">[2]</sup>](#cite_note-2)。"
   ]
  },
  {
   "cell_type": "markdown",
   "metadata": {},
   "source": [
    "(2) コッホ曲線の一部を拡大しても同じ形が現れる、フラクタル構造を確認してみよう。これには、[Axes オブジェクト](https://matplotlib.org/api/axes_api.html#the-axes-class) の [set_xlim メソッド](https://matplotlib.org/api/_as_gen/matplotlib.axes.Axes.set_xlim.html)や [set_ylim メソッド](https://matplotlib.org/api/_as_gen/matplotlib.axes.Axes.set_ylim.html)を使って、横軸と縦軸の範囲を指定してやればよい（例えば、 $0.10 \\le x \\le 0.23$ と $0.05 \\le y \\le 0.10$）。"
   ]
  },
  {
   "cell_type": "markdown",
   "metadata": {},
   "source": [
    "## コッホ曲線（反復関数系）"
   ]
  },
  {
   "cell_type": "markdown",
   "metadata": {},
   "source": [
    "今度はコッホ曲線を違った方法で描いてみよう。次のような二つの二次元写像を繰り返すことを考える（反復関数系；iterated function system; IFS）："
   ]
  },
  {
   "cell_type": "markdown",
   "metadata": {},
   "source": [
    "$$\n",
    "\\begin{align}\n",
    "\\text{①} \\,\n",
    "&\\begin{cases}\n",
    "x_{n+1} = \\displaystyle \\frac{1}{2} x_n + \\frac{\\sqrt{3}}{6} y_n , \\\\\n",
    "y_{n+1} = \\displaystyle \\frac{\\sqrt{3}}{6} x_n - \\frac{1}{2} y_n ,\n",
    "\\end{cases}\n",
    "\\tag{4a} \\\\\n",
    "\\text{②} \\,\n",
    "&\\begin{cases}\n",
    "x_{n+1} = \\displaystyle \\frac{1}{2} x_n - \\frac{\\sqrt{3}}{6} y_n + \\frac{1}{2} , \\\\\n",
    "y_{n+1} = \\displaystyle - \\frac{\\sqrt{3}}{6} x_n - \\frac{1}{2} y_n + \\frac{\\sqrt{3}}{6} .\n",
    "\\end{cases}\n",
    "\\tag{4b}\n",
    "\\end{align}\n",
    "$$"
   ]
  },
  {
   "cell_type": "markdown",
   "metadata": {},
   "source": [
    "ただし、各ステップで写像①と②をそれぞれ確率 $1/2$ で、どちらか一つを選んで適用するものとする。このようにしてできる点の集合を**散布図**によって描画する（カオスゲーム；chaos game）。初期位置は $(x_0,y_0) = (0, 0)$ としてみよう。"
   ]
  },
  {
   "cell_type": "code",
   "execution_count": null,
   "metadata": {},
   "outputs": [],
   "source": [
    "%matplotlib inline\n",
    "import matplotlib.pyplot as plt\n",
    "import random\n",
    "from math import sqrt\n",
    "\n",
    "n = 10000  # ステップ数\n",
    "\n",
    "xpoints = []  # 各ステップでの位置を保存するリスト\n",
    "ypoints = []\n",
    "\n",
    "# 初期位置\n",
    "x = 0\n",
    "y = 0\n",
    "xpoints.append(x)\n",
    "ypoints.append(y)\n",
    "\n",
    "for _ in range(n):\n",
    "    # 二つの写像のどちらかをランダムに選んで適用する。\n",
    "    r = random.random()\n",
    "    if r < 0.5:\n",
    "        x_new = 1 / 2 * x + sqrt(3) / 6 * y\n",
    "        y_new = sqrt(3) / 6 * x - 1 / 2 * y\n",
    "    else:\n",
    "        x_new = 1 / 2 * x - sqrt(3) / 6 * y + 1 / 2\n",
    "        y_new = - sqrt(3) / 6 * x - 1 / 2 * y + sqrt(3) / 6\n",
    "        \n",
    "    x = x_new\n",
    "    y = y_new\n",
    "\n",
    "    # 各ステップでの位置をリストに追加\n",
    "    xpoints.append(x)\n",
    "    ypoints.append(y)\n",
    "\n",
    "# 散布図を描く。\n",
    "fig, ax = plt.subplots()\n",
    "ax.scatter(xpoints, ypoints, s=0.5)\n",
    "ax.set_aspect('equal')\n",
    "plt.show()"
   ]
  },
  {
   "cell_type": "markdown",
   "metadata": {},
   "source": [
    "## 練習問題"
   ]
  },
  {
   "cell_type": "markdown",
   "metadata": {},
   "source": [
    "(3) 式 (4a) と (4b) の係数を一つでも変更すると違う図形となることを確認してみよう（演習課題 (3) 参照）。"
   ]
  },
  {
   "cell_type": "markdown",
   "metadata": {},
   "source": [
    "## シェルピンスキーのギャスケット"
   ]
  },
  {
   "cell_type": "markdown",
   "metadata": {},
   "source": [
    "次の三つの写像からなる反復関数系を考える。"
   ]
  },
  {
   "cell_type": "markdown",
   "metadata": {},
   "source": [
    "$$\n",
    "\\begin{align}\n",
    "\\text{①} \\,\n",
    "&\\begin{cases}\n",
    "x_{n+1} = \\displaystyle \\frac{1}{2} x_n  , \\\\\n",
    "y_{n+1} = \\displaystyle \\frac{1}{2} y_n ,\n",
    "\\end{cases}\n",
    "\\tag{5a} \\\\\n",
    "\\text{②} \\,\n",
    "&\\begin{cases}\n",
    "x_{n+1} = \\displaystyle \\frac{1}{2} (x_n + 2) , \\\\\n",
    "y_{n+1} = \\displaystyle \\frac{1}{2} y_n ,\n",
    "\\end{cases}\n",
    "\\tag{5b} \\\\\n",
    "\\text{③} \\,\n",
    "&\\begin{cases}\n",
    "x_{n+1} = \\displaystyle \\frac{1}{2} (x_n + 1) , \\\\\n",
    "y_{n+1} = \\displaystyle \\frac{1}{2} (y_n + 1) .\n",
    "\\end{cases}\n",
    "\\tag{5c}\n",
    "\\end{align}\n",
    "$$"
   ]
  },
  {
   "cell_type": "markdown",
   "metadata": {},
   "source": [
    "ただし、①から③の写像をそれぞれ確率 $1/3$ で選ぶ。初期位置は $(x_0,y_0) = (1/2, 1/2)$ としてみよう。"
   ]
  },
  {
   "cell_type": "code",
   "execution_count": null,
   "metadata": {},
   "outputs": [],
   "source": [
    "%matplotlib inline\n",
    "import matplotlib.pyplot as plt\n",
    "import random\n",
    "\n",
    "n = 10000  # ステップ数\n",
    "\n",
    "xpoints = []  # 各ステップでの位置を保存するリスト\n",
    "ypoints = []\n",
    "\n",
    "# 初期位置\n",
    "x = 1 / 2\n",
    "y = 1 / 2\n",
    "xpoints.append(x)\n",
    "ypoints.append(y)\n",
    "\n",
    "for _ in range(n):\n",
    "    # 三つの写像のどれかを適用する。\n",
    "    r = random.random()\n",
    "    if r < 1 / 3:\n",
    "        x_new = 1 / 2 * x\n",
    "        y_new = 1 / 2 * y\n",
    "    elif r < 2 / 3:\n",
    "        x_new = 1 / 2 * (x + 2)\n",
    "        y_new = 1 / 2 * y\n",
    "    else:\n",
    "        x_new = 1 / 2 * (x + 1)\n",
    "        y_new = 1 / 2 * (y + 1)\n",
    "        \n",
    "    x = x_new\n",
    "    y = y_new\n",
    "\n",
    "    # 各ステップでの位置をリストに追加\n",
    "    xpoints.append(x)\n",
    "    ypoints.append(y)\n",
    "\n",
    "# 散布図を描く。\n",
    "fig, ax = plt.subplots()\n",
    "ax.scatter(xpoints, ypoints, s=0.5)\n",
    "ax.set_aspect('equal')\n",
    "plt.show()"
   ]
  },
  {
   "cell_type": "markdown",
   "metadata": {},
   "source": [
    "この図形はシェルピンスキーのギャスケット（Sierpiński gasket）と呼ばれる[<sup id=\"cite_ref-3\">[3]</sup>](#cite_note-3)。"
   ]
  },
  {
   "cell_type": "markdown",
   "metadata": {},
   "source": [
    "## 演習課題"
   ]
  },
  {
   "cell_type": "markdown",
   "metadata": {},
   "source": [
    "(1) 次の四つの写像からなる反復関数系を考える。"
   ]
  },
  {
   "cell_type": "markdown",
   "metadata": {},
   "source": [
    "$$\n",
    "\\begin{align}\n",
    "\\text{①} \\,\n",
    "&\\begin{cases}\n",
    "x_{n+1} = 0.8 x_n + 0.10 , \\\\\n",
    "y_{n+1} = 0.8 y_n + 0.06 ,\n",
    "\\end{cases}\n",
    "\\tag{6a} \\\\\n",
    "\\text{②} \\,\n",
    "&\\begin{cases}\n",
    "x_{n+1} = 0.5 x_n + 0.250 , \\\\\n",
    "y_{n+1} = 0.5 y_n + 0.465 ,\n",
    "\\end{cases}\n",
    "\\tag{6b} \\\\\n",
    "\\text{③} \\,\n",
    "&\\begin{cases}\n",
    "x_{n+1} = \\phantom{-} 0.355 x_n - 0.355 y_n + 0.266 , \\\\\n",
    "y_{n+1} = \\phantom{-} 0.355 x_n + 0.355 y_n + 0.078 ,\n",
    "\\end{cases}\n",
    "\\tag{6c} \\\\\n",
    "\\text{④} \\,\n",
    "&\\begin{cases}\n",
    "x_{n+1} = \\phantom{-} 0.355 x_n + 0.355 y_n + 0.378 , \\\\\n",
    "y_{n+1} = - 0.355 x_n + 0.355 y_n + 0.434 .\n",
    "\\end{cases}\n",
    "\\tag{6d}\n",
    "\\end{align}\n",
    "$$"
   ]
  },
  {
   "cell_type": "markdown",
   "metadata": {},
   "source": [
    "ただし、①から④の写像を選ぶ確率はそれぞれ① 0.5、② 0.168、③ 0.166、④ 0.166、初期位置は $(x_0,y_0) = (0.5, 0.5)$ とする。これらの写像を繰り返して得られる点の集合よりフラクタル図形を描画せよ。"
   ]
  },
  {
   "cell_type": "code",
   "execution_count": null,
   "metadata": {},
   "outputs": [],
   "source": [
    "# 課題解答11.1  <-- 提出する際に、この行を必ず含めること。\n",
    "\n",
    "%matplotlib inline\n",
    "import matplotlib.pyplot as plt\n",
    "import random\n",
    "\n",
    "\n"
   ]
  },
  {
   "cell_type": "markdown",
   "metadata": {},
   "source": [
    "(2) 次の四つの写像からなる反復関数系を考える。"
   ]
  },
  {
   "cell_type": "markdown",
   "metadata": {},
   "source": [
    "$$\n",
    "\\begin{align}\n",
    "\\text{①} \\,\n",
    "&\\begin{cases}\n",
    "x_{n+1} = \\phantom{-} 0.80 x_n + 0.05 y_n + 30 , \\\\\n",
    "y_{n+1} = - 0.05 x_n +0.80 y_n + 80,\n",
    "\\end{cases}\n",
    "\\tag{7a} \\\\\n",
    "\\text{②} \\,\n",
    "&\\begin{cases}\n",
    "x_{n+1} = \\phantom{-} 0.05 x_n - 0.30 y_n + 185 , \\\\\n",
    "y_{n+1} = \\phantom{-} 0.25 x_n + 0.15 y_n + 70,\n",
    "\\end{cases}\n",
    "\\tag{7b} \\\\\n",
    "\\text{③} \\,\n",
    "&\\begin{cases}\n",
    "x_{n+1} = - 0.05 x_n + 0.38 y_n + 150 , \\\\\n",
    "y_{n+1} = \\phantom{-} 0.26 x_n + 0.15 y_n + 50,\n",
    "\\end{cases}\n",
    "\\tag{7c} \\\\\n",
    "\\text{④} \\,\n",
    "&\\begin{cases}\n",
    "x_{n+1} = \\phantom{-} 170 , \\\\\n",
    "y_{n+1} = \\phantom{-} 0.20 x_n + 0.20 y_n + 25 .\n",
    "\\end{cases}\n",
    "\\tag{7d}\n",
    "\\end{align}\n",
    "$$"
   ]
  },
  {
   "cell_type": "markdown",
   "metadata": {},
   "source": [
    "ただし、①から④の写像を選ぶ確率はそれぞれ① 0.73、② 0.13、③ 0.12、④ 0.02、初期位置は $(x_0,y_0) = (200, 200)$ とする。これらの写像を繰り返して得られる点の集合よりフラクタル図形を描画せよ。"
   ]
  },
  {
   "cell_type": "code",
   "execution_count": null,
   "metadata": {},
   "outputs": [],
   "source": [
    "# 課題解答11.2  <-- 提出する際に、この行を必ず含めること。\n",
    "\n",
    "%matplotlib inline\n",
    "import matplotlib.pyplot as plt\n",
    "import random\n",
    "\n",
    "\n"
   ]
  },
  {
   "cell_type": "markdown",
   "metadata": {},
   "source": [
    "(3) 今回用いた写像の一般形は、平行移動を伴う線形写像"
   ]
  },
  {
   "cell_type": "markdown",
   "metadata": {},
   "source": [
    "$$\n",
    "\\begin{cases}\n",
    "x_{n+1} = a_{11} x_n + a_{12} y_n + b_1 , \\\\\n",
    "y_{n+1} = a_{21} x_n + a_{22} y_n + b_2 ,\n",
    "\\end{cases}\n",
    "\\tag{8}\n",
    "$$"
   ]
  },
  {
   "cell_type": "markdown",
   "metadata": {},
   "source": [
    "であり、アフィン写像（affine map）と呼ばれる。コッホ曲線を反復関数系で描画した例題プログラムのように、いま**二種類**のアフィン写像を用い、その係数を適宜修正してオリジナルの**フラクタル図形**を描画してみよう。ただし、二つの写像を選ぶ確率はそれぞれ **1/2 ずつに固定**することにする。いくつか試して、気に入ったデザインのもののを提出せよ。"
   ]
  },
  {
   "cell_type": "code",
   "execution_count": null,
   "metadata": {},
   "outputs": [],
   "source": [
    "# 課題解答11.3  <-- 提出する際に、この行を必ず含めること。\n",
    "\n",
    "%matplotlib inline\n",
    "import matplotlib.pyplot as plt\n",
    "import random\n",
    "# 使いたければmathモジュールの関数を適宜インポートせよ。\n",
    "\n",
    "\n"
   ]
  },
  {
   "cell_type": "markdown",
   "metadata": {},
   "source": [
    "## 参考"
   ]
  },
  {
   "cell_type": "markdown",
   "metadata": {},
   "source": [
    "式 (8) は、拡大係数行列を用いて表した"
   ]
  },
  {
   "cell_type": "markdown",
   "metadata": {},
   "source": [
    "$$\n",
    "\\begin{pmatrix}\n",
    "x_{n+1} \\\\\n",
    "y_{n+1} \\\\\n",
    "1\n",
    "\\end{pmatrix}\n",
    "=\n",
    "\\begin{pmatrix}\n",
    "a_{11} & a_{12} & b_1 \\\\\n",
    "a_{21} & a_{22} & b_2 \\\\\n",
    "0 & 0 & 1\n",
    "\\end{pmatrix}\n",
    "\\begin{pmatrix}\n",
    "x_n \\\\\n",
    "y_n \\\\\n",
    "1\n",
    "\\end{pmatrix} ,\n",
    "\\tag{9}\n",
    "$$"
   ]
  },
  {
   "cell_type": "markdown",
   "metadata": {},
   "source": [
    "と等価である。このような行列は（正則であれば）群を成し、座標変換を表すのに都合がよい。任意のアフィン変換は回転、拡大縮小、平行移動を表す行列の積として表される[<sup id=\"cite_ref-4\">[4]</sup>](#cite_note-4)[<sup id=\"cite_ref-5\">[5]</sup>](#cite_note-5)。"
   ]
  },
  {
   "cell_type": "markdown",
   "metadata": {},
   "source": [
    "$$\n",
    "\\begin{align}\n",
    "\\text{Rotation}(\\theta) &=\n",
    "\\begin{pmatrix}\n",
    "\\cos(\\theta) & - \\sin(\\theta) & 0 \\\\\n",
    "\\sin(\\theta) & \\phantom{-} \\cos(\\theta) & 0 \\\\\n",
    "0 & 0 & 1\n",
    "\\end{pmatrix} ,\n",
    "\\tag{10a} \\\\\n",
    "\\text{Scaling}(s_x, s_y) &=\n",
    "\\begin{pmatrix}\n",
    "s_x & 0 & 0 \\\\\n",
    "0 & s_y & 0 \\\\\n",
    "0 & 0 & 1\n",
    "\\end{pmatrix} ,\n",
    "\\tag{10b} \\\\\n",
    "\\text{Translation}(t_x, t_y) &=\n",
    "\\begin{pmatrix}\n",
    "1 & 0 & t_x \\\\\n",
    "0 & 1 & t_y \\\\\n",
    "0 & 0 & 1\n",
    "\\end{pmatrix} .\n",
    "\\tag{10c}\n",
    "\\end{align}\n",
    "$$"
   ]
  },
  {
   "cell_type": "markdown",
   "metadata": {},
   "source": [
    "三次元空間への拡張も容易である。複数のアフィン変換の合成も行列の積によって一つにまとめることができるなど非常に便利であり、コンピューターグラフィックスの分野などで多用される。"
   ]
  },
  {
   "cell_type": "markdown",
   "metadata": {},
   "source": [
    "行列の積によるアフィン写像の合成の例として、式 (4a) と (4b) の写像はそれぞれ、次のような行列の積で表される。"
   ]
  },
  {
   "cell_type": "markdown",
   "metadata": {},
   "source": [
    "$$\n",
    "\\begin{pmatrix}\n",
    "\\displaystyle \\cos\\left(\\frac{\\pi}{6}\\right) \\vphantom{\\frac{1}{\\sqrt{3}}} &\n",
    "\\displaystyle -\\sin\\left(\\frac{\\pi}{6}\\right) &\n",
    "0 \\\\\n",
    "\\displaystyle \\sin\\left(\\frac{\\pi}{6}\\right) \\vphantom{\\frac{1}{\\sqrt{3}}} &\n",
    "\\displaystyle \\phantom{-} \\cos\\left(\\frac{\\pi}{6}\\right) & \n",
    "0 \\\\\n",
    "0 & 0 & 1\n",
    "\\end{pmatrix}\n",
    "\\begin{pmatrix}\n",
    "\\displaystyle \\frac{1}{\\sqrt{3}} & 0 & 0 \\\\\n",
    "0 & \\displaystyle - \\frac{1}{\\sqrt{3}} & 0 \\\\\n",
    "0 & 0 & 1\n",
    "\\end{pmatrix}\n",
    "=\n",
    "\\begin{pmatrix}\n",
    "\\displaystyle \\frac{1}{2} &\n",
    "\\displaystyle \\frac{\\sqrt{3}}{6} & 0 \\\\\n",
    "\\displaystyle \\frac{\\sqrt{3}}{6} &\n",
    "\\displaystyle - \\frac{1}{2} & 0 \\\\\n",
    "0 & 0 & 1\n",
    "\\end{pmatrix} ,\n",
    "\\tag{11a}\n",
    "$$"
   ]
  },
  {
   "cell_type": "markdown",
   "metadata": {},
   "source": [
    "$$\n",
    "\\begin{pmatrix}\n",
    "1 &\n",
    "0 &\n",
    "\\displaystyle \\frac{1}{2} \\vphantom{\\frac{1}{\\sqrt{3}}} \\\\\n",
    "0 &\n",
    "1 & \n",
    "\\displaystyle \\frac{\\sqrt{3}}{6} \\\\\n",
    "0 & 0 & 1\n",
    "\\end{pmatrix}\n",
    "\\begin{pmatrix}\n",
    "\\displaystyle \\cos\\left(-\\frac{\\pi}{6}\\right) \\vphantom{\\frac{1}{\\sqrt{3}}} &\n",
    "\\displaystyle -\\sin\\left(-\\frac{\\pi}{6}\\right) &\n",
    "0 \\\\\n",
    "\\displaystyle \\sin\\left(-\\frac{\\pi}{6}\\right) \\vphantom{\\frac{1}{\\sqrt{3}}} &\n",
    "\\displaystyle \\phantom{-} \\cos\\left(-\\frac{\\pi}{6}\\right) & \n",
    "0 \\\\\n",
    "0 & 0 & 1\n",
    "\\end{pmatrix}\n",
    "\\begin{pmatrix}\n",
    "\\displaystyle \\frac{1}{\\sqrt{3}} & 0 & 0 \\\\\n",
    "0 & \\displaystyle - \\frac{1}{\\sqrt{3}} & 0 \\\\\n",
    "0 & 0 & 1\n",
    "\\end{pmatrix}\n",
    "=\n",
    "\\begin{pmatrix}\n",
    "\\displaystyle \\frac{1}{2} &\n",
    "\\displaystyle - \\frac{\\sqrt{3}}{6} &\n",
    "\\displaystyle \\frac{1}{2} \\\\\n",
    "\\displaystyle - \\frac{\\sqrt{3}}{6} &\n",
    "\\displaystyle - \\frac{1}{2} &\n",
    "\\displaystyle \\frac{\\sqrt{3}}{6} \\\\\n",
    "0 & 0 & 1\n",
    "\\end{pmatrix} .\n",
    "\\tag{11b}\n",
    "$$"
   ]
  },
  {
   "cell_type": "markdown",
   "metadata": {},
   "source": [
    "これらは、図 2 の$\\triangle P_1 P_2 B$ を、それぞれ $\\triangle P_1 B A$ と $\\triangle B P_2 C$ に移す写像となっている。"
   ]
  },
  {
   "cell_type": "markdown",
   "metadata": {},
   "source": [
    "## 脚注"
   ]
  },
  {
   "cell_type": "markdown",
   "metadata": {},
   "source": [
    "<span id=\"cite_note-1\">1.</span> [^](#cite_ref-1)\n",
    "分割操作を無限に繰り返して得られるのがコッホ曲線であるが、当然、計算機上では有限回の繰り返しで止めるという近似を行うことになる。"
   ]
  },
  {
   "cell_type": "markdown",
   "metadata": {},
   "source": [
    "<span id=\"cite_note-2\">2.</span> [^](#cite_ref-2)\n",
    "コッホ曲線の分割操作を 1 回行うと、線分の全長は $4/3$ 倍になる。これを無限回繰り返すことになるので、コッホ曲線の長さは無限大である。よって、コッホ曲線を三つつないだ図形であるコッホ雪片の周の長さも無限大となる。一方、面積については、$n$ 回目の操作によって面積が $(1/3)^{2n} \\sqrt{3} \\, / 4$ である $3 \\times 4^{n-1}$ 個の正三角形の分だけ増えるから、もとの三角形の面積とこれらを（無限個）すべて足し合わせて、$2\\sqrt{3} \\, / 5$ と求まる。"
   ]
  },
  {
   "cell_type": "markdown",
   "metadata": {},
   "source": [
    "<span id=\"cite_note-3\">3.</span> [^](#cite_ref-3)\n",
    "次回またこの図形にお目にかかるかもしれない。"
   ]
  },
  {
   "cell_type": "markdown",
   "metadata": {},
   "source": [
    "<span id=\"cite_note-4\">4.</span> [^](#cite_ref-4)\n",
    "剪断（せんだん）と呼ばれる写像もあるが、これは特異値分解（singular value decomposition; SVD）という行列分解によって、いくつかの拡大縮小と回転の積へと分解できる。"
   ]
  },
  {
   "cell_type": "markdown",
   "metadata": {},
   "source": [
    "<span id=\"cite_note-5\">5.</span> [^](#cite_ref-5)\n",
    "これを見ていると、反復関数系に $\\displaystyle \\begin{vmatrix} a_{11} & a_{12} \\\\ a_{21} & a_{22} \\end{vmatrix}$ の絶対値が $1$ より大きいような写像を入れると、それは拡大変換を含んでいるのだから、原点からの距離がどんどん大きくなってしまってまずそうだ（固定点がなく収束しない）、ということが分かるだろう。"
   ]
  }
 ],
 "metadata": {
  "kernelspec": {
   "display_name": "Python 3",
   "language": "python",
   "name": "python3"
  },
  "language_info": {
   "codemirror_mode": {
    "name": "ipython",
    "version": 3
   },
   "file_extension": ".py",
   "mimetype": "text/x-python",
   "name": "python",
   "nbconvert_exporter": "python",
   "pygments_lexer": "ipython3",
   "version": "3.7.7"
  }
 },
 "nbformat": 4,
 "nbformat_minor": 4
}
